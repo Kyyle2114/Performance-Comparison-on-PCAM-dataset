{
 "cells": [
  {
   "cell_type": "code",
   "execution_count": 1,
   "metadata": {},
   "outputs": [],
   "source": [
    "import numpy as np\n",
    "import matplotlib.pyplot as plt\n",
    "import warnings\n",
    "warnings.filterwarnings('ignore')\n",
    "\n",
    "import torch\n",
    "import torch.nn as nn\n",
    "import torch.optim as optim\n",
    "\n",
    "from utils import seed\n",
    "from data import dataset\n",
    "from model.backbone import VGG16, ResNet34\n",
    "from model import basic_classifier\n",
    "from utils import train\n",
    "\n",
    "seed.seed_everything()"
   ]
  },
  {
   "cell_type": "code",
   "execution_count": 2,
   "metadata": {},
   "outputs": [
    {
     "name": "stdout",
     "output_type": "stream",
     "text": [
      "cuda:0\n"
     ]
    }
   ],
   "source": [
    "device = 'cuda:0' if torch.cuda.is_available() else 'cpu'\n",
    "print(device)"
   ]
  },
  {
   "cell_type": "markdown",
   "metadata": {},
   "source": [
    "# VGG"
   ]
  },
  {
   "cell_type": "code",
   "execution_count": 3,
   "metadata": {},
   "outputs": [],
   "source": [
    "# (already downloaded) dataset path \n",
    "path = './data'\n",
    "\n",
    "train_loader, val_loader, test_loader = dataset.load_pcam(path=path, \n",
    "                                                          input_shape=96,\n",
    "                                                          augmentation=True,\n",
    "                                                          normalize=True,\n",
    "                                                          batch_size=256,\n",
    "                                                          seed=21)"
   ]
  },
  {
   "cell_type": "code",
   "execution_count": 4,
   "metadata": {},
   "outputs": [
    {
     "name": "stdout",
     "output_type": "stream",
     "text": [
      "BasicClassifier(\n",
      "  (backbone): Sequential(\n",
      "    (0): Conv2d(3, 64, kernel_size=(3, 3), stride=(1, 1), padding=(1, 1))\n",
      "    (1): ReLU(inplace=True)\n",
      "    (2): Conv2d(64, 64, kernel_size=(3, 3), stride=(1, 1), padding=(1, 1))\n",
      "    (3): ReLU(inplace=True)\n",
      "    (4): MaxPool2d(kernel_size=2, stride=2, padding=0, dilation=1, ceil_mode=False)\n",
      "    (5): Conv2d(64, 128, kernel_size=(3, 3), stride=(1, 1), padding=(1, 1))\n",
      "    (6): ReLU(inplace=True)\n",
      "    (7): Conv2d(128, 128, kernel_size=(3, 3), stride=(1, 1), padding=(1, 1))\n",
      "    (8): ReLU(inplace=True)\n",
      "    (9): MaxPool2d(kernel_size=2, stride=2, padding=0, dilation=1, ceil_mode=False)\n",
      "    (10): Conv2d(128, 256, kernel_size=(3, 3), stride=(1, 1), padding=(1, 1))\n",
      "    (11): ReLU(inplace=True)\n",
      "    (12): Conv2d(256, 256, kernel_size=(3, 3), stride=(1, 1), padding=(1, 1))\n",
      "    (13): ReLU(inplace=True)\n",
      "    (14): Conv2d(256, 256, kernel_size=(3, 3), stride=(1, 1), padding=(1, 1))\n",
      "    (15): ReLU(inplace=True)\n",
      "    (16): MaxPool2d(kernel_size=2, stride=2, padding=0, dilation=1, ceil_mode=False)\n",
      "    (17): Conv2d(256, 512, kernel_size=(3, 3), stride=(1, 1), padding=(1, 1))\n",
      "    (18): ReLU(inplace=True)\n",
      "    (19): Conv2d(512, 512, kernel_size=(3, 3), stride=(1, 1), padding=(1, 1))\n",
      "    (20): ReLU(inplace=True)\n",
      "    (21): Conv2d(512, 512, kernel_size=(3, 3), stride=(1, 1), padding=(1, 1))\n",
      "    (22): ReLU(inplace=True)\n",
      "    (23): MaxPool2d(kernel_size=2, stride=2, padding=0, dilation=1, ceil_mode=False)\n",
      "    (24): Conv2d(512, 512, kernel_size=(3, 3), stride=(1, 1), padding=(1, 1))\n",
      "    (25): ReLU(inplace=True)\n",
      "    (26): Conv2d(512, 512, kernel_size=(3, 3), stride=(1, 1), padding=(1, 1))\n",
      "    (27): ReLU(inplace=True)\n",
      "    (28): Conv2d(512, 512, kernel_size=(3, 3), stride=(1, 1), padding=(1, 1))\n",
      "    (29): ReLU(inplace=True)\n",
      "    (30): MaxPool2d(kernel_size=2, stride=2, padding=0, dilation=1, ceil_mode=False)\n",
      "  )\n",
      "  (avg): AdaptiveAvgPool2d(output_size=(1, 1))\n",
      "  (fc): Sequential(\n",
      "    (0): Flatten(start_dim=1, end_dim=-1)\n",
      "    (1): Linear(in_features=512, out_features=64, bias=True)\n",
      "    (2): ReLU()\n",
      "    (3): Dropout(p=0.5, inplace=False)\n",
      "    (4): Linear(in_features=64, out_features=1, bias=True)\n",
      "  )\n",
      ")\n"
     ]
    }
   ],
   "source": [
    "backbone = VGG16.VGG16_Backbone(pretrain=True).to(device=device)\n",
    "model = basic_classifier.BasicClassifier(backbone=backbone, \n",
    "                                         freezing=True, \n",
    "                                         num_classes=1).to(device=device)\n",
    "\n",
    "print(model)"
   ]
  },
  {
   "cell_type": "code",
   "execution_count": 5,
   "metadata": {},
   "outputs": [],
   "source": [
    "EPOCHS = 50\n",
    "\n",
    "criterion = nn.BCELoss()\n",
    "optimizer = optim.Adam(model.parameters(), lr=1e-3, weight_decay=1e-3)\n",
    "es = train.EarlyStopping(patience=EPOCHS//2, delta=0, mode='min', verbose=True)\n",
    "scheduler = optim.lr_scheduler.StepLR(optimizer, step_size=EPOCHS//5, gamma=0.9)\n",
    "\n",
    "history = {'train_loss' : [],\n",
    "           'val_loss': [],\n",
    "           'train_accuracy': [],\n",
    "           'val_accuracy': []}\n",
    "           \n",
    "max_loss = np.inf    "
   ]
  },
  {
   "cell_type": "code",
   "execution_count": 6,
   "metadata": {},
   "outputs": [
    {
     "name": "stderr",
     "output_type": "stream",
     "text": [
      "100%|███████████████████████████████████████████████████████████████████████████| 1024/1024 [09:07<00:00,  1.87it/s]\n"
     ]
    },
    {
     "name": "stdout",
     "output_type": "stream",
     "text": [
      "[EarlyStopping] (Update) Best Score: 0.43492\n",
      "[INFO] val_loss has been improved from inf to 0.43492. Save model.\n",
      "epoch 01, loss: 0.41964, accuracy: 0.80840, val_loss: 0.43492, val_accuracy: 0.78830 \n",
      "\n"
     ]
    },
    {
     "name": "stderr",
     "output_type": "stream",
     "text": [
      "100%|███████████████████████████████████████████████████████████████████████████| 1024/1024 [09:08<00:00,  1.87it/s]\n"
     ]
    },
    {
     "name": "stdout",
     "output_type": "stream",
     "text": [
      "[EarlyStopping] (Update) Best Score: 0.43046\n",
      "[INFO] val_loss has been improved from 0.43492 to 0.43046. Save model.\n",
      "epoch 02, loss: 0.39392, accuracy: 0.82237, val_loss: 0.43046, val_accuracy: 0.79050 \n",
      "\n"
     ]
    },
    {
     "name": "stderr",
     "output_type": "stream",
     "text": [
      "100%|███████████████████████████████████████████████████████████████████████████| 1024/1024 [09:06<00:00,  1.87it/s]\n"
     ]
    },
    {
     "name": "stdout",
     "output_type": "stream",
     "text": [
      "[EarlyStopping] (Patience) 1/25, Best: 0.43046, Current: 0.43797, Delta: 0.00751\n",
      "epoch 03, loss: 0.38826, accuracy: 0.82529, val_loss: 0.43797, val_accuracy: 0.79388 \n",
      "\n"
     ]
    },
    {
     "name": "stderr",
     "output_type": "stream",
     "text": [
      "100%|███████████████████████████████████████████████████████████████████████████| 1024/1024 [09:09<00:00,  1.86it/s]\n"
     ]
    },
    {
     "name": "stdout",
     "output_type": "stream",
     "text": [
      "[EarlyStopping] (Update) Best Score: 0.42292\n",
      "[INFO] val_loss has been improved from 0.43046 to 0.42292. Save model.\n",
      "epoch 04, loss: 0.38531, accuracy: 0.82659, val_loss: 0.42292, val_accuracy: 0.79407 \n",
      "\n"
     ]
    },
    {
     "name": "stderr",
     "output_type": "stream",
     "text": [
      "100%|███████████████████████████████████████████████████████████████████████████| 1024/1024 [09:08<00:00,  1.87it/s]\n"
     ]
    },
    {
     "name": "stdout",
     "output_type": "stream",
     "text": [
      "[EarlyStopping] (Patience) 1/25, Best: 0.42292, Current: 0.42902, Delta: 0.00610\n",
      "epoch 05, loss: 0.38549, accuracy: 0.82757, val_loss: 0.42902, val_accuracy: 0.79407 \n",
      "\n"
     ]
    },
    {
     "name": "stderr",
     "output_type": "stream",
     "text": [
      "100%|███████████████████████████████████████████████████████████████████████████| 1024/1024 [09:10<00:00,  1.86it/s]\n"
     ]
    },
    {
     "name": "stdout",
     "output_type": "stream",
     "text": [
      "[EarlyStopping] (Patience) 2/25, Best: 0.42292, Current: 0.42937, Delta: 0.00645\n",
      "epoch 06, loss: 0.38250, accuracy: 0.82898, val_loss: 0.42937, val_accuracy: 0.79254 \n",
      "\n"
     ]
    },
    {
     "name": "stderr",
     "output_type": "stream",
     "text": [
      "100%|███████████████████████████████████████████████████████████████████████████| 1024/1024 [09:09<00:00,  1.86it/s]\n"
     ]
    },
    {
     "name": "stdout",
     "output_type": "stream",
     "text": [
      "[EarlyStopping] (Patience) 3/25, Best: 0.42292, Current: 0.42552, Delta: 0.00260\n",
      "epoch 07, loss: 0.38193, accuracy: 0.82906, val_loss: 0.42552, val_accuracy: 0.79675 \n",
      "\n"
     ]
    },
    {
     "name": "stderr",
     "output_type": "stream",
     "text": [
      "100%|███████████████████████████████████████████████████████████████████████████| 1024/1024 [09:08<00:00,  1.87it/s]\n"
     ]
    },
    {
     "name": "stdout",
     "output_type": "stream",
     "text": [
      "[EarlyStopping] (Update) Best Score: 0.42134\n",
      "[INFO] val_loss has been improved from 0.42292 to 0.42134. Save model.\n",
      "epoch 08, loss: 0.38150, accuracy: 0.82930, val_loss: 0.42134, val_accuracy: 0.79703 \n",
      "\n"
     ]
    },
    {
     "name": "stderr",
     "output_type": "stream",
     "text": [
      "100%|███████████████████████████████████████████████████████████████████████████| 1024/1024 [09:10<00:00,  1.86it/s]\n"
     ]
    },
    {
     "name": "stdout",
     "output_type": "stream",
     "text": [
      "[EarlyStopping] (Patience) 1/25, Best: 0.42134, Current: 0.43093, Delta: 0.00959\n",
      "epoch 09, loss: 0.38069, accuracy: 0.82976, val_loss: 0.43093, val_accuracy: 0.78967 \n",
      "\n"
     ]
    },
    {
     "name": "stderr",
     "output_type": "stream",
     "text": [
      "100%|███████████████████████████████████████████████████████████████████████████| 1024/1024 [09:09<00:00,  1.86it/s]\n"
     ]
    },
    {
     "name": "stdout",
     "output_type": "stream",
     "text": [
      "[EarlyStopping] (Update) Best Score: 0.41808\n",
      "[INFO] val_loss has been improved from 0.42134 to 0.41808. Save model.\n",
      "epoch 10, loss: 0.38032, accuracy: 0.82973, val_loss: 0.41808, val_accuracy: 0.79602 \n",
      "\n"
     ]
    },
    {
     "name": "stderr",
     "output_type": "stream",
     "text": [
      "100%|███████████████████████████████████████████████████████████████████████████| 1024/1024 [09:09<00:00,  1.86it/s]\n"
     ]
    },
    {
     "name": "stdout",
     "output_type": "stream",
     "text": [
      "[EarlyStopping] (Patience) 1/25, Best: 0.41808, Current: 0.41945, Delta: 0.00137\n",
      "epoch 11, loss: 0.37823, accuracy: 0.83176, val_loss: 0.41945, val_accuracy: 0.79675 \n",
      "\n"
     ]
    },
    {
     "name": "stderr",
     "output_type": "stream",
     "text": [
      "100%|███████████████████████████████████████████████████████████████████████████| 1024/1024 [09:11<00:00,  1.86it/s]\n"
     ]
    },
    {
     "name": "stdout",
     "output_type": "stream",
     "text": [
      "[EarlyStopping] (Patience) 2/25, Best: 0.41808, Current: 0.43025, Delta: 0.01217\n",
      "epoch 12, loss: 0.37700, accuracy: 0.83241, val_loss: 0.43025, val_accuracy: 0.78918 \n",
      "\n"
     ]
    },
    {
     "name": "stderr",
     "output_type": "stream",
     "text": [
      "100%|███████████████████████████████████████████████████████████████████████████| 1024/1024 [09:12<00:00,  1.85it/s]\n"
     ]
    },
    {
     "name": "stdout",
     "output_type": "stream",
     "text": [
      "[EarlyStopping] (Patience) 3/25, Best: 0.41808, Current: 0.43847, Delta: 0.02038\n",
      "epoch 13, loss: 0.37818, accuracy: 0.83167, val_loss: 0.43847, val_accuracy: 0.78305 \n",
      "\n"
     ]
    },
    {
     "name": "stderr",
     "output_type": "stream",
     "text": [
      "100%|███████████████████████████████████████████████████████████████████████████| 1024/1024 [09:10<00:00,  1.86it/s]\n"
     ]
    },
    {
     "name": "stdout",
     "output_type": "stream",
     "text": [
      "[EarlyStopping] (Patience) 4/25, Best: 0.41808, Current: 0.42467, Delta: 0.00658\n",
      "epoch 14, loss: 0.37692, accuracy: 0.83193, val_loss: 0.42467, val_accuracy: 0.79266 \n",
      "\n"
     ]
    },
    {
     "name": "stderr",
     "output_type": "stream",
     "text": [
      "100%|███████████████████████████████████████████████████████████████████████████| 1024/1024 [09:10<00:00,  1.86it/s]\n"
     ]
    },
    {
     "name": "stdout",
     "output_type": "stream",
     "text": [
      "[EarlyStopping] (Patience) 5/25, Best: 0.41808, Current: 0.42270, Delta: 0.00462\n",
      "epoch 15, loss: 0.37706, accuracy: 0.83173, val_loss: 0.42270, val_accuracy: 0.79678 \n",
      "\n"
     ]
    },
    {
     "name": "stderr",
     "output_type": "stream",
     "text": [
      "100%|███████████████████████████████████████████████████████████████████████████| 1024/1024 [09:07<00:00,  1.87it/s]\n"
     ]
    },
    {
     "name": "stdout",
     "output_type": "stream",
     "text": [
      "[EarlyStopping] (Patience) 6/25, Best: 0.41808, Current: 0.42947, Delta: 0.01139\n",
      "epoch 16, loss: 0.37777, accuracy: 0.83191, val_loss: 0.42947, val_accuracy: 0.79468 \n",
      "\n"
     ]
    },
    {
     "name": "stderr",
     "output_type": "stream",
     "text": [
      "100%|███████████████████████████████████████████████████████████████████████████| 1024/1024 [09:09<00:00,  1.86it/s]\n"
     ]
    },
    {
     "name": "stdout",
     "output_type": "stream",
     "text": [
      "[EarlyStopping] (Update) Best Score: 0.41662\n",
      "[INFO] val_loss has been improved from 0.41808 to 0.41662. Save model.\n",
      "epoch 17, loss: 0.37721, accuracy: 0.83258, val_loss: 0.41662, val_accuracy: 0.79651 \n",
      "\n"
     ]
    },
    {
     "name": "stderr",
     "output_type": "stream",
     "text": [
      "100%|███████████████████████████████████████████████████████████████████████████| 1024/1024 [09:12<00:00,  1.85it/s]\n"
     ]
    },
    {
     "name": "stdout",
     "output_type": "stream",
     "text": [
      "[EarlyStopping] (Patience) 1/25, Best: 0.41662, Current: 0.44426, Delta: 0.02764\n",
      "epoch 18, loss: 0.37742, accuracy: 0.83202, val_loss: 0.44426, val_accuracy: 0.78149 \n",
      "\n"
     ]
    },
    {
     "name": "stderr",
     "output_type": "stream",
     "text": [
      "100%|███████████████████████████████████████████████████████████████████████████| 1024/1024 [09:11<00:00,  1.86it/s]\n"
     ]
    },
    {
     "name": "stdout",
     "output_type": "stream",
     "text": [
      "[EarlyStopping] (Patience) 2/25, Best: 0.41662, Current: 0.41876, Delta: 0.00214\n",
      "epoch 19, loss: 0.37723, accuracy: 0.83209, val_loss: 0.41876, val_accuracy: 0.79950 \n",
      "\n"
     ]
    },
    {
     "name": "stderr",
     "output_type": "stream",
     "text": [
      "100%|███████████████████████████████████████████████████████████████████████████| 1024/1024 [09:10<00:00,  1.86it/s]\n"
     ]
    },
    {
     "name": "stdout",
     "output_type": "stream",
     "text": [
      "[EarlyStopping] (Patience) 3/25, Best: 0.41662, Current: 0.44639, Delta: 0.02976\n",
      "epoch 20, loss: 0.37650, accuracy: 0.83231, val_loss: 0.44639, val_accuracy: 0.78442 \n",
      "\n"
     ]
    },
    {
     "name": "stderr",
     "output_type": "stream",
     "text": [
      "100%|███████████████████████████████████████████████████████████████████████████| 1024/1024 [09:14<00:00,  1.85it/s]\n"
     ]
    },
    {
     "name": "stdout",
     "output_type": "stream",
     "text": [
      "[EarlyStopping] (Patience) 4/25, Best: 0.41662, Current: 0.41975, Delta: 0.00312\n",
      "epoch 21, loss: 0.37433, accuracy: 0.83361, val_loss: 0.41975, val_accuracy: 0.79745 \n",
      "\n"
     ]
    },
    {
     "name": "stderr",
     "output_type": "stream",
     "text": [
      "100%|███████████████████████████████████████████████████████████████████████████| 1024/1024 [09:10<00:00,  1.86it/s]\n"
     ]
    },
    {
     "name": "stdout",
     "output_type": "stream",
     "text": [
      "[EarlyStopping] (Update) Best Score: 0.40728\n",
      "[INFO] val_loss has been improved from 0.41662 to 0.40728. Save model.\n",
      "epoch 22, loss: 0.37425, accuracy: 0.83383, val_loss: 0.40728, val_accuracy: 0.80328 \n",
      "\n"
     ]
    },
    {
     "name": "stderr",
     "output_type": "stream",
     "text": [
      "100%|███████████████████████████████████████████████████████████████████████████| 1024/1024 [09:11<00:00,  1.86it/s]\n"
     ]
    },
    {
     "name": "stdout",
     "output_type": "stream",
     "text": [
      "[EarlyStopping] (Patience) 1/25, Best: 0.40728, Current: 0.44430, Delta: 0.03701\n",
      "epoch 23, loss: 0.37603, accuracy: 0.83258, val_loss: 0.44430, val_accuracy: 0.78659 \n",
      "\n"
     ]
    },
    {
     "name": "stderr",
     "output_type": "stream",
     "text": [
      "100%|███████████████████████████████████████████████████████████████████████████| 1024/1024 [09:11<00:00,  1.86it/s]\n"
     ]
    },
    {
     "name": "stdout",
     "output_type": "stream",
     "text": [
      "[EarlyStopping] (Patience) 2/25, Best: 0.40728, Current: 0.41652, Delta: 0.00924\n",
      "epoch 24, loss: 0.37431, accuracy: 0.83296, val_loss: 0.41652, val_accuracy: 0.80023 \n",
      "\n"
     ]
    },
    {
     "name": "stderr",
     "output_type": "stream",
     "text": [
      "100%|███████████████████████████████████████████████████████████████████████████| 1024/1024 [09:10<00:00,  1.86it/s]\n"
     ]
    },
    {
     "name": "stdout",
     "output_type": "stream",
     "text": [
      "[EarlyStopping] (Patience) 3/25, Best: 0.40728, Current: 0.43082, Delta: 0.02354\n",
      "epoch 25, loss: 0.37430, accuracy: 0.83352, val_loss: 0.43082, val_accuracy: 0.79214 \n",
      "\n"
     ]
    },
    {
     "name": "stderr",
     "output_type": "stream",
     "text": [
      "100%|███████████████████████████████████████████████████████████████████████████| 1024/1024 [09:12<00:00,  1.85it/s]\n"
     ]
    },
    {
     "name": "stdout",
     "output_type": "stream",
     "text": [
      "[EarlyStopping] (Patience) 4/25, Best: 0.40728, Current: 0.44360, Delta: 0.03632\n",
      "epoch 26, loss: 0.37372, accuracy: 0.83369, val_loss: 0.44360, val_accuracy: 0.78854 \n",
      "\n"
     ]
    },
    {
     "name": "stderr",
     "output_type": "stream",
     "text": [
      "100%|███████████████████████████████████████████████████████████████████████████| 1024/1024 [09:11<00:00,  1.86it/s]\n"
     ]
    },
    {
     "name": "stdout",
     "output_type": "stream",
     "text": [
      "[EarlyStopping] (Patience) 5/25, Best: 0.40728, Current: 0.42401, Delta: 0.01673\n",
      "epoch 27, loss: 0.37407, accuracy: 0.83351, val_loss: 0.42401, val_accuracy: 0.80286 \n",
      "\n"
     ]
    },
    {
     "name": "stderr",
     "output_type": "stream",
     "text": [
      "100%|███████████████████████████████████████████████████████████████████████████| 1024/1024 [09:12<00:00,  1.85it/s]\n"
     ]
    },
    {
     "name": "stdout",
     "output_type": "stream",
     "text": [
      "[EarlyStopping] (Patience) 6/25, Best: 0.40728, Current: 0.44558, Delta: 0.03830\n",
      "epoch 28, loss: 0.37551, accuracy: 0.83250, val_loss: 0.44558, val_accuracy: 0.79092 \n",
      "\n"
     ]
    },
    {
     "name": "stderr",
     "output_type": "stream",
     "text": [
      "100%|███████████████████████████████████████████████████████████████████████████| 1024/1024 [09:10<00:00,  1.86it/s]\n"
     ]
    },
    {
     "name": "stdout",
     "output_type": "stream",
     "text": [
      "[EarlyStopping] (Patience) 7/25, Best: 0.40728, Current: 0.42536, Delta: 0.01808\n",
      "epoch 29, loss: 0.37415, accuracy: 0.83394, val_loss: 0.42536, val_accuracy: 0.79706 \n",
      "\n"
     ]
    },
    {
     "name": "stderr",
     "output_type": "stream",
     "text": [
      "100%|███████████████████████████████████████████████████████████████████████████| 1024/1024 [09:11<00:00,  1.86it/s]\n"
     ]
    },
    {
     "name": "stdout",
     "output_type": "stream",
     "text": [
      "[EarlyStopping] (Patience) 8/25, Best: 0.40728, Current: 0.42071, Delta: 0.01343\n",
      "epoch 30, loss: 0.37350, accuracy: 0.83381, val_loss: 0.42071, val_accuracy: 0.80154 \n",
      "\n"
     ]
    },
    {
     "name": "stderr",
     "output_type": "stream",
     "text": [
      "100%|███████████████████████████████████████████████████████████████████████████| 1024/1024 [09:12<00:00,  1.85it/s]\n"
     ]
    },
    {
     "name": "stdout",
     "output_type": "stream",
     "text": [
      "[EarlyStopping] (Patience) 9/25, Best: 0.40728, Current: 0.41865, Delta: 0.01137\n",
      "epoch 31, loss: 0.37265, accuracy: 0.83458, val_loss: 0.41865, val_accuracy: 0.79861 \n",
      "\n"
     ]
    },
    {
     "name": "stderr",
     "output_type": "stream",
     "text": [
      "100%|███████████████████████████████████████████████████████████████████████████| 1024/1024 [09:09<00:00,  1.87it/s]\n"
     ]
    },
    {
     "name": "stdout",
     "output_type": "stream",
     "text": [
      "[EarlyStopping] (Patience) 10/25, Best: 0.40728, Current: 0.42020, Delta: 0.01292\n",
      "epoch 32, loss: 0.37261, accuracy: 0.83511, val_loss: 0.42020, val_accuracy: 0.79990 \n",
      "\n"
     ]
    },
    {
     "name": "stderr",
     "output_type": "stream",
     "text": [
      "100%|███████████████████████████████████████████████████████████████████████████| 1024/1024 [09:11<00:00,  1.86it/s]\n"
     ]
    },
    {
     "name": "stdout",
     "output_type": "stream",
     "text": [
      "[EarlyStopping] (Patience) 11/25, Best: 0.40728, Current: 0.44010, Delta: 0.03282\n",
      "epoch 33, loss: 0.37130, accuracy: 0.83541, val_loss: 0.44010, val_accuracy: 0.78979 \n",
      "\n"
     ]
    },
    {
     "name": "stderr",
     "output_type": "stream",
     "text": [
      "100%|███████████████████████████████████████████████████████████████████████████| 1024/1024 [09:13<00:00,  1.85it/s]\n"
     ]
    },
    {
     "name": "stdout",
     "output_type": "stream",
     "text": [
      "[EarlyStopping] (Patience) 12/25, Best: 0.40728, Current: 0.42290, Delta: 0.01562\n",
      "epoch 34, loss: 0.37313, accuracy: 0.83403, val_loss: 0.42290, val_accuracy: 0.79620 \n",
      "\n"
     ]
    },
    {
     "name": "stderr",
     "output_type": "stream",
     "text": [
      "100%|███████████████████████████████████████████████████████████████████████████| 1024/1024 [09:10<00:00,  1.86it/s]\n"
     ]
    },
    {
     "name": "stdout",
     "output_type": "stream",
     "text": [
      "[EarlyStopping] (Patience) 13/25, Best: 0.40728, Current: 0.41162, Delta: 0.00434\n",
      "epoch 35, loss: 0.37324, accuracy: 0.83369, val_loss: 0.41162, val_accuracy: 0.80481 \n",
      "\n"
     ]
    },
    {
     "name": "stderr",
     "output_type": "stream",
     "text": [
      "100%|███████████████████████████████████████████████████████████████████████████| 1024/1024 [09:10<00:00,  1.86it/s]\n"
     ]
    },
    {
     "name": "stdout",
     "output_type": "stream",
     "text": [
      "[EarlyStopping] (Patience) 14/25, Best: 0.40728, Current: 0.42295, Delta: 0.01567\n",
      "epoch 36, loss: 0.37141, accuracy: 0.83510, val_loss: 0.42295, val_accuracy: 0.79819 \n",
      "\n"
     ]
    },
    {
     "name": "stderr",
     "output_type": "stream",
     "text": [
      "100%|███████████████████████████████████████████████████████████████████████████| 1024/1024 [09:12<00:00,  1.86it/s]\n"
     ]
    },
    {
     "name": "stdout",
     "output_type": "stream",
     "text": [
      "[EarlyStopping] (Patience) 15/25, Best: 0.40728, Current: 0.41060, Delta: 0.00332\n",
      "epoch 37, loss: 0.37171, accuracy: 0.83509, val_loss: 0.41060, val_accuracy: 0.80243 \n",
      "\n"
     ]
    },
    {
     "name": "stderr",
     "output_type": "stream",
     "text": [
      "100%|███████████████████████████████████████████████████████████████████████████| 1024/1024 [09:11<00:00,  1.86it/s]\n"
     ]
    },
    {
     "name": "stdout",
     "output_type": "stream",
     "text": [
      "[EarlyStopping] (Patience) 16/25, Best: 0.40728, Current: 0.42802, Delta: 0.02074\n",
      "epoch 38, loss: 0.37367, accuracy: 0.83429, val_loss: 0.42802, val_accuracy: 0.79984 \n",
      "\n"
     ]
    },
    {
     "name": "stderr",
     "output_type": "stream",
     "text": [
      "100%|███████████████████████████████████████████████████████████████████████████| 1024/1024 [09:13<00:00,  1.85it/s]\n"
     ]
    },
    {
     "name": "stdout",
     "output_type": "stream",
     "text": [
      "[EarlyStopping] (Patience) 17/25, Best: 0.40728, Current: 0.41637, Delta: 0.00909\n",
      "epoch 39, loss: 0.37268, accuracy: 0.83508, val_loss: 0.41637, val_accuracy: 0.80191 \n",
      "\n"
     ]
    },
    {
     "name": "stderr",
     "output_type": "stream",
     "text": [
      "100%|███████████████████████████████████████████████████████████████████████████| 1024/1024 [09:08<00:00,  1.87it/s]\n"
     ]
    },
    {
     "name": "stdout",
     "output_type": "stream",
     "text": [
      "[EarlyStopping] (Patience) 18/25, Best: 0.40728, Current: 0.42445, Delta: 0.01717\n",
      "epoch 40, loss: 0.37164, accuracy: 0.83527, val_loss: 0.42445, val_accuracy: 0.79950 \n",
      "\n"
     ]
    },
    {
     "name": "stderr",
     "output_type": "stream",
     "text": [
      "100%|███████████████████████████████████████████████████████████████████████████| 1024/1024 [09:10<00:00,  1.86it/s]\n"
     ]
    },
    {
     "name": "stdout",
     "output_type": "stream",
     "text": [
      "[EarlyStopping] (Patience) 19/25, Best: 0.40728, Current: 0.42550, Delta: 0.01822\n",
      "epoch 41, loss: 0.37116, accuracy: 0.83551, val_loss: 0.42550, val_accuracy: 0.79706 \n",
      "\n"
     ]
    },
    {
     "name": "stderr",
     "output_type": "stream",
     "text": [
      "100%|███████████████████████████████████████████████████████████████████████████| 1024/1024 [09:11<00:00,  1.86it/s]\n"
     ]
    },
    {
     "name": "stdout",
     "output_type": "stream",
     "text": [
      "[EarlyStopping] (Patience) 20/25, Best: 0.40728, Current: 0.41120, Delta: 0.00392\n",
      "epoch 42, loss: 0.37078, accuracy: 0.83557, val_loss: 0.41120, val_accuracy: 0.80371 \n",
      "\n"
     ]
    },
    {
     "name": "stderr",
     "output_type": "stream",
     "text": [
      "100%|███████████████████████████████████████████████████████████████████████████| 1024/1024 [09:11<00:00,  1.86it/s]\n"
     ]
    },
    {
     "name": "stdout",
     "output_type": "stream",
     "text": [
      "[EarlyStopping] (Patience) 21/25, Best: 0.40728, Current: 0.42476, Delta: 0.01748\n",
      "epoch 43, loss: 0.36975, accuracy: 0.83588, val_loss: 0.42476, val_accuracy: 0.79169 \n",
      "\n"
     ]
    },
    {
     "name": "stderr",
     "output_type": "stream",
     "text": [
      "100%|███████████████████████████████████████████████████████████████████████████| 1024/1024 [09:11<00:00,  1.86it/s]\n"
     ]
    },
    {
     "name": "stdout",
     "output_type": "stream",
     "text": [
      "[EarlyStopping] (Update) Best Score: 0.39947\n",
      "[INFO] val_loss has been improved from 0.40728 to 0.39947. Save model.\n",
      "epoch 44, loss: 0.36992, accuracy: 0.83568, val_loss: 0.39947, val_accuracy: 0.80856 \n",
      "\n"
     ]
    },
    {
     "name": "stderr",
     "output_type": "stream",
     "text": [
      "100%|███████████████████████████████████████████████████████████████████████████| 1024/1024 [09:13<00:00,  1.85it/s]\n"
     ]
    },
    {
     "name": "stdout",
     "output_type": "stream",
     "text": [
      "[EarlyStopping] (Patience) 1/25, Best: 0.39947, Current: 0.41699, Delta: 0.01752\n",
      "epoch 45, loss: 0.37151, accuracy: 0.83525, val_loss: 0.41699, val_accuracy: 0.80118 \n",
      "\n"
     ]
    },
    {
     "name": "stderr",
     "output_type": "stream",
     "text": [
      "100%|███████████████████████████████████████████████████████████████████████████| 1024/1024 [09:10<00:00,  1.86it/s]\n"
     ]
    },
    {
     "name": "stdout",
     "output_type": "stream",
     "text": [
      "[EarlyStopping] (Patience) 2/25, Best: 0.39947, Current: 0.41396, Delta: 0.01449\n",
      "epoch 46, loss: 0.37115, accuracy: 0.83566, val_loss: 0.41396, val_accuracy: 0.80048 \n",
      "\n"
     ]
    },
    {
     "name": "stderr",
     "output_type": "stream",
     "text": [
      "100%|███████████████████████████████████████████████████████████████████████████| 1024/1024 [09:13<00:00,  1.85it/s]\n"
     ]
    },
    {
     "name": "stdout",
     "output_type": "stream",
     "text": [
      "[EarlyStopping] (Patience) 3/25, Best: 0.39947, Current: 0.41579, Delta: 0.01632\n",
      "epoch 47, loss: 0.37079, accuracy: 0.83628, val_loss: 0.41579, val_accuracy: 0.80283 \n",
      "\n"
     ]
    },
    {
     "name": "stderr",
     "output_type": "stream",
     "text": [
      "100%|███████████████████████████████████████████████████████████████████████████| 1024/1024 [09:11<00:00,  1.86it/s]\n"
     ]
    },
    {
     "name": "stdout",
     "output_type": "stream",
     "text": [
      "[EarlyStopping] (Patience) 4/25, Best: 0.39947, Current: 0.42486, Delta: 0.02538\n",
      "epoch 48, loss: 0.37116, accuracy: 0.83600, val_loss: 0.42486, val_accuracy: 0.79739 \n",
      "\n"
     ]
    },
    {
     "name": "stderr",
     "output_type": "stream",
     "text": [
      "100%|███████████████████████████████████████████████████████████████████████████| 1024/1024 [09:11<00:00,  1.86it/s]\n"
     ]
    },
    {
     "name": "stdout",
     "output_type": "stream",
     "text": [
      "[EarlyStopping] (Patience) 5/25, Best: 0.39947, Current: 0.43648, Delta: 0.03700\n",
      "epoch 49, loss: 0.37094, accuracy: 0.83535, val_loss: 0.43648, val_accuracy: 0.78949 \n",
      "\n"
     ]
    },
    {
     "name": "stderr",
     "output_type": "stream",
     "text": [
      "100%|███████████████████████████████████████████████████████████████████████████| 1024/1024 [09:09<00:00,  1.86it/s]\n"
     ]
    },
    {
     "name": "stdout",
     "output_type": "stream",
     "text": [
      "[EarlyStopping] (Patience) 6/25, Best: 0.39947, Current: 0.41240, Delta: 0.01292\n",
      "epoch 50, loss: 0.36999, accuracy: 0.83643, val_loss: 0.41240, val_accuracy: 0.79932 \n",
      "\n"
     ]
    }
   ],
   "source": [
    "for epoch in range(EPOCHS):\n",
    "    train_loss, train_acc = train.model_train(model=model, \n",
    "                                              data_loader=train_loader, \n",
    "                                              criterion=criterion, \n",
    "                                              optimizer=optimizer, \n",
    "                                              device=device, \n",
    "                                              scheduler=scheduler, \n",
    "                                              tqdm_disable=False)\n",
    "    val_loss, val_acc = train.model_evaluate(model=model, \n",
    "                                             data_loader=val_loader, \n",
    "                                             criterion=criterion, \n",
    "                                             device=device)\n",
    "    \n",
    "    history['train_loss'].append(train_loss)\n",
    "    history['train_accuracy'].append(train_acc)\n",
    "    history['val_loss'].append(val_loss)\n",
    "    history['val_accuracy'].append(val_acc)\n",
    "    \n",
    "    es(val_loss)\n",
    "    # Early Stop Check\n",
    "    if es.early_stop:\n",
    "        break\n",
    "\n",
    "    if val_loss < max_loss:\n",
    "        print(f'[INFO] val_loss has been improved from {max_loss:.5f} to {val_loss:.5f}. Save model.')\n",
    "        max_loss = val_loss\n",
    "        torch.save(model.state_dict(), 'Best_Model_VGG_1.pth')\n",
    "\n",
    "    print(f'epoch {epoch+1:02d}, loss: {train_loss:.5f}, accuracy: {train_acc:.5f}, val_loss: {val_loss:.5f}, val_accuracy: {val_acc:.5f} \\n')"
   ]
  },
  {
   "cell_type": "code",
   "execution_count": 7,
   "metadata": {},
   "outputs": [
    {
     "data": {
      "image/png": "[encoded data removed]",
      "text/plain": [
       "<Figure size 640x480 with 1 Axes>"
      ]
     },
     "metadata": {},
     "output_type": "display_data"
    }
   ],
   "source": [
    "train.plot_acc(history=history)"
   ]
  },
  {
   "cell_type": "code",
   "execution_count": 8,
   "metadata": {},
   "outputs": [
    {
     "data": {
      "image/png": "[encoded data removed]",
      "text/plain": [
       "<Figure size 640x480 with 1 Axes>"
      ]
     },
     "metadata": {},
     "output_type": "display_data"
    }
   ],
   "source": [
    "train.plot_loss(history=history)"
   ]
  },
  {
   "cell_type": "code",
   "execution_count": 9,
   "metadata": {},
   "outputs": [
    {
     "name": "stdout",
     "output_type": "stream",
     "text": [
      "Test Loss: 0.46649042423814535\n",
      "Test Accuracy: 0.777862548828125\n"
     ]
    }
   ],
   "source": [
    "backbone = VGG16.VGG16_Backbone(pretrain=False).to(device=device)\n",
    "model = basic_classifier.BasicClassifier(backbone=backbone, \n",
    "                                         freezing=True, \n",
    "                                         num_classes=1).to(device=device)\n",
    "\n",
    "model.load_state_dict(torch.load('Best_Model_VGG_1.pth', map_location=device))\n",
    "model.eval()\n",
    "\n",
    "test_loss, test_acc = train.model_evaluate(model=model,\n",
    "                                           data_loader=test_loader,\n",
    "                                           criterion=criterion,\n",
    "                                           device=device)\n",
    "\n",
    "print('Test Loss: %s'%test_loss)\n",
    "print('Test Accuracy: %s'%test_acc)"
   ]
  },
  {
   "cell_type": "markdown",
   "metadata": {},
   "source": [
    "# ResNet"
   ]
  },
  {
   "cell_type": "code",
   "execution_count": 4,
   "metadata": {},
   "outputs": [],
   "source": [
    "train_loader, val_loader, test_loader = dataset.load_pcam(path=path, \n",
    "                                                          input_shape=96,\n",
    "                                                          augmentation=True,\n",
    "                                                          normalize=True,\n",
    "                                                          batch_size=256,\n",
    "                                                          seed=21)"
   ]
  },
  {
   "cell_type": "code",
   "execution_count": 5,
   "metadata": {},
   "outputs": [
    {
     "name": "stdout",
     "output_type": "stream",
     "text": [
      "BasicClassifier(\n",
      "  (backbone): Sequential(\n",
      "    (0): Conv2d(3, 64, kernel_size=(7, 7), stride=(2, 2), padding=(3, 3), bias=False)\n",
      "    (1): BatchNorm2d(64, eps=1e-05, momentum=0.1, affine=True, track_running_stats=True)\n",
      "    (2): ReLU(inplace=True)\n",
      "    (3): MaxPool2d(kernel_size=3, stride=2, padding=1, dilation=1, ceil_mode=False)\n",
      "    (4): Sequential(\n",
      "      (0): BasicBlock(\n",
      "        (conv1): Conv2d(64, 64, kernel_size=(3, 3), stride=(1, 1), padding=(1, 1), bias=False)\n",
      "        (bn1): BatchNorm2d(64, eps=1e-05, momentum=0.1, affine=True, track_running_stats=True)\n",
      "        (relu): ReLU(inplace=True)\n",
      "        (conv2): Conv2d(64, 64, kernel_size=(3, 3), stride=(1, 1), padding=(1, 1), bias=False)\n",
      "        (bn2): BatchNorm2d(64, eps=1e-05, momentum=0.1, affine=True, track_running_stats=True)\n",
      "      )\n",
      "      (1): BasicBlock(\n",
      "        (conv1): Conv2d(64, 64, kernel_size=(3, 3), stride=(1, 1), padding=(1, 1), bias=False)\n",
      "        (bn1): BatchNorm2d(64, eps=1e-05, momentum=0.1, affine=True, track_running_stats=True)\n",
      "        (relu): ReLU(inplace=True)\n",
      "        (conv2): Conv2d(64, 64, kernel_size=(3, 3), stride=(1, 1), padding=(1, 1), bias=False)\n",
      "        (bn2): BatchNorm2d(64, eps=1e-05, momentum=0.1, affine=True, track_running_stats=True)\n",
      "      )\n",
      "      (2): BasicBlock(\n",
      "        (conv1): Conv2d(64, 64, kernel_size=(3, 3), stride=(1, 1), padding=(1, 1), bias=False)\n",
      "        (bn1): BatchNorm2d(64, eps=1e-05, momentum=0.1, affine=True, track_running_stats=True)\n",
      "        (relu): ReLU(inplace=True)\n",
      "        (conv2): Conv2d(64, 64, kernel_size=(3, 3), stride=(1, 1), padding=(1, 1), bias=False)\n",
      "        (bn2): BatchNorm2d(64, eps=1e-05, momentum=0.1, affine=True, track_running_stats=True)\n",
      "      )\n",
      "    )\n",
      "    (5): Sequential(\n",
      "      (0): BasicBlock(\n",
      "        (conv1): Conv2d(64, 128, kernel_size=(3, 3), stride=(2, 2), padding=(1, 1), bias=False)\n",
      "        (bn1): BatchNorm2d(128, eps=1e-05, momentum=0.1, affine=True, track_running_stats=True)\n",
      "        (relu): ReLU(inplace=True)\n",
      "        (conv2): Conv2d(128, 128, kernel_size=(3, 3), stride=(1, 1), padding=(1, 1), bias=False)\n",
      "        (bn2): BatchNorm2d(128, eps=1e-05, momentum=0.1, affine=True, track_running_stats=True)\n",
      "        (downsample): Sequential(\n",
      "          (0): Conv2d(64, 128, kernel_size=(1, 1), stride=(2, 2), bias=False)\n",
      "          (1): BatchNorm2d(128, eps=1e-05, momentum=0.1, affine=True, track_running_stats=True)\n",
      "        )\n",
      "      )\n",
      "      (1): BasicBlock(\n",
      "        (conv1): Conv2d(128, 128, kernel_size=(3, 3), stride=(1, 1), padding=(1, 1), bias=False)\n",
      "        (bn1): BatchNorm2d(128, eps=1e-05, momentum=0.1, affine=True, track_running_stats=True)\n",
      "        (relu): ReLU(inplace=True)\n",
      "        (conv2): Conv2d(128, 128, kernel_size=(3, 3), stride=(1, 1), padding=(1, 1), bias=False)\n",
      "        (bn2): BatchNorm2d(128, eps=1e-05, momentum=0.1, affine=True, track_running_stats=True)\n",
      "      )\n",
      "      (2): BasicBlock(\n",
      "        (conv1): Conv2d(128, 128, kernel_size=(3, 3), stride=(1, 1), padding=(1, 1), bias=False)\n",
      "        (bn1): BatchNorm2d(128, eps=1e-05, momentum=0.1, affine=True, track_running_stats=True)\n",
      "        (relu): ReLU(inplace=True)\n",
      "        (conv2): Conv2d(128, 128, kernel_size=(3, 3), stride=(1, 1), padding=(1, 1), bias=False)\n",
      "        (bn2): BatchNorm2d(128, eps=1e-05, momentum=0.1, affine=True, track_running_stats=True)\n",
      "      )\n",
      "      (3): BasicBlock(\n",
      "        (conv1): Conv2d(128, 128, kernel_size=(3, 3), stride=(1, 1), padding=(1, 1), bias=False)\n",
      "        (bn1): BatchNorm2d(128, eps=1e-05, momentum=0.1, affine=True, track_running_stats=True)\n",
      "        (relu): ReLU(inplace=True)\n",
      "        (conv2): Conv2d(128, 128, kernel_size=(3, 3), stride=(1, 1), padding=(1, 1), bias=False)\n",
      "        (bn2): BatchNorm2d(128, eps=1e-05, momentum=0.1, affine=True, track_running_stats=True)\n",
      "      )\n",
      "    )\n",
      "    (6): Sequential(\n",
      "      (0): BasicBlock(\n",
      "        (conv1): Conv2d(128, 256, kernel_size=(3, 3), stride=(2, 2), padding=(1, 1), bias=False)\n",
      "        (bn1): BatchNorm2d(256, eps=1e-05, momentum=0.1, affine=True, track_running_stats=True)\n",
      "        (relu): ReLU(inplace=True)\n",
      "        (conv2): Conv2d(256, 256, kernel_size=(3, 3), stride=(1, 1), padding=(1, 1), bias=False)\n",
      "        (bn2): BatchNorm2d(256, eps=1e-05, momentum=0.1, affine=True, track_running_stats=True)\n",
      "        (downsample): Sequential(\n",
      "          (0): Conv2d(128, 256, kernel_size=(1, 1), stride=(2, 2), bias=False)\n",
      "          (1): BatchNorm2d(256, eps=1e-05, momentum=0.1, affine=True, track_running_stats=True)\n",
      "        )\n",
      "      )\n",
      "      (1): BasicBlock(\n",
      "        (conv1): Conv2d(256, 256, kernel_size=(3, 3), stride=(1, 1), padding=(1, 1), bias=False)\n",
      "        (bn1): BatchNorm2d(256, eps=1e-05, momentum=0.1, affine=True, track_running_stats=True)\n",
      "        (relu): ReLU(inplace=True)\n",
      "        (conv2): Conv2d(256, 256, kernel_size=(3, 3), stride=(1, 1), padding=(1, 1), bias=False)\n",
      "        (bn2): BatchNorm2d(256, eps=1e-05, momentum=0.1, affine=True, track_running_stats=True)\n",
      "      )\n",
      "      (2): BasicBlock(\n",
      "        (conv1): Conv2d(256, 256, kernel_size=(3, 3), stride=(1, 1), padding=(1, 1), bias=False)\n",
      "        (bn1): BatchNorm2d(256, eps=1e-05, momentum=0.1, affine=True, track_running_stats=True)\n",
      "        (relu): ReLU(inplace=True)\n",
      "        (conv2): Conv2d(256, 256, kernel_size=(3, 3), stride=(1, 1), padding=(1, 1), bias=False)\n",
      "        (bn2): BatchNorm2d(256, eps=1e-05, momentum=0.1, affine=True, track_running_stats=True)\n",
      "      )\n",
      "      (3): BasicBlock(\n",
      "        (conv1): Conv2d(256, 256, kernel_size=(3, 3), stride=(1, 1), padding=(1, 1), bias=False)\n",
      "        (bn1): BatchNorm2d(256, eps=1e-05, momentum=0.1, affine=True, track_running_stats=True)\n",
      "        (relu): ReLU(inplace=True)\n",
      "        (conv2): Conv2d(256, 256, kernel_size=(3, 3), stride=(1, 1), padding=(1, 1), bias=False)\n",
      "        (bn2): BatchNorm2d(256, eps=1e-05, momentum=0.1, affine=True, track_running_stats=True)\n",
      "      )\n",
      "      (4): BasicBlock(\n",
      "        (conv1): Conv2d(256, 256, kernel_size=(3, 3), stride=(1, 1), padding=(1, 1), bias=False)\n",
      "        (bn1): BatchNorm2d(256, eps=1e-05, momentum=0.1, affine=True, track_running_stats=True)\n",
      "        (relu): ReLU(inplace=True)\n",
      "        (conv2): Conv2d(256, 256, kernel_size=(3, 3), stride=(1, 1), padding=(1, 1), bias=False)\n",
      "        (bn2): BatchNorm2d(256, eps=1e-05, momentum=0.1, affine=True, track_running_stats=True)\n",
      "      )\n",
      "      (5): BasicBlock(\n",
      "        (conv1): Conv2d(256, 256, kernel_size=(3, 3), stride=(1, 1), padding=(1, 1), bias=False)\n",
      "        (bn1): BatchNorm2d(256, eps=1e-05, momentum=0.1, affine=True, track_running_stats=True)\n",
      "        (relu): ReLU(inplace=True)\n",
      "        (conv2): Conv2d(256, 256, kernel_size=(3, 3), stride=(1, 1), padding=(1, 1), bias=False)\n",
      "        (bn2): BatchNorm2d(256, eps=1e-05, momentum=0.1, affine=True, track_running_stats=True)\n",
      "      )\n",
      "    )\n",
      "    (7): Sequential(\n",
      "      (0): BasicBlock(\n",
      "        (conv1): Conv2d(256, 512, kernel_size=(3, 3), stride=(2, 2), padding=(1, 1), bias=False)\n",
      "        (bn1): BatchNorm2d(512, eps=1e-05, momentum=0.1, affine=True, track_running_stats=True)\n",
      "        (relu): ReLU(inplace=True)\n",
      "        (conv2): Conv2d(512, 512, kernel_size=(3, 3), stride=(1, 1), padding=(1, 1), bias=False)\n",
      "        (bn2): BatchNorm2d(512, eps=1e-05, momentum=0.1, affine=True, track_running_stats=True)\n",
      "        (downsample): Sequential(\n",
      "          (0): Conv2d(256, 512, kernel_size=(1, 1), stride=(2, 2), bias=False)\n",
      "          (1): BatchNorm2d(512, eps=1e-05, momentum=0.1, affine=True, track_running_stats=True)\n",
      "        )\n",
      "      )\n",
      "      (1): BasicBlock(\n",
      "        (conv1): Conv2d(512, 512, kernel_size=(3, 3), stride=(1, 1), padding=(1, 1), bias=False)\n",
      "        (bn1): BatchNorm2d(512, eps=1e-05, momentum=0.1, affine=True, track_running_stats=True)\n",
      "        (relu): ReLU(inplace=True)\n",
      "        (conv2): Conv2d(512, 512, kernel_size=(3, 3), stride=(1, 1), padding=(1, 1), bias=False)\n",
      "        (bn2): BatchNorm2d(512, eps=1e-05, momentum=0.1, affine=True, track_running_stats=True)\n",
      "      )\n",
      "      (2): BasicBlock(\n",
      "        (conv1): Conv2d(512, 512, kernel_size=(3, 3), stride=(1, 1), padding=(1, 1), bias=False)\n",
      "        (bn1): BatchNorm2d(512, eps=1e-05, momentum=0.1, affine=True, track_running_stats=True)\n",
      "        (relu): ReLU(inplace=True)\n",
      "        (conv2): Conv2d(512, 512, kernel_size=(3, 3), stride=(1, 1), padding=(1, 1), bias=False)\n",
      "        (bn2): BatchNorm2d(512, eps=1e-05, momentum=0.1, affine=True, track_running_stats=True)\n",
      "      )\n",
      "    )\n",
      "  )\n",
      "  (avg): AdaptiveAvgPool2d(output_size=(1, 1))\n",
      "  (fc): Sequential(\n",
      "    (0): Flatten(start_dim=1, end_dim=-1)\n",
      "    (1): Linear(in_features=512, out_features=64, bias=True)\n",
      "    (2): ReLU()\n",
      "    (3): Dropout(p=0.5, inplace=False)\n",
      "    (4): Linear(in_features=64, out_features=1, bias=True)\n",
      "  )\n",
      ")\n"
     ]
    }
   ],
   "source": [
    "backbone = ResNet34.ResNet34_Backbone(pretrain=True).to(device=device)\n",
    "model = basic_classifier.BasicClassifier(backbone=backbone, \n",
    "                                         freezing=True, \n",
    "                                         num_classes=1).to(device=device)\n",
    "\n",
    "print(model)"
   ]
  },
  {
   "cell_type": "code",
   "execution_count": 6,
   "metadata": {},
   "outputs": [],
   "source": [
    "EPOCHS = 50\n",
    "\n",
    "criterion = nn.BCELoss()\n",
    "optimizer = optim.Adam(model.parameters(), lr=1e-3, weight_decay=1e-3)\n",
    "es = train.EarlyStopping(patience=EPOCHS//2, delta=0, mode='min', verbose=True)\n",
    "scheduler = optim.lr_scheduler.StepLR(optimizer, step_size=EPOCHS//5, gamma=0.9)\n",
    "\n",
    "history = {'train_loss' : [],\n",
    "           'val_loss': [],\n",
    "           'train_accuracy': [],\n",
    "           'val_accuracy': []}\n",
    "           \n",
    "max_loss = np.inf    "
   ]
  },
  {
   "cell_type": "code",
   "execution_count": 7,
   "metadata": {},
   "outputs": [
    {
     "name": "stderr",
     "output_type": "stream",
     "text": [
      "100%|███████████████████████████████████████████████████████████████████████████| 1024/1024 [07:57<00:00,  2.15it/s]\n"
     ]
    },
    {
     "name": "stdout",
     "output_type": "stream",
     "text": [
      "[EarlyStopping] (Update) Best Score: 0.41722\n",
      "[INFO] val_loss has been improved from inf to 0.41722. Save model.\n",
      "epoch 01, loss: 0.42279, accuracy: 0.80595, val_loss: 0.41722, val_accuracy: 0.79977 \n",
      "\n"
     ]
    },
    {
     "name": "stderr",
     "output_type": "stream",
     "text": [
      "100%|███████████████████████████████████████████████████████████████████████████| 1024/1024 [07:55<00:00,  2.15it/s]\n"
     ]
    },
    {
     "name": "stdout",
     "output_type": "stream",
     "text": [
      "[EarlyStopping] (Update) Best Score: 0.40410\n",
      "[INFO] val_loss has been improved from 0.41722 to 0.40410. Save model.\n",
      "epoch 02, loss: 0.39465, accuracy: 0.82263, val_loss: 0.40410, val_accuracy: 0.80759 \n",
      "\n"
     ]
    },
    {
     "name": "stderr",
     "output_type": "stream",
     "text": [
      "100%|███████████████████████████████████████████████████████████████████████████| 1024/1024 [07:54<00:00,  2.16it/s]\n"
     ]
    },
    {
     "name": "stdout",
     "output_type": "stream",
     "text": [
      "[EarlyStopping] (Patience) 1/25, Best: 0.40410, Current: 0.40724, Delta: 0.00314\n",
      "epoch 03, loss: 0.38974, accuracy: 0.82631, val_loss: 0.40724, val_accuracy: 0.80386 \n",
      "\n"
     ]
    },
    {
     "name": "stderr",
     "output_type": "stream",
     "text": [
      "100%|███████████████████████████████████████████████████████████████████████████| 1024/1024 [07:53<00:00,  2.16it/s]\n"
     ]
    },
    {
     "name": "stdout",
     "output_type": "stream",
     "text": [
      "[EarlyStopping] (Patience) 2/25, Best: 0.40410, Current: 0.40563, Delta: 0.00153\n",
      "epoch 04, loss: 0.38514, accuracy: 0.82820, val_loss: 0.40563, val_accuracy: 0.80920 \n",
      "\n"
     ]
    },
    {
     "name": "stderr",
     "output_type": "stream",
     "text": [
      "100%|███████████████████████████████████████████████████████████████████████████| 1024/1024 [07:54<00:00,  2.16it/s]\n"
     ]
    },
    {
     "name": "stdout",
     "output_type": "stream",
     "text": [
      "[EarlyStopping] (Update) Best Score: 0.38755\n",
      "[INFO] val_loss has been improved from 0.40410 to 0.38755. Save model.\n",
      "epoch 05, loss: 0.38500, accuracy: 0.82854, val_loss: 0.38755, val_accuracy: 0.81607 \n",
      "\n"
     ]
    },
    {
     "name": "stderr",
     "output_type": "stream",
     "text": [
      "100%|███████████████████████████████████████████████████████████████████████████| 1024/1024 [07:54<00:00,  2.16it/s]\n"
     ]
    },
    {
     "name": "stdout",
     "output_type": "stream",
     "text": [
      "[EarlyStopping] (Patience) 1/25, Best: 0.38755, Current: 0.40213, Delta: 0.01458\n",
      "epoch 06, loss: 0.38230, accuracy: 0.82991, val_loss: 0.40213, val_accuracy: 0.80664 \n",
      "\n"
     ]
    },
    {
     "name": "stderr",
     "output_type": "stream",
     "text": [
      "100%|███████████████████████████████████████████████████████████████████████████| 1024/1024 [07:54<00:00,  2.16it/s]\n"
     ]
    },
    {
     "name": "stdout",
     "output_type": "stream",
     "text": [
      "[EarlyStopping] (Patience) 2/25, Best: 0.38755, Current: 0.40601, Delta: 0.01846\n",
      "epoch 07, loss: 0.38269, accuracy: 0.82992, val_loss: 0.40601, val_accuracy: 0.80295 \n",
      "\n"
     ]
    },
    {
     "name": "stderr",
     "output_type": "stream",
     "text": [
      "100%|███████████████████████████████████████████████████████████████████████████| 1024/1024 [07:56<00:00,  2.15it/s]\n"
     ]
    },
    {
     "name": "stdout",
     "output_type": "stream",
     "text": [
      "[EarlyStopping] (Patience) 3/25, Best: 0.38755, Current: 0.40217, Delta: 0.01462\n",
      "epoch 08, loss: 0.38207, accuracy: 0.83060, val_loss: 0.40217, val_accuracy: 0.80859 \n",
      "\n"
     ]
    },
    {
     "name": "stderr",
     "output_type": "stream",
     "text": [
      "100%|███████████████████████████████████████████████████████████████████████████| 1024/1024 [07:53<00:00,  2.16it/s]\n"
     ]
    },
    {
     "name": "stdout",
     "output_type": "stream",
     "text": [
      "[EarlyStopping] (Update) Best Score: 0.38522\n",
      "[INFO] val_loss has been improved from 0.38755 to 0.38522. Save model.\n",
      "epoch 09, loss: 0.38093, accuracy: 0.83153, val_loss: 0.38522, val_accuracy: 0.81879 \n",
      "\n"
     ]
    },
    {
     "name": "stderr",
     "output_type": "stream",
     "text": [
      "100%|███████████████████████████████████████████████████████████████████████████| 1024/1024 [07:56<00:00,  2.15it/s]\n"
     ]
    },
    {
     "name": "stdout",
     "output_type": "stream",
     "text": [
      "[EarlyStopping] (Update) Best Score: 0.38465\n",
      "[INFO] val_loss has been improved from 0.38522 to 0.38465. Save model.\n",
      "epoch 10, loss: 0.38223, accuracy: 0.83081, val_loss: 0.38465, val_accuracy: 0.82211 \n",
      "\n"
     ]
    },
    {
     "name": "stderr",
     "output_type": "stream",
     "text": [
      "100%|███████████████████████████████████████████████████████████████████████████| 1024/1024 [07:56<00:00,  2.15it/s]\n"
     ]
    },
    {
     "name": "stdout",
     "output_type": "stream",
     "text": [
      "[EarlyStopping] (Patience) 1/25, Best: 0.38465, Current: 0.39339, Delta: 0.00873\n",
      "epoch 11, loss: 0.37774, accuracy: 0.83241, val_loss: 0.39339, val_accuracy: 0.81018 \n",
      "\n"
     ]
    },
    {
     "name": "stderr",
     "output_type": "stream",
     "text": [
      "100%|███████████████████████████████████████████████████████████████████████████| 1024/1024 [07:54<00:00,  2.16it/s]\n"
     ]
    },
    {
     "name": "stdout",
     "output_type": "stream",
     "text": [
      "[EarlyStopping] (Update) Best Score: 0.37997\n",
      "[INFO] val_loss has been improved from 0.38465 to 0.37997. Save model.\n",
      "epoch 12, loss: 0.38031, accuracy: 0.83140, val_loss: 0.37997, val_accuracy: 0.82150 \n",
      "\n"
     ]
    },
    {
     "name": "stderr",
     "output_type": "stream",
     "text": [
      "100%|███████████████████████████████████████████████████████████████████████████| 1024/1024 [07:55<00:00,  2.15it/s]\n"
     ]
    },
    {
     "name": "stdout",
     "output_type": "stream",
     "text": [
      "[EarlyStopping] (Patience) 1/25, Best: 0.37997, Current: 0.39092, Delta: 0.01095\n",
      "epoch 13, loss: 0.37891, accuracy: 0.83213, val_loss: 0.39092, val_accuracy: 0.81757 \n",
      "\n"
     ]
    },
    {
     "name": "stderr",
     "output_type": "stream",
     "text": [
      "100%|███████████████████████████████████████████████████████████████████████████| 1024/1024 [07:57<00:00,  2.15it/s]\n"
     ]
    },
    {
     "name": "stdout",
     "output_type": "stream",
     "text": [
      "[EarlyStopping] (Patience) 2/25, Best: 0.37997, Current: 0.38929, Delta: 0.00933\n",
      "epoch 14, loss: 0.37937, accuracy: 0.83205, val_loss: 0.38929, val_accuracy: 0.81686 \n",
      "\n"
     ]
    },
    {
     "name": "stderr",
     "output_type": "stream",
     "text": [
      "100%|███████████████████████████████████████████████████████████████████████████| 1024/1024 [07:55<00:00,  2.16it/s]\n"
     ]
    },
    {
     "name": "stdout",
     "output_type": "stream",
     "text": [
      "[EarlyStopping] (Patience) 3/25, Best: 0.37997, Current: 0.39197, Delta: 0.01200\n",
      "epoch 15, loss: 0.37860, accuracy: 0.83225, val_loss: 0.39197, val_accuracy: 0.81418 \n",
      "\n"
     ]
    },
    {
     "name": "stderr",
     "output_type": "stream",
     "text": [
      "100%|███████████████████████████████████████████████████████████████████████████| 1024/1024 [07:55<00:00,  2.15it/s]\n"
     ]
    },
    {
     "name": "stdout",
     "output_type": "stream",
     "text": [
      "[EarlyStopping] (Patience) 4/25, Best: 0.37997, Current: 0.39456, Delta: 0.01460\n",
      "epoch 16, loss: 0.37813, accuracy: 0.83167, val_loss: 0.39456, val_accuracy: 0.81516 \n",
      "\n"
     ]
    },
    {
     "name": "stderr",
     "output_type": "stream",
     "text": [
      "100%|███████████████████████████████████████████████████████████████████████████| 1024/1024 [07:55<00:00,  2.15it/s]\n"
     ]
    },
    {
     "name": "stdout",
     "output_type": "stream",
     "text": [
      "[EarlyStopping] (Patience) 5/25, Best: 0.37997, Current: 0.39595, Delta: 0.01598\n",
      "epoch 17, loss: 0.37841, accuracy: 0.83268, val_loss: 0.39595, val_accuracy: 0.81476 \n",
      "\n"
     ]
    },
    {
     "name": "stderr",
     "output_type": "stream",
     "text": [
      "100%|███████████████████████████████████████████████████████████████████████████| 1024/1024 [07:55<00:00,  2.16it/s]\n"
     ]
    },
    {
     "name": "stdout",
     "output_type": "stream",
     "text": [
      "[EarlyStopping] (Patience) 6/25, Best: 0.37997, Current: 0.41231, Delta: 0.03234\n",
      "epoch 18, loss: 0.37760, accuracy: 0.83240, val_loss: 0.41231, val_accuracy: 0.79752 \n",
      "\n"
     ]
    },
    {
     "name": "stderr",
     "output_type": "stream",
     "text": [
      "100%|███████████████████████████████████████████████████████████████████████████| 1024/1024 [07:55<00:00,  2.15it/s]\n"
     ]
    },
    {
     "name": "stdout",
     "output_type": "stream",
     "text": [
      "[EarlyStopping] (Patience) 7/25, Best: 0.37997, Current: 0.39868, Delta: 0.01872\n",
      "epoch 19, loss: 0.37866, accuracy: 0.83224, val_loss: 0.39868, val_accuracy: 0.80859 \n",
      "\n"
     ]
    },
    {
     "name": "stderr",
     "output_type": "stream",
     "text": [
      "100%|███████████████████████████████████████████████████████████████████████████| 1024/1024 [07:56<00:00,  2.15it/s]\n"
     ]
    },
    {
     "name": "stdout",
     "output_type": "stream",
     "text": [
      "[EarlyStopping] (Patience) 8/25, Best: 0.37997, Current: 0.39637, Delta: 0.01641\n",
      "epoch 20, loss: 0.37893, accuracy: 0.83343, val_loss: 0.39637, val_accuracy: 0.81238 \n",
      "\n"
     ]
    },
    {
     "name": "stderr",
     "output_type": "stream",
     "text": [
      "100%|███████████████████████████████████████████████████████████████████████████| 1024/1024 [07:56<00:00,  2.15it/s]\n"
     ]
    },
    {
     "name": "stdout",
     "output_type": "stream",
     "text": [
      "[EarlyStopping] (Patience) 9/25, Best: 0.37997, Current: 0.38647, Delta: 0.00650\n",
      "epoch 21, loss: 0.37784, accuracy: 0.83294, val_loss: 0.38647, val_accuracy: 0.81717 \n",
      "\n"
     ]
    },
    {
     "name": "stderr",
     "output_type": "stream",
     "text": [
      "100%|███████████████████████████████████████████████████████████████████████████| 1024/1024 [07:57<00:00,  2.14it/s]\n"
     ]
    },
    {
     "name": "stdout",
     "output_type": "stream",
     "text": [
      "[EarlyStopping] (Patience) 10/25, Best: 0.37997, Current: 0.39446, Delta: 0.01449\n",
      "epoch 22, loss: 0.37687, accuracy: 0.83341, val_loss: 0.39446, val_accuracy: 0.81671 \n",
      "\n"
     ]
    },
    {
     "name": "stderr",
     "output_type": "stream",
     "text": [
      "100%|███████████████████████████████████████████████████████████████████████████| 1024/1024 [07:55<00:00,  2.15it/s]\n"
     ]
    },
    {
     "name": "stdout",
     "output_type": "stream",
     "text": [
      "[EarlyStopping] (Patience) 11/25, Best: 0.37997, Current: 0.39089, Delta: 0.01093\n",
      "epoch 23, loss: 0.37658, accuracy: 0.83373, val_loss: 0.39089, val_accuracy: 0.81592 \n",
      "\n"
     ]
    },
    {
     "name": "stderr",
     "output_type": "stream",
     "text": [
      "100%|███████████████████████████████████████████████████████████████████████████| 1024/1024 [07:52<00:00,  2.16it/s]\n"
     ]
    },
    {
     "name": "stdout",
     "output_type": "stream",
     "text": [
      "[EarlyStopping] (Patience) 12/25, Best: 0.37997, Current: 0.38891, Delta: 0.00894\n",
      "epoch 24, loss: 0.37708, accuracy: 0.83316, val_loss: 0.38891, val_accuracy: 0.81689 \n",
      "\n"
     ]
    },
    {
     "name": "stderr",
     "output_type": "stream",
     "text": [
      "100%|███████████████████████████████████████████████████████████████████████████| 1024/1024 [07:54<00:00,  2.16it/s]\n"
     ]
    },
    {
     "name": "stdout",
     "output_type": "stream",
     "text": [
      "[EarlyStopping] (Patience) 13/25, Best: 0.37997, Current: 0.39479, Delta: 0.01482\n",
      "epoch 25, loss: 0.37699, accuracy: 0.83257, val_loss: 0.39479, val_accuracy: 0.81042 \n",
      "\n"
     ]
    },
    {
     "name": "stderr",
     "output_type": "stream",
     "text": [
      "100%|███████████████████████████████████████████████████████████████████████████| 1024/1024 [07:56<00:00,  2.15it/s]\n"
     ]
    },
    {
     "name": "stdout",
     "output_type": "stream",
     "text": [
      "[EarlyStopping] (Patience) 14/25, Best: 0.37997, Current: 0.39108, Delta: 0.01111\n",
      "epoch 26, loss: 0.37738, accuracy: 0.83324, val_loss: 0.39108, val_accuracy: 0.81390 \n",
      "\n"
     ]
    },
    {
     "name": "stderr",
     "output_type": "stream",
     "text": [
      "100%|███████████████████████████████████████████████████████████████████████████| 1024/1024 [07:54<00:00,  2.16it/s]\n"
     ]
    },
    {
     "name": "stdout",
     "output_type": "stream",
     "text": [
      "[EarlyStopping] (Patience) 15/25, Best: 0.37997, Current: 0.38658, Delta: 0.00662\n",
      "epoch 27, loss: 0.37742, accuracy: 0.83380, val_loss: 0.38658, val_accuracy: 0.81662 \n",
      "\n"
     ]
    },
    {
     "name": "stderr",
     "output_type": "stream",
     "text": [
      "100%|███████████████████████████████████████████████████████████████████████████| 1024/1024 [07:56<00:00,  2.15it/s]\n"
     ]
    },
    {
     "name": "stdout",
     "output_type": "stream",
     "text": [
      "[EarlyStopping] (Patience) 16/25, Best: 0.37997, Current: 0.38950, Delta: 0.00953\n",
      "epoch 28, loss: 0.37793, accuracy: 0.83321, val_loss: 0.38950, val_accuracy: 0.81223 \n",
      "\n"
     ]
    },
    {
     "name": "stderr",
     "output_type": "stream",
     "text": [
      "100%|███████████████████████████████████████████████████████████████████████████| 1024/1024 [07:56<00:00,  2.15it/s]\n"
     ]
    },
    {
     "name": "stdout",
     "output_type": "stream",
     "text": [
      "[EarlyStopping] (Patience) 17/25, Best: 0.37997, Current: 0.38531, Delta: 0.00535\n",
      "epoch 29, loss: 0.37565, accuracy: 0.83381, val_loss: 0.38531, val_accuracy: 0.81815 \n",
      "\n"
     ]
    },
    {
     "name": "stderr",
     "output_type": "stream",
     "text": [
      "100%|███████████████████████████████████████████████████████████████████████████| 1024/1024 [07:55<00:00,  2.15it/s]\n"
     ]
    },
    {
     "name": "stdout",
     "output_type": "stream",
     "text": [
      "[EarlyStopping] (Patience) 18/25, Best: 0.37997, Current: 0.39570, Delta: 0.01574\n",
      "epoch 30, loss: 0.37705, accuracy: 0.83393, val_loss: 0.39570, val_accuracy: 0.81311 \n",
      "\n"
     ]
    },
    {
     "name": "stderr",
     "output_type": "stream",
     "text": [
      "100%|███████████████████████████████████████████████████████████████████████████| 1024/1024 [07:57<00:00,  2.15it/s]\n"
     ]
    },
    {
     "name": "stdout",
     "output_type": "stream",
     "text": [
      "[EarlyStopping] (Patience) 19/25, Best: 0.37997, Current: 0.38492, Delta: 0.00496\n",
      "epoch 31, loss: 0.37535, accuracy: 0.83518, val_loss: 0.38492, val_accuracy: 0.81848 \n",
      "\n"
     ]
    },
    {
     "name": "stderr",
     "output_type": "stream",
     "text": [
      "100%|███████████████████████████████████████████████████████████████████████████| 1024/1024 [07:54<00:00,  2.16it/s]\n"
     ]
    },
    {
     "name": "stdout",
     "output_type": "stream",
     "text": [
      "[EarlyStopping] (Patience) 20/25, Best: 0.37997, Current: 0.38392, Delta: 0.00396\n",
      "epoch 32, loss: 0.37575, accuracy: 0.83402, val_loss: 0.38392, val_accuracy: 0.81625 \n",
      "\n"
     ]
    },
    {
     "name": "stderr",
     "output_type": "stream",
     "text": [
      "100%|███████████████████████████████████████████████████████████████████████████| 1024/1024 [07:55<00:00,  2.16it/s]\n"
     ]
    },
    {
     "name": "stdout",
     "output_type": "stream",
     "text": [
      "[EarlyStopping] (Patience) 21/25, Best: 0.37997, Current: 0.38686, Delta: 0.00689\n",
      "epoch 33, loss: 0.37482, accuracy: 0.83524, val_loss: 0.38686, val_accuracy: 0.81833 \n",
      "\n"
     ]
    },
    {
     "name": "stderr",
     "output_type": "stream",
     "text": [
      "100%|███████████████████████████████████████████████████████████████████████████| 1024/1024 [07:56<00:00,  2.15it/s]\n"
     ]
    },
    {
     "name": "stdout",
     "output_type": "stream",
     "text": [
      "[EarlyStopping] (Patience) 22/25, Best: 0.37997, Current: 0.39354, Delta: 0.01358\n",
      "epoch 34, loss: 0.37573, accuracy: 0.83370, val_loss: 0.39354, val_accuracy: 0.81192 \n",
      "\n"
     ]
    },
    {
     "name": "stderr",
     "output_type": "stream",
     "text": [
      "100%|███████████████████████████████████████████████████████████████████████████| 1024/1024 [07:54<00:00,  2.16it/s]\n"
     ]
    },
    {
     "name": "stdout",
     "output_type": "stream",
     "text": [
      "[EarlyStopping] (Patience) 23/25, Best: 0.37997, Current: 0.38373, Delta: 0.00377\n",
      "epoch 35, loss: 0.37547, accuracy: 0.83378, val_loss: 0.38373, val_accuracy: 0.81955 \n",
      "\n"
     ]
    },
    {
     "name": "stderr",
     "output_type": "stream",
     "text": [
      "100%|███████████████████████████████████████████████████████████████████████████| 1024/1024 [07:53<00:00,  2.16it/s]\n"
     ]
    },
    {
     "name": "stdout",
     "output_type": "stream",
     "text": [
      "[EarlyStopping] (Patience) 24/25, Best: 0.37997, Current: 0.39995, Delta: 0.01999\n",
      "epoch 36, loss: 0.37451, accuracy: 0.83488, val_loss: 0.39995, val_accuracy: 0.81302 \n",
      "\n"
     ]
    },
    {
     "name": "stderr",
     "output_type": "stream",
     "text": [
      "100%|███████████████████████████████████████████████████████████████████████████| 1024/1024 [07:56<00:00,  2.15it/s]\n"
     ]
    },
    {
     "name": "stdout",
     "output_type": "stream",
     "text": [
      "[EarlyStopping] (Patience) 25/25, Best: 0.37997, Current: 0.39031, Delta: 0.01034\n",
      "[EarlyStop Triggered] Best Score: 0.37997\n"
     ]
    }
   ],
   "source": [
    "for epoch in range(EPOCHS):\n",
    "    train_loss, train_acc = train.model_train(model=model, \n",
    "                                              data_loader=train_loader, \n",
    "                                              criterion=criterion, \n",
    "                                              optimizer=optimizer, \n",
    "                                              device=device, \n",
    "                                              scheduler=scheduler, \n",
    "                                              tqdm_disable=False)\n",
    "    val_loss, val_acc = train.model_evaluate(model=model, \n",
    "                                             data_loader=val_loader, \n",
    "                                             criterion=criterion, \n",
    "                                             device=device)\n",
    "    \n",
    "    history['train_loss'].append(train_loss)\n",
    "    history['train_accuracy'].append(train_acc)\n",
    "    history['val_loss'].append(val_loss)\n",
    "    history['val_accuracy'].append(val_acc)\n",
    "    \n",
    "    es(val_loss)\n",
    "    # Early Stop Check\n",
    "    if es.early_stop:\n",
    "        break\n",
    "\n",
    "    if val_loss < max_loss:\n",
    "        print(f'[INFO] val_loss has been improved from {max_loss:.5f} to {val_loss:.5f}. Save model.')\n",
    "        max_loss = val_loss\n",
    "        torch.save(model.state_dict(), 'Best_Model_ResNet_1.pth')\n",
    "\n",
    "    print(f'epoch {epoch+1:02d}, loss: {train_loss:.5f}, accuracy: {train_acc:.5f}, val_loss: {val_loss:.5f}, val_accuracy: {val_acc:.5f} \\n')"
   ]
  },
  {
   "cell_type": "code",
   "execution_count": 8,
   "metadata": {},
   "outputs": [
    {
     "data": {
      "image/png": "[encoded data removed]",
      "text/plain": [
       "<Figure size 640x480 with 1 Axes>"
      ]
     },
     "metadata": {},
     "output_type": "display_data"
    }
   ],
   "source": [
    "train.plot_acc(history=history)"
   ]
  },
  {
   "cell_type": "code",
   "execution_count": 9,
   "metadata": {},
   "outputs": [
    {
     "data": {
      "image/png": "[encoded data removed]",
      "text/plain": [
       "<Figure size 640x480 with 1 Axes>"
      ]
     },
     "metadata": {},
     "output_type": "display_data"
    }
   ],
   "source": [
    "train.plot_loss(history=history)"
   ]
  },
  {
   "cell_type": "code",
   "execution_count": 10,
   "metadata": {},
   "outputs": [
    {
     "name": "stdout",
     "output_type": "stream",
     "text": [
      "Test Loss: 0.4385412798728794\n",
      "Test Accuracy: 0.789031982421875\n"
     ]
    }
   ],
   "source": [
    "backbone = ResNet34.ResNet34_Backbone(pretrain=False).to(device=device)\n",
    "model = basic_classifier.BasicClassifier(backbone=backbone, \n",
    "                                         freezing=True, \n",
    "                                         num_classes=1).to(device=device)\n",
    "\n",
    "model.load_state_dict(torch.load('Best_Model_ResNet_1.pth', map_location=device))\n",
    "model.eval()\n",
    "\n",
    "test_loss, test_acc = train.model_evaluate(model=model,\n",
    "                                           data_loader=test_loader,\n",
    "                                           criterion=criterion,\n",
    "                                           device=device)\n",
    "\n",
    "print('Test Loss: %s'%test_loss)\n",
    "print('Test Accuracy: %s'%test_acc)"
   ]
  }
 ],
 "metadata": {
  "kernelspec": {
   "display_name": "Python 3 (ipykernel)",
   "language": "python",
   "name": "python3"
  },
  "language_info": {
   "codemirror_mode": {
    "name": "ipython",
    "version": 3
   },
   "file_extension": ".py",
   "mimetype": "text/x-python",
   "name": "python",
   "nbconvert_exporter": "python",
   "pygments_lexer": "ipython3",
   "version": "3.10.14"
  }
 },
 "nbformat": 4,
 "nbformat_minor": 4
}
