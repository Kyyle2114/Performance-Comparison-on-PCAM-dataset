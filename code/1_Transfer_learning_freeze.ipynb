{
 "cells": [
  {
   "cell_type": "code",
   "execution_count": 2,
   "metadata": {},
   "outputs": [],
   "source": [
    "import numpy as np\n",
    "import matplotlib.pyplot as plt\n",
    "\n",
    "import torch\n",
    "import torch.nn as nn\n",
    "import torch.optim as optim\n",
    "\n",
    "from utils import seed\n",
    "from data import dataset\n",
    "from model.backbone import VGG16, ResNet34\n",
    "from model import basic_classifier\n",
    "from utils import train\n",
    "\n",
    "seed.seed_everything()"
   ]
  },
  {
   "cell_type": "code",
   "execution_count": null,
   "metadata": {},
   "outputs": [],
   "source": [
    "device = 'cuda' if torch.cuda.is_available() else 'cpu'\n",
    "print(device)"
   ]
  },
  {
   "cell_type": "markdown",
   "metadata": {},
   "source": [
    "# VGG"
   ]
  },
  {
   "cell_type": "code",
   "execution_count": null,
   "metadata": {},
   "outputs": [],
   "source": [
    "# (already downloaded) dataset path \n",
    "path = './data/data'\n",
    "\n",
    "train_loader, val_loader, test_loader = dataset.load_pcam(path=path, \n",
    "                                                          input_shape=96,\n",
    "                                                          augmentation=True,\n",
    "                                                          normalize=True,\n",
    "                                                          batch_size=16,\n",
    "                                                          seed=21)"
   ]
  },
  {
   "cell_type": "code",
   "execution_count": null,
   "metadata": {},
   "outputs": [],
   "source": [
    "backbone = VGG16.VGG16_Backbone(pretrain=True).to(device=device)\n",
    "model = basic_classifier.BasicClassifier(backbone=backbone, \n",
    "                                         freezing=True, \n",
    "                                         num_classes=1).to(device=device)\n",
    "\n",
    "print(model)"
   ]
  },
  {
   "cell_type": "code",
   "execution_count": null,
   "metadata": {},
   "outputs": [],
   "source": [
    "EPOCHS = 50\n",
    "\n",
    "criterion = nn.BCELoss()\n",
    "optimizer = optim.SGD(model.parameters(), lr = 1e-3, weight_decay=1e-3, momentum=0.9)\n",
    "es = train.EarlyStopping(patience=EPOCHS//2, delta=0, mode='min', verbose=True)\n",
    "scheduler = optim.lr_scheduler.StepLR(optimizer, step_size=EPOCHS//5, gamma=0.9)\n",
    "\n",
    "history = {'train_loss' : [],\n",
    "           'val_loss': [],\n",
    "           'train_accuracy': [],\n",
    "           'val_accuracy': []}\n",
    "           \n",
    "\n",
    "max_loss = np.inf    "
   ]
  },
  {
   "cell_type": "code",
   "execution_count": null,
   "metadata": {},
   "outputs": [],
   "source": [
    "for epoch in range(EPOCHS):\n",
    "    train_loss, train_acc = train.model_train(model=model, \n",
    "                                              data_loader=train_loader, \n",
    "                                              criterion=criterion, \n",
    "                                              optimizer=optimizer, \n",
    "                                              device=device, \n",
    "                                              scheduler=scheduler, \n",
    "                                              tqdm_disable=False)\n",
    "    val_loss, val_acc = train.model_evaluate(model=model, \n",
    "                                             data_loader=val_loader, \n",
    "                                             criterion=criterion, \n",
    "                                             device=device)\n",
    "    \n",
    "    history['train_loss'].append(train_loss)\n",
    "    history['train_accuracy'].append(train_acc)\n",
    "    history['val_loss'].append(val_loss)\n",
    "    history['val_accuracy'].append(val_acc)\n",
    "    \n",
    "    es(val_acc)\n",
    "    # Early Stop Check\n",
    "    if es.early_stop:\n",
    "        break\n",
    "\n",
    "    if val_loss < max_loss:\n",
    "        print(f'[INFO] val_loss has been improved from {max_loss:.5f} to {val_loss:.5f}. Save model.')\n",
    "        max_loss = val_loss\n",
    "        torch.save(model.state_dict(), 'Best_Model_VGG_1.pth')\n",
    "\n",
    "    print(f'epoch {epoch+1:02d}, loss: {train_loss:.5f}, accuracy: {train_acc:.5f}, val_loss: {val_loss:.5f}, val_accuracy: {val_acc:.5f} \\n')"
   ]
  },
  {
   "cell_type": "code",
   "execution_count": null,
   "metadata": {},
   "outputs": [],
   "source": [
    "train.plot_acc(history=history)"
   ]
  },
  {
   "cell_type": "code",
   "execution_count": null,
   "metadata": {},
   "outputs": [],
   "source": [
    "train.plot_loss(history=history)"
   ]
  },
  {
   "cell_type": "code",
   "execution_count": null,
   "metadata": {},
   "outputs": [],
   "source": [
    "backbone = VGG16.VGG16_Backbone(pretrain=False).to(device=device)\n",
    "model = basic_classifier.BasicClassifier(backbone=backbone, \n",
    "                                         freezing=True, \n",
    "                                         num_classes=1).to(device=device)\n",
    "\n",
    "model.load_state_dict(torch.load('Best_Model_VGG_1.pth'))\n",
    "model.eval()\n",
    "\n",
    "test_loss, test_acc = train.model_evaluate(model=model,\n",
    "                                           data_loader=test_loader,\n",
    "                                           criterion=criterion,\n",
    "                                           device=device)\n",
    "\n",
    "print('Test Loss: %s'%test_loss)\n",
    "print('Test Accuracy: %s'%test_acc)"
   ]
  },
  {
   "cell_type": "markdown",
   "metadata": {},
   "source": [
    "# ResNet"
   ]
  },
  {
   "cell_type": "code",
   "execution_count": null,
   "metadata": {},
   "outputs": [],
   "source": [
    "train_loader, val_loader, test_loader = dataset.load_pcam(path=path, \n",
    "                                                          input_shape=96,\n",
    "                                                          augmentation=True,\n",
    "                                                          normalize=True,\n",
    "                                                          batch_size=16,\n",
    "                                                          seed=21)"
   ]
  },
  {
   "cell_type": "code",
   "execution_count": null,
   "metadata": {},
   "outputs": [],
   "source": [
    "backbone = ResNet34.ResNet34_Backbone(pretrain=True).to(device=device)\n",
    "model = basic_classifier.BasicClassifier(backbone=backbone, \n",
    "                                         freezing=True, \n",
    "                                         num_classes=1).to(device=device)\n",
    "\n",
    "print(model)"
   ]
  },
  {
   "cell_type": "code",
   "execution_count": null,
   "metadata": {},
   "outputs": [],
   "source": [
    "EPOCHS = 50\n",
    "\n",
    "criterion = nn.BCELoss()\n",
    "optimizer = optim.SGD(model.parameters(), lr = 1e-3, weight_decay=1e-3, momentum=0.9)\n",
    "es = train.EarlyStopping(patience=EPOCHS//2, delta=0, mode='min', verbose=True)\n",
    "scheduler = optim.lr_scheduler.StepLR(optimizer, step_size=EPOCHS//5, gamma=0.9)\n",
    "\n",
    "history = {'train_loss' : [],\n",
    "           'val_loss': [],\n",
    "           'train_accuracy': [],\n",
    "           'val_accuracy': []}\n",
    "           \n",
    "\n",
    "max_loss = np.inf    "
   ]
  },
  {
   "cell_type": "code",
   "execution_count": null,
   "metadata": {},
   "outputs": [],
   "source": [
    "for epoch in range(EPOCHS):\n",
    "    train_loss, train_acc = train.model_train(model=model, \n",
    "                                              data_loader=train_loader, \n",
    "                                              criterion=criterion, \n",
    "                                              optimizer=optimizer, \n",
    "                                              device=device, \n",
    "                                              scheduler=scheduler, \n",
    "                                              tqdm_disable=False)\n",
    "    val_loss, val_acc = train.model_evaluate(model=model, \n",
    "                                             data_loader=val_loader, \n",
    "                                             criterion=criterion, \n",
    "                                             device=device)\n",
    "    \n",
    "    history['train_loss'].append(train_loss)\n",
    "    history['train_accuracy'].append(train_acc)\n",
    "    history['val_loss'].append(val_loss)\n",
    "    history['val_accuracy'].append(val_acc)\n",
    "    \n",
    "    es(val_acc)\n",
    "    # Early Stop Check\n",
    "    if es.early_stop:\n",
    "        break\n",
    "\n",
    "    if val_loss < max_loss:\n",
    "        print(f'[INFO] val_loss has been improved from {max_loss:.5f} to {val_loss:.5f}. Save model.')\n",
    "        max_loss = val_loss\n",
    "        torch.save(model.state_dict(), 'Best_Model_ResNet_1.pth')\n",
    "\n",
    "    print(f'epoch {epoch+1:02d}, loss: {train_loss:.5f}, accuracy: {train_acc:.5f}, val_loss: {val_loss:.5f}, val_accuracy: {val_acc:.5f} \\n')"
   ]
  },
  {
   "cell_type": "code",
   "execution_count": null,
   "metadata": {},
   "outputs": [],
   "source": [
    "train.plot_acc(history=history)"
   ]
  },
  {
   "cell_type": "code",
   "execution_count": null,
   "metadata": {},
   "outputs": [],
   "source": [
    "train.plot_loss(history=history)"
   ]
  },
  {
   "cell_type": "code",
   "execution_count": null,
   "metadata": {},
   "outputs": [],
   "source": [
    "backbone = ResNet34.ResNet34_Backbone(pretrain=False).to(device=device)\n",
    "model = basic_classifier.BasicClassifier(backbone=backbone, \n",
    "                                         freezing=True, \n",
    "                                         num_classes=1).to(device=device)\n",
    "\n",
    "model.load_state_dict(torch.load('Best_Model_ResNet_1.pth'))\n",
    "model.eval()\n",
    "\n",
    "test_loss, test_acc = train.model_evaluate(model=model,\n",
    "                                           data_loader=test_loader,\n",
    "                                           criterion=criterion,\n",
    "                                           device=device)\n",
    "\n",
    "print('Test Loss: %s'%test_loss)\n",
    "print('Test Accuracy: %s'%test_acc)"
   ]
  }
 ],
 "metadata": {
  "kernelspec": {
   "display_name": "wsl",
   "language": "python",
   "name": "python3"
  },
  "language_info": {
   "codemirror_mode": {
    "name": "ipython",
    "version": 3
   },
   "file_extension": ".py",
   "mimetype": "text/x-python",
   "name": "python",
   "nbconvert_exporter": "python",
   "pygments_lexer": "ipython3",
   "version": "3.10.13"
  }
 },
 "nbformat": 4,
 "nbformat_minor": 2
}
