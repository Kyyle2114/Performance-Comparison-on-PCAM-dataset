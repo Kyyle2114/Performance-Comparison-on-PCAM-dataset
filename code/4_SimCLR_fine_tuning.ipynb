{
 "cells": [
  {
   "cell_type": "code",
   "execution_count": 1,
   "metadata": {},
   "outputs": [],
   "source": [
    "import os\n",
    "import numpy as np\n",
    "import matplotlib.pyplot as plt\n",
    "import warnings\n",
    "warnings.filterwarnings('ignore')\n",
    "\n",
    "import torch\n",
    "import torch.nn as nn\n",
    "import torch.optim as optim\n",
    "\n",
    "from utils import seed\n",
    "from data import dataset\n",
    "from model.backbone import VGG16, ResNet34\n",
    "from model.simclr import basic_simclr, data_aug, simclr_train\n",
    "from model import basic_classifier\n",
    "from utils import train\n",
    "\n",
    "seed.seed_everything()"
   ]
  },
  {
   "cell_type": "code",
   "execution_count": 2,
   "metadata": {},
   "outputs": [
    {
     "name": "stdout",
     "output_type": "stream",
     "text": [
      "cuda:0\n"
     ]
    }
   ],
   "source": [
    "device = 'cuda:0' if torch.cuda.is_available() else 'cpu'\n",
    "print(device)"
   ]
  },
  {
   "cell_type": "markdown",
   "metadata": {},
   "source": [
    "# VGG"
   ]
  },
  {
   "cell_type": "code",
   "execution_count": 3,
   "metadata": {},
   "outputs": [],
   "source": [
    "# (already downloaded) dataset path \n",
    "path = './data'\n",
    "\n",
    "train_loader, val_loader, test_loader = dataset.load_pcam(path=path, \n",
    "                                                          input_shape=96,\n",
    "                                                          augmentation=True,\n",
    "                                                          normalize=True,\n",
    "                                                          batch_size=256,\n",
    "                                                          seed=21)"
   ]
  },
  {
   "cell_type": "code",
   "execution_count": 4,
   "metadata": {},
   "outputs": [
    {
     "data": {
      "text/plain": [
       "<All keys matched successfully>"
      ]
     },
     "execution_count": 4,
     "metadata": {},
     "output_type": "execute_result"
    }
   ],
   "source": [
    "backbone = VGG16.VGG16_Backbone(pretrain=False).to(device=device)\n",
    "model_temp = basic_simclr.BasicSimCLR(backbone, num_classes=64).to(device=device)\n",
    "\n",
    "# path - VGG \n",
    "log_dir = 'checkpoints/Mar30_11-40-32'\n",
    "file_path = 'checkpoint_0100.pth.tar'\n",
    "\n",
    "checkpoint_path = os.path.join(log_dir, file_path)\n",
    "checkpoint = torch.load(checkpoint_path, map_location=device)\n",
    "model_temp.load_state_dict(checkpoint['state_dict'])"
   ]
  },
  {
   "cell_type": "code",
   "execution_count": 5,
   "metadata": {},
   "outputs": [
    {
     "name": "stdout",
     "output_type": "stream",
     "text": [
      "BasicClassifier(\n",
      "  (backbone): Sequential(\n",
      "    (0): Conv2d(3, 64, kernel_size=(3, 3), stride=(1, 1), padding=(1, 1))\n",
      "    (1): ReLU(inplace=True)\n",
      "    (2): Conv2d(64, 64, kernel_size=(3, 3), stride=(1, 1), padding=(1, 1))\n",
      "    (3): ReLU(inplace=True)\n",
      "    (4): MaxPool2d(kernel_size=2, stride=2, padding=0, dilation=1, ceil_mode=False)\n",
      "    (5): Conv2d(64, 128, kernel_size=(3, 3), stride=(1, 1), padding=(1, 1))\n",
      "    (6): ReLU(inplace=True)\n",
      "    (7): Conv2d(128, 128, kernel_size=(3, 3), stride=(1, 1), padding=(1, 1))\n",
      "    (8): ReLU(inplace=True)\n",
      "    (9): MaxPool2d(kernel_size=2, stride=2, padding=0, dilation=1, ceil_mode=False)\n",
      "    (10): Conv2d(128, 256, kernel_size=(3, 3), stride=(1, 1), padding=(1, 1))\n",
      "    (11): ReLU(inplace=True)\n",
      "    (12): Conv2d(256, 256, kernel_size=(3, 3), stride=(1, 1), padding=(1, 1))\n",
      "    (13): ReLU(inplace=True)\n",
      "    (14): Conv2d(256, 256, kernel_size=(3, 3), stride=(1, 1), padding=(1, 1))\n",
      "    (15): ReLU(inplace=True)\n",
      "    (16): MaxPool2d(kernel_size=2, stride=2, padding=0, dilation=1, ceil_mode=False)\n",
      "    (17): Conv2d(256, 512, kernel_size=(3, 3), stride=(1, 1), padding=(1, 1))\n",
      "    (18): ReLU(inplace=True)\n",
      "    (19): Conv2d(512, 512, kernel_size=(3, 3), stride=(1, 1), padding=(1, 1))\n",
      "    (20): ReLU(inplace=True)\n",
      "    (21): Conv2d(512, 512, kernel_size=(3, 3), stride=(1, 1), padding=(1, 1))\n",
      "    (22): ReLU(inplace=True)\n",
      "    (23): MaxPool2d(kernel_size=2, stride=2, padding=0, dilation=1, ceil_mode=False)\n",
      "    (24): Conv2d(512, 512, kernel_size=(3, 3), stride=(1, 1), padding=(1, 1))\n",
      "    (25): ReLU(inplace=True)\n",
      "    (26): Conv2d(512, 512, kernel_size=(3, 3), stride=(1, 1), padding=(1, 1))\n",
      "    (27): ReLU(inplace=True)\n",
      "    (28): Conv2d(512, 512, kernel_size=(3, 3), stride=(1, 1), padding=(1, 1))\n",
      "    (29): ReLU(inplace=True)\n",
      "    (30): MaxPool2d(kernel_size=2, stride=2, padding=0, dilation=1, ceil_mode=False)\n",
      "  )\n",
      "  (avg): AdaptiveAvgPool2d(output_size=(1, 1))\n",
      "  (fc): Sequential(\n",
      "    (0): Flatten(start_dim=1, end_dim=-1)\n",
      "    (1): Linear(in_features=512, out_features=64, bias=True)\n",
      "    (2): ReLU()\n",
      "    (3): Dropout(p=0.5, inplace=False)\n",
      "    (4): Linear(in_features=64, out_features=1, bias=True)\n",
      "  )\n",
      ")\n"
     ]
    }
   ],
   "source": [
    "# backbone from SimCLR\n",
    "model = basic_classifier.BasicClassifier(backbone=backbone, \n",
    "                                         freezing=True, \n",
    "                                         num_classes=1).to(device=device)\n",
    "\n",
    "print(model)"
   ]
  },
  {
   "cell_type": "code",
   "execution_count": 6,
   "metadata": {},
   "outputs": [],
   "source": [
    "# Warm-up stage \n",
    "# 0 ~ 10 epochs\n",
    "EPOCHS = 10\n",
    "\n",
    "criterion = nn.BCELoss()\n",
    "# higher lr for warm-up\n",
    "optimizer = optim.Adam(model.parameters(), lr=1e-3, weight_decay=1e-3)\n",
    "\n",
    "history = {'train_loss' : [],\n",
    "           'val_loss': [],\n",
    "           'train_accuracy': [],\n",
    "           'val_accuracy': []}\n",
    "           \n",
    "max_loss = np.inf"
   ]
  },
  {
   "cell_type": "code",
   "execution_count": 7,
   "metadata": {},
   "outputs": [
    {
     "name": "stderr",
     "output_type": "stream",
     "text": [
      "100%|███████████████████████████████████████████████████████████████████████████| 1024/1024 [09:14<00:00,  1.85it/s]\n"
     ]
    },
    {
     "name": "stdout",
     "output_type": "stream",
     "text": [
      "epoch 01, loss: 0.49849, accuracy: 0.76076, val_loss: 0.53238, val_accuracy: 0.72806 \n",
      "\n"
     ]
    },
    {
     "name": "stderr",
     "output_type": "stream",
     "text": [
      "100%|███████████████████████████████████████████████████████████████████████████| 1024/1024 [09:10<00:00,  1.86it/s]\n"
     ]
    },
    {
     "name": "stdout",
     "output_type": "stream",
     "text": [
      "epoch 02, loss: 0.46439, accuracy: 0.78178, val_loss: 0.49261, val_accuracy: 0.76505 \n",
      "\n"
     ]
    },
    {
     "name": "stderr",
     "output_type": "stream",
     "text": [
      "100%|███████████████████████████████████████████████████████████████████████████| 1024/1024 [09:10<00:00,  1.86it/s]\n"
     ]
    },
    {
     "name": "stdout",
     "output_type": "stream",
     "text": [
      "epoch 03, loss: 0.45137, accuracy: 0.79050, val_loss: 0.47641, val_accuracy: 0.77100 \n",
      "\n"
     ]
    },
    {
     "name": "stderr",
     "output_type": "stream",
     "text": [
      "100%|███████████████████████████████████████████████████████████████████████████| 1024/1024 [09:10<00:00,  1.86it/s]\n"
     ]
    },
    {
     "name": "stdout",
     "output_type": "stream",
     "text": [
      "epoch 04, loss: 0.44605, accuracy: 0.79376, val_loss: 0.47908, val_accuracy: 0.77084 \n",
      "\n"
     ]
    },
    {
     "name": "stderr",
     "output_type": "stream",
     "text": [
      "100%|███████████████████████████████████████████████████████████████████████████| 1024/1024 [09:11<00:00,  1.86it/s]\n"
     ]
    },
    {
     "name": "stdout",
     "output_type": "stream",
     "text": [
      "epoch 05, loss: 0.44270, accuracy: 0.79622, val_loss: 0.47794, val_accuracy: 0.77194 \n",
      "\n"
     ]
    },
    {
     "name": "stderr",
     "output_type": "stream",
     "text": [
      "100%|███████████████████████████████████████████████████████████████████████████| 1024/1024 [09:09<00:00,  1.86it/s]\n"
     ]
    },
    {
     "name": "stdout",
     "output_type": "stream",
     "text": [
      "epoch 06, loss: 0.43939, accuracy: 0.79869, val_loss: 0.45657, val_accuracy: 0.77783 \n",
      "\n"
     ]
    },
    {
     "name": "stderr",
     "output_type": "stream",
     "text": [
      "100%|███████████████████████████████████████████████████████████████████████████| 1024/1024 [09:11<00:00,  1.86it/s]\n"
     ]
    },
    {
     "name": "stdout",
     "output_type": "stream",
     "text": [
      "epoch 07, loss: 0.43835, accuracy: 0.79880, val_loss: 0.47363, val_accuracy: 0.77524 \n",
      "\n"
     ]
    },
    {
     "name": "stderr",
     "output_type": "stream",
     "text": [
      "100%|███████████████████████████████████████████████████████████████████████████| 1024/1024 [09:10<00:00,  1.86it/s]\n"
     ]
    },
    {
     "name": "stdout",
     "output_type": "stream",
     "text": [
      "epoch 08, loss: 0.43594, accuracy: 0.80091, val_loss: 0.47226, val_accuracy: 0.77469 \n",
      "\n"
     ]
    },
    {
     "name": "stderr",
     "output_type": "stream",
     "text": [
      "100%|███████████████████████████████████████████████████████████████████████████| 1024/1024 [09:10<00:00,  1.86it/s]\n"
     ]
    },
    {
     "name": "stdout",
     "output_type": "stream",
     "text": [
      "epoch 09, loss: 0.43580, accuracy: 0.80106, val_loss: 0.47515, val_accuracy: 0.77652 \n",
      "\n"
     ]
    },
    {
     "name": "stderr",
     "output_type": "stream",
     "text": [
      "100%|███████████████████████████████████████████████████████████████████████████| 1024/1024 [09:09<00:00,  1.86it/s]\n"
     ]
    },
    {
     "name": "stdout",
     "output_type": "stream",
     "text": [
      "epoch 10, loss: 0.43521, accuracy: 0.80117, val_loss: 0.45088, val_accuracy: 0.78143 \n",
      "\n"
     ]
    }
   ],
   "source": [
    "for epoch in range(EPOCHS):\n",
    "    train_loss, train_acc = train.model_train(model=model, \n",
    "                                              data_loader=train_loader, \n",
    "                                              criterion=criterion, \n",
    "                                              optimizer=optimizer, \n",
    "                                              device=device, \n",
    "                                              scheduler=None, \n",
    "                                              tqdm_disable=False)\n",
    "    val_loss, val_acc = train.model_evaluate(model=model, \n",
    "                                             data_loader=val_loader, \n",
    "                                             criterion=criterion, \n",
    "                                             device=device)\n",
    "    \n",
    "    history['train_loss'].append(train_loss)\n",
    "    history['train_accuracy'].append(train_acc)\n",
    "    history['val_loss'].append(val_loss)\n",
    "    history['val_accuracy'].append(val_acc)\n",
    "\n",
    "    print(f'epoch {epoch+1:02d}, loss: {train_loss:.5f}, accuracy: {train_acc:.5f}, val_loss: {val_loss:.5f}, val_accuracy: {val_acc:.5f} \\n')"
   ]
  },
  {
   "cell_type": "code",
   "execution_count": 8,
   "metadata": {},
   "outputs": [],
   "source": [
    "# freezing True -> False \n",
    "for param in model.backbone.parameters():\n",
    "    param.requires_grad = True"
   ]
  },
  {
   "cell_type": "code",
   "execution_count": 9,
   "metadata": {},
   "outputs": [],
   "source": [
    "# Fine-tuning stage \n",
    "# 10 ~ 50 epochs\n",
    "EPOCHS = 40\n",
    "\n",
    "criterion = nn.BCELoss()\n",
    "# lower lr for fine-tuning\n",
    "optimizer = optim.Adam(model.parameters(), lr=5e-4, weight_decay=1e-3)\n",
    "es = train.EarlyStopping(patience=EPOCHS//2, delta=0, mode='min', verbose=True)\n",
    "scheduler = optim.lr_scheduler.StepLR(optimizer, step_size=EPOCHS//5, gamma=0.9)\n",
    "\n",
    "history = {'train_loss' : [],\n",
    "           'val_loss': [],\n",
    "           'train_accuracy': [],\n",
    "           'val_accuracy': []}\n",
    "           \n",
    "max_loss = np.inf    "
   ]
  },
  {
   "cell_type": "code",
   "execution_count": 10,
   "metadata": {},
   "outputs": [
    {
     "name": "stderr",
     "output_type": "stream",
     "text": [
      "100%|███████████████████████████████████████████████████████████████████████████| 1024/1024 [13:34<00:00,  1.26it/s]\n"
     ]
    },
    {
     "name": "stdout",
     "output_type": "stream",
     "text": [
      "[EarlyStopping] (Update) Best Score: 0.34976\n",
      "[INFO] val_loss has been improved from inf to 0.34976. Save model.\n",
      "epoch 01, loss: 0.27475, accuracy: 0.89290, val_loss: 0.34976, val_accuracy: 0.86777 \n",
      "\n"
     ]
    },
    {
     "name": "stderr",
     "output_type": "stream",
     "text": [
      "100%|███████████████████████████████████████████████████████████████████████████| 1024/1024 [13:13<00:00,  1.29it/s]\n"
     ]
    },
    {
     "name": "stdout",
     "output_type": "stream",
     "text": [
      "[EarlyStopping] (Update) Best Score: 0.28114\n",
      "[INFO] val_loss has been improved from 0.34976 to 0.28114. Save model.\n",
      "epoch 02, loss: 0.18854, accuracy: 0.93034, val_loss: 0.28114, val_accuracy: 0.88870 \n",
      "\n"
     ]
    },
    {
     "name": "stderr",
     "output_type": "stream",
     "text": [
      "100%|███████████████████████████████████████████████████████████████████████████| 1024/1024 [13:13<00:00,  1.29it/s]\n"
     ]
    },
    {
     "name": "stdout",
     "output_type": "stream",
     "text": [
      "[EarlyStopping] (Patience) 1/20, Best: 0.28114, Current: 0.36787, Delta: 0.08673\n",
      "epoch 03, loss: 0.17068, accuracy: 0.93802, val_loss: 0.36787, val_accuracy: 0.86899 \n",
      "\n"
     ]
    },
    {
     "name": "stderr",
     "output_type": "stream",
     "text": [
      "100%|███████████████████████████████████████████████████████████████████████████| 1024/1024 [13:13<00:00,  1.29it/s]\n"
     ]
    },
    {
     "name": "stdout",
     "output_type": "stream",
     "text": [
      "[EarlyStopping] (Update) Best Score: 0.25745\n",
      "[INFO] val_loss has been improved from 0.28114 to 0.25745. Save model.\n",
      "epoch 04, loss: 0.16221, accuracy: 0.94170, val_loss: 0.25745, val_accuracy: 0.89865 \n",
      "\n"
     ]
    },
    {
     "name": "stderr",
     "output_type": "stream",
     "text": [
      "100%|███████████████████████████████████████████████████████████████████████████| 1024/1024 [13:22<00:00,  1.28it/s]\n"
     ]
    },
    {
     "name": "stdout",
     "output_type": "stream",
     "text": [
      "[EarlyStopping] (Patience) 1/20, Best: 0.25745, Current: 0.42706, Delta: 0.16961\n",
      "epoch 05, loss: 0.15380, accuracy: 0.94494, val_loss: 0.42706, val_accuracy: 0.85660 \n",
      "\n"
     ]
    },
    {
     "name": "stderr",
     "output_type": "stream",
     "text": [
      "100%|███████████████████████████████████████████████████████████████████████████| 1024/1024 [13:22<00:00,  1.28it/s]\n"
     ]
    },
    {
     "name": "stdout",
     "output_type": "stream",
     "text": [
      "[EarlyStopping] (Patience) 2/20, Best: 0.25745, Current: 0.28737, Delta: 0.02992\n",
      "epoch 06, loss: 0.15043, accuracy: 0.94605, val_loss: 0.28737, val_accuracy: 0.89240 \n",
      "\n"
     ]
    },
    {
     "name": "stderr",
     "output_type": "stream",
     "text": [
      "100%|███████████████████████████████████████████████████████████████████████████| 1024/1024 [13:21<00:00,  1.28it/s]\n"
     ]
    },
    {
     "name": "stdout",
     "output_type": "stream",
     "text": [
      "[EarlyStopping] (Patience) 3/20, Best: 0.25745, Current: 0.32369, Delta: 0.06624\n",
      "epoch 07, loss: 0.14652, accuracy: 0.94775, val_loss: 0.32369, val_accuracy: 0.87537 \n",
      "\n"
     ]
    },
    {
     "name": "stderr",
     "output_type": "stream",
     "text": [
      "100%|███████████████████████████████████████████████████████████████████████████| 1024/1024 [13:24<00:00,  1.27it/s]\n"
     ]
    },
    {
     "name": "stdout",
     "output_type": "stream",
     "text": [
      "[EarlyStopping] (Patience) 4/20, Best: 0.25745, Current: 0.27576, Delta: 0.01831\n",
      "epoch 08, loss: 0.14524, accuracy: 0.94859, val_loss: 0.27576, val_accuracy: 0.89020 \n",
      "\n"
     ]
    },
    {
     "name": "stderr",
     "output_type": "stream",
     "text": [
      "100%|███████████████████████████████████████████████████████████████████████████| 1024/1024 [13:22<00:00,  1.28it/s]\n"
     ]
    },
    {
     "name": "stdout",
     "output_type": "stream",
     "text": [
      "[EarlyStopping] (Update) Best Score: 0.24539\n",
      "[INFO] val_loss has been improved from 0.25745 to 0.24539. Save model.\n",
      "epoch 09, loss: 0.13945, accuracy: 0.95034, val_loss: 0.24539, val_accuracy: 0.90320 \n",
      "\n"
     ]
    },
    {
     "name": "stderr",
     "output_type": "stream",
     "text": [
      "100%|███████████████████████████████████████████████████████████████████████████| 1024/1024 [13:22<00:00,  1.28it/s]\n"
     ]
    },
    {
     "name": "stdout",
     "output_type": "stream",
     "text": [
      "[EarlyStopping] (Patience) 1/20, Best: 0.24539, Current: 0.29501, Delta: 0.04962\n",
      "epoch 10, loss: 0.13739, accuracy: 0.95150, val_loss: 0.29501, val_accuracy: 0.88702 \n",
      "\n"
     ]
    },
    {
     "name": "stderr",
     "output_type": "stream",
     "text": [
      "100%|███████████████████████████████████████████████████████████████████████████| 1024/1024 [13:22<00:00,  1.28it/s]\n"
     ]
    },
    {
     "name": "stdout",
     "output_type": "stream",
     "text": [
      "[EarlyStopping] (Patience) 2/20, Best: 0.24539, Current: 0.26770, Delta: 0.02231\n",
      "epoch 11, loss: 0.13295, accuracy: 0.95318, val_loss: 0.26770, val_accuracy: 0.90143 \n",
      "\n"
     ]
    },
    {
     "name": "stderr",
     "output_type": "stream",
     "text": [
      "100%|███████████████████████████████████████████████████████████████████████████| 1024/1024 [13:22<00:00,  1.28it/s]\n"
     ]
    },
    {
     "name": "stdout",
     "output_type": "stream",
     "text": [
      "[EarlyStopping] (Patience) 3/20, Best: 0.24539, Current: 0.32802, Delta: 0.08262\n",
      "epoch 12, loss: 0.13065, accuracy: 0.95416, val_loss: 0.32802, val_accuracy: 0.87552 \n",
      "\n"
     ]
    },
    {
     "name": "stderr",
     "output_type": "stream",
     "text": [
      "100%|███████████████████████████████████████████████████████████████████████████| 1024/1024 [13:19<00:00,  1.28it/s]\n"
     ]
    },
    {
     "name": "stdout",
     "output_type": "stream",
     "text": [
      "[EarlyStopping] (Patience) 4/20, Best: 0.24539, Current: 0.34224, Delta: 0.09684\n",
      "epoch 13, loss: 0.12972, accuracy: 0.95409, val_loss: 0.34224, val_accuracy: 0.88461 \n",
      "\n"
     ]
    },
    {
     "name": "stderr",
     "output_type": "stream",
     "text": [
      "100%|███████████████████████████████████████████████████████████████████████████| 1024/1024 [13:21<00:00,  1.28it/s]\n"
     ]
    },
    {
     "name": "stdout",
     "output_type": "stream",
     "text": [
      "[EarlyStopping] (Patience) 5/20, Best: 0.24539, Current: 0.33085, Delta: 0.08545\n",
      "epoch 14, loss: 0.12743, accuracy: 0.95488, val_loss: 0.33085, val_accuracy: 0.88733 \n",
      "\n"
     ]
    },
    {
     "name": "stderr",
     "output_type": "stream",
     "text": [
      "100%|███████████████████████████████████████████████████████████████████████████| 1024/1024 [13:23<00:00,  1.27it/s]\n"
     ]
    },
    {
     "name": "stdout",
     "output_type": "stream",
     "text": [
      "[EarlyStopping] (Patience) 6/20, Best: 0.24539, Current: 0.45728, Delta: 0.21189\n",
      "epoch 15, loss: 0.12692, accuracy: 0.95570, val_loss: 0.45728, val_accuracy: 0.85126 \n",
      "\n"
     ]
    },
    {
     "name": "stderr",
     "output_type": "stream",
     "text": [
      "100%|███████████████████████████████████████████████████████████████████████████| 1024/1024 [13:23<00:00,  1.27it/s]\n"
     ]
    },
    {
     "name": "stdout",
     "output_type": "stream",
     "text": [
      "[EarlyStopping] (Patience) 7/20, Best: 0.24539, Current: 0.54496, Delta: 0.29957\n",
      "epoch 16, loss: 0.12481, accuracy: 0.95649, val_loss: 0.54496, val_accuracy: 0.84830 \n",
      "\n"
     ]
    },
    {
     "name": "stderr",
     "output_type": "stream",
     "text": [
      "100%|███████████████████████████████████████████████████████████████████████████| 1024/1024 [13:22<00:00,  1.28it/s]\n"
     ]
    },
    {
     "name": "stdout",
     "output_type": "stream",
     "text": [
      "[EarlyStopping] (Patience) 8/20, Best: 0.24539, Current: 0.32909, Delta: 0.08370\n",
      "epoch 17, loss: 0.12091, accuracy: 0.95788, val_loss: 0.32909, val_accuracy: 0.88391 \n",
      "\n"
     ]
    },
    {
     "name": "stderr",
     "output_type": "stream",
     "text": [
      "100%|███████████████████████████████████████████████████████████████████████████| 1024/1024 [13:22<00:00,  1.28it/s]\n"
     ]
    },
    {
     "name": "stdout",
     "output_type": "stream",
     "text": [
      "[EarlyStopping] (Patience) 9/20, Best: 0.24539, Current: 0.51545, Delta: 0.27006\n",
      "epoch 18, loss: 0.12031, accuracy: 0.95794, val_loss: 0.51545, val_accuracy: 0.84256 \n",
      "\n"
     ]
    },
    {
     "name": "stderr",
     "output_type": "stream",
     "text": [
      "100%|███████████████████████████████████████████████████████████████████████████| 1024/1024 [13:21<00:00,  1.28it/s]\n"
     ]
    },
    {
     "name": "stdout",
     "output_type": "stream",
     "text": [
      "[EarlyStopping] (Patience) 10/20, Best: 0.24539, Current: 0.34971, Delta: 0.10431\n",
      "epoch 19, loss: 0.11868, accuracy: 0.95847, val_loss: 0.34971, val_accuracy: 0.87396 \n",
      "\n"
     ]
    },
    {
     "name": "stderr",
     "output_type": "stream",
     "text": [
      "100%|███████████████████████████████████████████████████████████████████████████| 1024/1024 [13:21<00:00,  1.28it/s]\n"
     ]
    },
    {
     "name": "stdout",
     "output_type": "stream",
     "text": [
      "[EarlyStopping] (Patience) 11/20, Best: 0.24539, Current: 0.28798, Delta: 0.04258\n",
      "epoch 20, loss: 0.11823, accuracy: 0.95938, val_loss: 0.28798, val_accuracy: 0.89633 \n",
      "\n"
     ]
    },
    {
     "name": "stderr",
     "output_type": "stream",
     "text": [
      "100%|███████████████████████████████████████████████████████████████████████████| 1024/1024 [13:22<00:00,  1.28it/s]\n"
     ]
    },
    {
     "name": "stdout",
     "output_type": "stream",
     "text": [
      "[EarlyStopping] (Patience) 12/20, Best: 0.24539, Current: 0.27018, Delta: 0.02479\n",
      "epoch 21, loss: 0.11716, accuracy: 0.95924, val_loss: 0.27018, val_accuracy: 0.89297 \n",
      "\n"
     ]
    },
    {
     "name": "stderr",
     "output_type": "stream",
     "text": [
      "100%|███████████████████████████████████████████████████████████████████████████| 1024/1024 [13:21<00:00,  1.28it/s]\n"
     ]
    },
    {
     "name": "stdout",
     "output_type": "stream",
     "text": [
      "[EarlyStopping] (Patience) 13/20, Best: 0.24539, Current: 0.38794, Delta: 0.14255\n",
      "epoch 22, loss: 0.11747, accuracy: 0.95950, val_loss: 0.38794, val_accuracy: 0.87155 \n",
      "\n"
     ]
    },
    {
     "name": "stderr",
     "output_type": "stream",
     "text": [
      "100%|███████████████████████████████████████████████████████████████████████████| 1024/1024 [13:21<00:00,  1.28it/s]\n"
     ]
    },
    {
     "name": "stdout",
     "output_type": "stream",
     "text": [
      "[EarlyStopping] (Patience) 14/20, Best: 0.24539, Current: 0.32151, Delta: 0.07612\n",
      "epoch 23, loss: 0.11579, accuracy: 0.95949, val_loss: 0.32151, val_accuracy: 0.89047 \n",
      "\n"
     ]
    },
    {
     "name": "stderr",
     "output_type": "stream",
     "text": [
      "100%|███████████████████████████████████████████████████████████████████████████| 1024/1024 [13:23<00:00,  1.27it/s]\n"
     ]
    },
    {
     "name": "stdout",
     "output_type": "stream",
     "text": [
      "[EarlyStopping] (Patience) 15/20, Best: 0.24539, Current: 0.37790, Delta: 0.13251\n",
      "epoch 24, loss: 0.11578, accuracy: 0.95947, val_loss: 0.37790, val_accuracy: 0.87076 \n",
      "\n"
     ]
    },
    {
     "name": "stderr",
     "output_type": "stream",
     "text": [
      "100%|███████████████████████████████████████████████████████████████████████████| 1024/1024 [13:22<00:00,  1.28it/s]\n"
     ]
    },
    {
     "name": "stdout",
     "output_type": "stream",
     "text": [
      "[EarlyStopping] (Patience) 16/20, Best: 0.24539, Current: 0.29889, Delta: 0.05349\n",
      "epoch 25, loss: 0.11354, accuracy: 0.96055, val_loss: 0.29889, val_accuracy: 0.89279 \n",
      "\n"
     ]
    },
    {
     "name": "stderr",
     "output_type": "stream",
     "text": [
      "100%|███████████████████████████████████████████████████████████████████████████| 1024/1024 [13:23<00:00,  1.27it/s]\n"
     ]
    },
    {
     "name": "stdout",
     "output_type": "stream",
     "text": [
      "[EarlyStopping] (Patience) 17/20, Best: 0.24539, Current: 0.50119, Delta: 0.25580\n",
      "epoch 26, loss: 0.11185, accuracy: 0.96147, val_loss: 0.50119, val_accuracy: 0.83575 \n",
      "\n"
     ]
    },
    {
     "name": "stderr",
     "output_type": "stream",
     "text": [
      "100%|███████████████████████████████████████████████████████████████████████████| 1024/1024 [13:22<00:00,  1.28it/s]\n"
     ]
    },
    {
     "name": "stdout",
     "output_type": "stream",
     "text": [
      "[EarlyStopping] (Patience) 18/20, Best: 0.24539, Current: 0.51016, Delta: 0.26476\n",
      "epoch 27, loss: 0.11169, accuracy: 0.96129, val_loss: 0.51016, val_accuracy: 0.83606 \n",
      "\n"
     ]
    },
    {
     "name": "stderr",
     "output_type": "stream",
     "text": [
      "100%|███████████████████████████████████████████████████████████████████████████| 1024/1024 [13:21<00:00,  1.28it/s]\n"
     ]
    },
    {
     "name": "stdout",
     "output_type": "stream",
     "text": [
      "[EarlyStopping] (Patience) 19/20, Best: 0.24539, Current: 0.33783, Delta: 0.09244\n",
      "epoch 28, loss: 0.11165, accuracy: 0.96115, val_loss: 0.33783, val_accuracy: 0.87903 \n",
      "\n"
     ]
    },
    {
     "name": "stderr",
     "output_type": "stream",
     "text": [
      "100%|███████████████████████████████████████████████████████████████████████████| 1024/1024 [13:21<00:00,  1.28it/s]\n"
     ]
    },
    {
     "name": "stdout",
     "output_type": "stream",
     "text": [
      "[EarlyStopping] (Patience) 20/20, Best: 0.24539, Current: 0.28071, Delta: 0.03532\n",
      "[EarlyStop Triggered] Best Score: 0.24539\n"
     ]
    }
   ],
   "source": [
    "for epoch in range(EPOCHS):\n",
    "    train_loss, train_acc = train.model_train(model=model, \n",
    "                                              data_loader=train_loader, \n",
    "                                              criterion=criterion, \n",
    "                                              optimizer=optimizer, \n",
    "                                              device=device, \n",
    "                                              scheduler=scheduler, \n",
    "                                              tqdm_disable=False)\n",
    "    val_loss, val_acc = train.model_evaluate(model=model, \n",
    "                                             data_loader=val_loader, \n",
    "                                             criterion=criterion, \n",
    "                                             device=device)\n",
    "    \n",
    "    history['train_loss'].append(train_loss)\n",
    "    history['train_accuracy'].append(train_acc)\n",
    "    history['val_loss'].append(val_loss)\n",
    "    history['val_accuracy'].append(val_acc)\n",
    "    \n",
    "    es(val_loss)\n",
    "    # Early Stop Check\n",
    "    if es.early_stop:\n",
    "        break\n",
    "\n",
    "    if val_loss < max_loss:\n",
    "        print(f'[INFO] val_loss has been improved from {max_loss:.5f} to {val_loss:.5f}. Save model.')\n",
    "        max_loss = val_loss\n",
    "        torch.save(model.state_dict(), 'Best_Model_VGG_4.pth')\n",
    "\n",
    "    print(f'epoch {epoch+1:02d}, loss: {train_loss:.5f}, accuracy: {train_acc:.5f}, val_loss: {val_loss:.5f}, val_accuracy: {val_acc:.5f} \\n')"
   ]
  },
  {
   "cell_type": "code",
   "execution_count": 11,
   "metadata": {},
   "outputs": [
    {
     "data": {
      "image/png": "[encoded data removed]",
      "text/plain": [
       "<Figure size 640x480 with 1 Axes>"
      ]
     },
     "metadata": {},
     "output_type": "display_data"
    }
   ],
   "source": [
    "train.plot_acc(history=history)"
   ]
  },
  {
   "cell_type": "code",
   "execution_count": 12,
   "metadata": {},
   "outputs": [
    {
     "data": {
      "image/png": "[encoded data removed]",
      "text/plain": [
       "<Figure size 640x480 with 1 Axes>"
      ]
     },
     "metadata": {},
     "output_type": "display_data"
    }
   ],
   "source": [
    "train.plot_loss(history=history)"
   ]
  },
  {
   "cell_type": "code",
   "execution_count": 13,
   "metadata": {},
   "outputs": [
    {
     "name": "stdout",
     "output_type": "stream",
     "text": [
      "Test Loss: 0.3218463254161179\n",
      "Test Accuracy: 0.877227783203125\n"
     ]
    }
   ],
   "source": [
    "backbone = VGG16.VGG16_Backbone(pretrain=False).to(device=device)\n",
    "model = basic_classifier.BasicClassifier(backbone=backbone, \n",
    "                                         freezing=True, \n",
    "                                         num_classes=1).to(device=device)\n",
    "\n",
    "model.load_state_dict(torch.load('Best_Model_VGG_4.pth', map_location=device))\n",
    "model.eval()\n",
    "\n",
    "test_loss, test_acc = train.model_evaluate(model=model,\n",
    "                                           data_loader=test_loader,\n",
    "                                           criterion=criterion,\n",
    "                                           device=device)\n",
    "\n",
    "print('Test Loss: %s'%test_loss)\n",
    "print('Test Accuracy: %s'%test_acc)"
   ]
  },
  {
   "cell_type": "markdown",
   "metadata": {},
   "source": [
    "# ResNet"
   ]
  },
  {
   "cell_type": "code",
   "execution_count": 14,
   "metadata": {},
   "outputs": [],
   "source": [
    "train_loader, val_loader, test_loader = dataset.load_pcam(path=path, \n",
    "                                                          input_shape=96,\n",
    "                                                          augmentation=True,\n",
    "                                                          normalize=True,\n",
    "                                                          batch_size=256,\n",
    "                                                          seed=21)"
   ]
  },
  {
   "cell_type": "code",
   "execution_count": 15,
   "metadata": {},
   "outputs": [
    {
     "data": {
      "text/plain": [
       "<All keys matched successfully>"
      ]
     },
     "execution_count": 15,
     "metadata": {},
     "output_type": "execute_result"
    }
   ],
   "source": [
    "backbone = ResNet34.ResNet34_Backbone(pretrain=False).to(device=device)\n",
    "model_temp = basic_simclr.BasicSimCLR(backbone, num_classes=64).to(device=device)\n",
    "\n",
    "# path - ResNet\n",
    "log_dir = 'checkpoints/Mar28_13-19-07'\n",
    "file_path = 'checkpoint_0100.pth.tar'\n",
    "\n",
    "checkpoint_path = os.path.join(log_dir, file_path)\n",
    "checkpoint = torch.load(checkpoint_path, map_location=device)\n",
    "model_temp.load_state_dict(checkpoint['state_dict'])"
   ]
  },
  {
   "cell_type": "code",
   "execution_count": 16,
   "metadata": {},
   "outputs": [
    {
     "name": "stdout",
     "output_type": "stream",
     "text": [
      "BasicClassifier(\n",
      "  (backbone): Sequential(\n",
      "    (0): Conv2d(3, 64, kernel_size=(7, 7), stride=(2, 2), padding=(3, 3), bias=False)\n",
      "    (1): BatchNorm2d(64, eps=1e-05, momentum=0.1, affine=True, track_running_stats=True)\n",
      "    (2): ReLU(inplace=True)\n",
      "    (3): MaxPool2d(kernel_size=3, stride=2, padding=1, dilation=1, ceil_mode=False)\n",
      "    (4): Sequential(\n",
      "      (0): BasicBlock(\n",
      "        (conv1): Conv2d(64, 64, kernel_size=(3, 3), stride=(1, 1), padding=(1, 1), bias=False)\n",
      "        (bn1): BatchNorm2d(64, eps=1e-05, momentum=0.1, affine=True, track_running_stats=True)\n",
      "        (relu): ReLU(inplace=True)\n",
      "        (conv2): Conv2d(64, 64, kernel_size=(3, 3), stride=(1, 1), padding=(1, 1), bias=False)\n",
      "        (bn2): BatchNorm2d(64, eps=1e-05, momentum=0.1, affine=True, track_running_stats=True)\n",
      "      )\n",
      "      (1): BasicBlock(\n",
      "        (conv1): Conv2d(64, 64, kernel_size=(3, 3), stride=(1, 1), padding=(1, 1), bias=False)\n",
      "        (bn1): BatchNorm2d(64, eps=1e-05, momentum=0.1, affine=True, track_running_stats=True)\n",
      "        (relu): ReLU(inplace=True)\n",
      "        (conv2): Conv2d(64, 64, kernel_size=(3, 3), stride=(1, 1), padding=(1, 1), bias=False)\n",
      "        (bn2): BatchNorm2d(64, eps=1e-05, momentum=0.1, affine=True, track_running_stats=True)\n",
      "      )\n",
      "      (2): BasicBlock(\n",
      "        (conv1): Conv2d(64, 64, kernel_size=(3, 3), stride=(1, 1), padding=(1, 1), bias=False)\n",
      "        (bn1): BatchNorm2d(64, eps=1e-05, momentum=0.1, affine=True, track_running_stats=True)\n",
      "        (relu): ReLU(inplace=True)\n",
      "        (conv2): Conv2d(64, 64, kernel_size=(3, 3), stride=(1, 1), padding=(1, 1), bias=False)\n",
      "        (bn2): BatchNorm2d(64, eps=1e-05, momentum=0.1, affine=True, track_running_stats=True)\n",
      "      )\n",
      "    )\n",
      "    (5): Sequential(\n",
      "      (0): BasicBlock(\n",
      "        (conv1): Conv2d(64, 128, kernel_size=(3, 3), stride=(2, 2), padding=(1, 1), bias=False)\n",
      "        (bn1): BatchNorm2d(128, eps=1e-05, momentum=0.1, affine=True, track_running_stats=True)\n",
      "        (relu): ReLU(inplace=True)\n",
      "        (conv2): Conv2d(128, 128, kernel_size=(3, 3), stride=(1, 1), padding=(1, 1), bias=False)\n",
      "        (bn2): BatchNorm2d(128, eps=1e-05, momentum=0.1, affine=True, track_running_stats=True)\n",
      "        (downsample): Sequential(\n",
      "          (0): Conv2d(64, 128, kernel_size=(1, 1), stride=(2, 2), bias=False)\n",
      "          (1): BatchNorm2d(128, eps=1e-05, momentum=0.1, affine=True, track_running_stats=True)\n",
      "        )\n",
      "      )\n",
      "      (1): BasicBlock(\n",
      "        (conv1): Conv2d(128, 128, kernel_size=(3, 3), stride=(1, 1), padding=(1, 1), bias=False)\n",
      "        (bn1): BatchNorm2d(128, eps=1e-05, momentum=0.1, affine=True, track_running_stats=True)\n",
      "        (relu): ReLU(inplace=True)\n",
      "        (conv2): Conv2d(128, 128, kernel_size=(3, 3), stride=(1, 1), padding=(1, 1), bias=False)\n",
      "        (bn2): BatchNorm2d(128, eps=1e-05, momentum=0.1, affine=True, track_running_stats=True)\n",
      "      )\n",
      "      (2): BasicBlock(\n",
      "        (conv1): Conv2d(128, 128, kernel_size=(3, 3), stride=(1, 1), padding=(1, 1), bias=False)\n",
      "        (bn1): BatchNorm2d(128, eps=1e-05, momentum=0.1, affine=True, track_running_stats=True)\n",
      "        (relu): ReLU(inplace=True)\n",
      "        (conv2): Conv2d(128, 128, kernel_size=(3, 3), stride=(1, 1), padding=(1, 1), bias=False)\n",
      "        (bn2): BatchNorm2d(128, eps=1e-05, momentum=0.1, affine=True, track_running_stats=True)\n",
      "      )\n",
      "      (3): BasicBlock(\n",
      "        (conv1): Conv2d(128, 128, kernel_size=(3, 3), stride=(1, 1), padding=(1, 1), bias=False)\n",
      "        (bn1): BatchNorm2d(128, eps=1e-05, momentum=0.1, affine=True, track_running_stats=True)\n",
      "        (relu): ReLU(inplace=True)\n",
      "        (conv2): Conv2d(128, 128, kernel_size=(3, 3), stride=(1, 1), padding=(1, 1), bias=False)\n",
      "        (bn2): BatchNorm2d(128, eps=1e-05, momentum=0.1, affine=True, track_running_stats=True)\n",
      "      )\n",
      "    )\n",
      "    (6): Sequential(\n",
      "      (0): BasicBlock(\n",
      "        (conv1): Conv2d(128, 256, kernel_size=(3, 3), stride=(2, 2), padding=(1, 1), bias=False)\n",
      "        (bn1): BatchNorm2d(256, eps=1e-05, momentum=0.1, affine=True, track_running_stats=True)\n",
      "        (relu): ReLU(inplace=True)\n",
      "        (conv2): Conv2d(256, 256, kernel_size=(3, 3), stride=(1, 1), padding=(1, 1), bias=False)\n",
      "        (bn2): BatchNorm2d(256, eps=1e-05, momentum=0.1, affine=True, track_running_stats=True)\n",
      "        (downsample): Sequential(\n",
      "          (0): Conv2d(128, 256, kernel_size=(1, 1), stride=(2, 2), bias=False)\n",
      "          (1): BatchNorm2d(256, eps=1e-05, momentum=0.1, affine=True, track_running_stats=True)\n",
      "        )\n",
      "      )\n",
      "      (1): BasicBlock(\n",
      "        (conv1): Conv2d(256, 256, kernel_size=(3, 3), stride=(1, 1), padding=(1, 1), bias=False)\n",
      "        (bn1): BatchNorm2d(256, eps=1e-05, momentum=0.1, affine=True, track_running_stats=True)\n",
      "        (relu): ReLU(inplace=True)\n",
      "        (conv2): Conv2d(256, 256, kernel_size=(3, 3), stride=(1, 1), padding=(1, 1), bias=False)\n",
      "        (bn2): BatchNorm2d(256, eps=1e-05, momentum=0.1, affine=True, track_running_stats=True)\n",
      "      )\n",
      "      (2): BasicBlock(\n",
      "        (conv1): Conv2d(256, 256, kernel_size=(3, 3), stride=(1, 1), padding=(1, 1), bias=False)\n",
      "        (bn1): BatchNorm2d(256, eps=1e-05, momentum=0.1, affine=True, track_running_stats=True)\n",
      "        (relu): ReLU(inplace=True)\n",
      "        (conv2): Conv2d(256, 256, kernel_size=(3, 3), stride=(1, 1), padding=(1, 1), bias=False)\n",
      "        (bn2): BatchNorm2d(256, eps=1e-05, momentum=0.1, affine=True, track_running_stats=True)\n",
      "      )\n",
      "      (3): BasicBlock(\n",
      "        (conv1): Conv2d(256, 256, kernel_size=(3, 3), stride=(1, 1), padding=(1, 1), bias=False)\n",
      "        (bn1): BatchNorm2d(256, eps=1e-05, momentum=0.1, affine=True, track_running_stats=True)\n",
      "        (relu): ReLU(inplace=True)\n",
      "        (conv2): Conv2d(256, 256, kernel_size=(3, 3), stride=(1, 1), padding=(1, 1), bias=False)\n",
      "        (bn2): BatchNorm2d(256, eps=1e-05, momentum=0.1, affine=True, track_running_stats=True)\n",
      "      )\n",
      "      (4): BasicBlock(\n",
      "        (conv1): Conv2d(256, 256, kernel_size=(3, 3), stride=(1, 1), padding=(1, 1), bias=False)\n",
      "        (bn1): BatchNorm2d(256, eps=1e-05, momentum=0.1, affine=True, track_running_stats=True)\n",
      "        (relu): ReLU(inplace=True)\n",
      "        (conv2): Conv2d(256, 256, kernel_size=(3, 3), stride=(1, 1), padding=(1, 1), bias=False)\n",
      "        (bn2): BatchNorm2d(256, eps=1e-05, momentum=0.1, affine=True, track_running_stats=True)\n",
      "      )\n",
      "      (5): BasicBlock(\n",
      "        (conv1): Conv2d(256, 256, kernel_size=(3, 3), stride=(1, 1), padding=(1, 1), bias=False)\n",
      "        (bn1): BatchNorm2d(256, eps=1e-05, momentum=0.1, affine=True, track_running_stats=True)\n",
      "        (relu): ReLU(inplace=True)\n",
      "        (conv2): Conv2d(256, 256, kernel_size=(3, 3), stride=(1, 1), padding=(1, 1), bias=False)\n",
      "        (bn2): BatchNorm2d(256, eps=1e-05, momentum=0.1, affine=True, track_running_stats=True)\n",
      "      )\n",
      "    )\n",
      "    (7): Sequential(\n",
      "      (0): BasicBlock(\n",
      "        (conv1): Conv2d(256, 512, kernel_size=(3, 3), stride=(2, 2), padding=(1, 1), bias=False)\n",
      "        (bn1): BatchNorm2d(512, eps=1e-05, momentum=0.1, affine=True, track_running_stats=True)\n",
      "        (relu): ReLU(inplace=True)\n",
      "        (conv2): Conv2d(512, 512, kernel_size=(3, 3), stride=(1, 1), padding=(1, 1), bias=False)\n",
      "        (bn2): BatchNorm2d(512, eps=1e-05, momentum=0.1, affine=True, track_running_stats=True)\n",
      "        (downsample): Sequential(\n",
      "          (0): Conv2d(256, 512, kernel_size=(1, 1), stride=(2, 2), bias=False)\n",
      "          (1): BatchNorm2d(512, eps=1e-05, momentum=0.1, affine=True, track_running_stats=True)\n",
      "        )\n",
      "      )\n",
      "      (1): BasicBlock(\n",
      "        (conv1): Conv2d(512, 512, kernel_size=(3, 3), stride=(1, 1), padding=(1, 1), bias=False)\n",
      "        (bn1): BatchNorm2d(512, eps=1e-05, momentum=0.1, affine=True, track_running_stats=True)\n",
      "        (relu): ReLU(inplace=True)\n",
      "        (conv2): Conv2d(512, 512, kernel_size=(3, 3), stride=(1, 1), padding=(1, 1), bias=False)\n",
      "        (bn2): BatchNorm2d(512, eps=1e-05, momentum=0.1, affine=True, track_running_stats=True)\n",
      "      )\n",
      "      (2): BasicBlock(\n",
      "        (conv1): Conv2d(512, 512, kernel_size=(3, 3), stride=(1, 1), padding=(1, 1), bias=False)\n",
      "        (bn1): BatchNorm2d(512, eps=1e-05, momentum=0.1, affine=True, track_running_stats=True)\n",
      "        (relu): ReLU(inplace=True)\n",
      "        (conv2): Conv2d(512, 512, kernel_size=(3, 3), stride=(1, 1), padding=(1, 1), bias=False)\n",
      "        (bn2): BatchNorm2d(512, eps=1e-05, momentum=0.1, affine=True, track_running_stats=True)\n",
      "      )\n",
      "    )\n",
      "  )\n",
      "  (avg): AdaptiveAvgPool2d(output_size=(1, 1))\n",
      "  (fc): Sequential(\n",
      "    (0): Flatten(start_dim=1, end_dim=-1)\n",
      "    (1): Linear(in_features=512, out_features=64, bias=True)\n",
      "    (2): ReLU()\n",
      "    (3): Dropout(p=0.5, inplace=False)\n",
      "    (4): Linear(in_features=64, out_features=1, bias=True)\n",
      "  )\n",
      ")\n"
     ]
    }
   ],
   "source": [
    "# backbone from SimCLR\n",
    "model = basic_classifier.BasicClassifier(backbone=backbone, \n",
    "                                         freezing=True, \n",
    "                                         num_classes=1).to(device=device)\n",
    "\n",
    "print(model)"
   ]
  },
  {
   "cell_type": "code",
   "execution_count": 17,
   "metadata": {},
   "outputs": [],
   "source": [
    "# Warm-up stage \n",
    "# 0 ~ 10 epochs\n",
    "EPOCHS = 10\n",
    "\n",
    "criterion = nn.BCELoss()\n",
    "# higher lr for warm-up\n",
    "optimizer = optim.Adam(model.parameters(), lr=1e-3, weight_decay=1e-3)\n",
    "\n",
    "history = {'train_loss' : [],\n",
    "           'val_loss': [],\n",
    "           'train_accuracy': [],\n",
    "           'val_accuracy': []}\n",
    "           \n",
    "max_loss = np.inf"
   ]
  },
  {
   "cell_type": "code",
   "execution_count": 18,
   "metadata": {},
   "outputs": [
    {
     "name": "stderr",
     "output_type": "stream",
     "text": [
      "100%|███████████████████████████████████████████████████████████████████████████| 1024/1024 [07:57<00:00,  2.15it/s]\n"
     ]
    },
    {
     "name": "stdout",
     "output_type": "stream",
     "text": [
      "epoch 01, loss: 0.41694, accuracy: 0.81708, val_loss: 0.44059, val_accuracy: 0.79453 \n",
      "\n"
     ]
    },
    {
     "name": "stderr",
     "output_type": "stream",
     "text": [
      "100%|███████████████████████████████████████████████████████████████████████████| 1024/1024 [07:55<00:00,  2.15it/s]\n"
     ]
    },
    {
     "name": "stdout",
     "output_type": "stream",
     "text": [
      "epoch 02, loss: 0.37291, accuracy: 0.83658, val_loss: 0.39524, val_accuracy: 0.81760 \n",
      "\n"
     ]
    },
    {
     "name": "stderr",
     "output_type": "stream",
     "text": [
      "100%|███████████████████████████████████████████████████████████████████████████| 1024/1024 [07:56<00:00,  2.15it/s]\n"
     ]
    },
    {
     "name": "stdout",
     "output_type": "stream",
     "text": [
      "epoch 03, loss: 0.36526, accuracy: 0.84076, val_loss: 0.39567, val_accuracy: 0.81638 \n",
      "\n"
     ]
    },
    {
     "name": "stderr",
     "output_type": "stream",
     "text": [
      "100%|███████████████████████████████████████████████████████████████████████████| 1024/1024 [07:58<00:00,  2.14it/s]\n"
     ]
    },
    {
     "name": "stdout",
     "output_type": "stream",
     "text": [
      "epoch 04, loss: 0.35956, accuracy: 0.84294, val_loss: 0.38957, val_accuracy: 0.82114 \n",
      "\n"
     ]
    },
    {
     "name": "stderr",
     "output_type": "stream",
     "text": [
      "100%|███████████████████████████████████████████████████████████████████████████| 1024/1024 [07:56<00:00,  2.15it/s]\n"
     ]
    },
    {
     "name": "stdout",
     "output_type": "stream",
     "text": [
      "epoch 05, loss: 0.35670, accuracy: 0.84470, val_loss: 0.39970, val_accuracy: 0.81421 \n",
      "\n"
     ]
    },
    {
     "name": "stderr",
     "output_type": "stream",
     "text": [
      "100%|███████████████████████████████████████████████████████████████████████████| 1024/1024 [07:58<00:00,  2.14it/s]\n"
     ]
    },
    {
     "name": "stdout",
     "output_type": "stream",
     "text": [
      "epoch 06, loss: 0.35476, accuracy: 0.84593, val_loss: 0.40193, val_accuracy: 0.81699 \n",
      "\n"
     ]
    },
    {
     "name": "stderr",
     "output_type": "stream",
     "text": [
      "100%|███████████████████████████████████████████████████████████████████████████| 1024/1024 [07:57<00:00,  2.15it/s]\n"
     ]
    },
    {
     "name": "stdout",
     "output_type": "stream",
     "text": [
      "epoch 07, loss: 0.35370, accuracy: 0.84573, val_loss: 0.39280, val_accuracy: 0.81985 \n",
      "\n"
     ]
    },
    {
     "name": "stderr",
     "output_type": "stream",
     "text": [
      "100%|███████████████████████████████████████████████████████████████████████████| 1024/1024 [07:56<00:00,  2.15it/s]\n"
     ]
    },
    {
     "name": "stdout",
     "output_type": "stream",
     "text": [
      "epoch 08, loss: 0.35218, accuracy: 0.84705, val_loss: 0.39273, val_accuracy: 0.82233 \n",
      "\n"
     ]
    },
    {
     "name": "stderr",
     "output_type": "stream",
     "text": [
      "100%|███████████████████████████████████████████████████████████████████████████| 1024/1024 [07:54<00:00,  2.16it/s]\n"
     ]
    },
    {
     "name": "stdout",
     "output_type": "stream",
     "text": [
      "epoch 09, loss: 0.35199, accuracy: 0.84732, val_loss: 0.39338, val_accuracy: 0.82098 \n",
      "\n"
     ]
    },
    {
     "name": "stderr",
     "output_type": "stream",
     "text": [
      "100%|███████████████████████████████████████████████████████████████████████████| 1024/1024 [07:56<00:00,  2.15it/s]\n"
     ]
    },
    {
     "name": "stdout",
     "output_type": "stream",
     "text": [
      "epoch 10, loss: 0.35167, accuracy: 0.84678, val_loss: 0.38736, val_accuracy: 0.82245 \n",
      "\n"
     ]
    }
   ],
   "source": [
    "for epoch in range(EPOCHS):\n",
    "    train_loss, train_acc = train.model_train(model=model, \n",
    "                                              data_loader=train_loader, \n",
    "                                              criterion=criterion, \n",
    "                                              optimizer=optimizer, \n",
    "                                              device=device, \n",
    "                                              scheduler=None, \n",
    "                                              tqdm_disable=False)\n",
    "    val_loss, val_acc = train.model_evaluate(model=model, \n",
    "                                             data_loader=val_loader, \n",
    "                                             criterion=criterion, \n",
    "                                             device=device)\n",
    "    \n",
    "    history['train_loss'].append(train_loss)\n",
    "    history['train_accuracy'].append(train_acc)\n",
    "    history['val_loss'].append(val_loss)\n",
    "    history['val_accuracy'].append(val_acc)\n",
    "\n",
    "    print(f'epoch {epoch+1:02d}, loss: {train_loss:.5f}, accuracy: {train_acc:.5f}, val_loss: {val_loss:.5f}, val_accuracy: {val_acc:.5f} \\n')"
   ]
  },
  {
   "cell_type": "code",
   "execution_count": 19,
   "metadata": {},
   "outputs": [],
   "source": [
    "# freezing True -> False \n",
    "for param in model.backbone.parameters():\n",
    "    param.requires_grad = True"
   ]
  },
  {
   "cell_type": "code",
   "execution_count": 20,
   "metadata": {},
   "outputs": [],
   "source": [
    "# Fine-tuning stage \n",
    "# 10 ~ 50 epochs\n",
    "EPOCHS = 40\n",
    "\n",
    "criterion = nn.BCELoss()\n",
    "# lower lr for fine-tuning\n",
    "optimizer = optim.Adam(model.parameters(), lr=5e-4, weight_decay=1e-3)\n",
    "es = train.EarlyStopping(patience=EPOCHS//2, delta=0, mode='min', verbose=True)\n",
    "scheduler = optim.lr_scheduler.StepLR(optimizer, step_size=EPOCHS//5, gamma=0.9)\n",
    "\n",
    "history = {'train_loss' : [],\n",
    "           'val_loss': [],\n",
    "           'train_accuracy': [],\n",
    "           'val_accuracy': []}\n",
    "           \n",
    "max_loss = np.inf    "
   ]
  },
  {
   "cell_type": "code",
   "execution_count": 21,
   "metadata": {},
   "outputs": [
    {
     "name": "stderr",
     "output_type": "stream",
     "text": [
      "100%|███████████████████████████████████████████████████████████████████████████| 1024/1024 [09:54<00:00,  1.72it/s]\n"
     ]
    },
    {
     "name": "stdout",
     "output_type": "stream",
     "text": [
      "[EarlyStopping] (Update) Best Score: 0.31710\n",
      "[INFO] val_loss has been improved from inf to 0.31710. Save model.\n",
      "epoch 01, loss: 0.19824, accuracy: 0.92414, val_loss: 0.31710, val_accuracy: 0.87714 \n",
      "\n"
     ]
    },
    {
     "name": "stderr",
     "output_type": "stream",
     "text": [
      "100%|███████████████████████████████████████████████████████████████████████████| 1024/1024 [09:48<00:00,  1.74it/s]\n"
     ]
    },
    {
     "name": "stdout",
     "output_type": "stream",
     "text": [
      "[EarlyStopping] (Update) Best Score: 0.27361\n",
      "[INFO] val_loss has been improved from 0.31710 to 0.27361. Save model.\n",
      "epoch 02, loss: 0.16514, accuracy: 0.93916, val_loss: 0.27361, val_accuracy: 0.89972 \n",
      "\n"
     ]
    },
    {
     "name": "stderr",
     "output_type": "stream",
     "text": [
      "100%|███████████████████████████████████████████████████████████████████████████| 1024/1024 [09:48<00:00,  1.74it/s]\n"
     ]
    },
    {
     "name": "stdout",
     "output_type": "stream",
     "text": [
      "[EarlyStopping] (Patience) 1/20, Best: 0.27361, Current: 0.30208, Delta: 0.02847\n",
      "epoch 03, loss: 0.15360, accuracy: 0.94359, val_loss: 0.30208, val_accuracy: 0.88696 \n",
      "\n"
     ]
    },
    {
     "name": "stderr",
     "output_type": "stream",
     "text": [
      "100%|███████████████████████████████████████████████████████████████████████████| 1024/1024 [09:48<00:00,  1.74it/s]\n"
     ]
    },
    {
     "name": "stdout",
     "output_type": "stream",
     "text": [
      "[EarlyStopping] (Patience) 2/20, Best: 0.27361, Current: 0.33633, Delta: 0.06272\n",
      "epoch 04, loss: 0.14780, accuracy: 0.94618, val_loss: 0.33633, val_accuracy: 0.86307 \n",
      "\n"
     ]
    },
    {
     "name": "stderr",
     "output_type": "stream",
     "text": [
      "100%|███████████████████████████████████████████████████████████████████████████| 1024/1024 [09:49<00:00,  1.74it/s]\n"
     ]
    },
    {
     "name": "stdout",
     "output_type": "stream",
     "text": [
      "[EarlyStopping] (Patience) 3/20, Best: 0.27361, Current: 0.29965, Delta: 0.02604\n",
      "epoch 05, loss: 0.14261, accuracy: 0.94764, val_loss: 0.29965, val_accuracy: 0.88080 \n",
      "\n"
     ]
    },
    {
     "name": "stderr",
     "output_type": "stream",
     "text": [
      "100%|███████████████████████████████████████████████████████████████████████████| 1024/1024 [09:47<00:00,  1.74it/s]\n"
     ]
    },
    {
     "name": "stdout",
     "output_type": "stream",
     "text": [
      "[EarlyStopping] (Patience) 4/20, Best: 0.27361, Current: 0.36576, Delta: 0.09215\n",
      "epoch 06, loss: 0.13815, accuracy: 0.94987, val_loss: 0.36576, val_accuracy: 0.86685 \n",
      "\n"
     ]
    },
    {
     "name": "stderr",
     "output_type": "stream",
     "text": [
      "100%|███████████████████████████████████████████████████████████████████████████| 1024/1024 [09:48<00:00,  1.74it/s]\n"
     ]
    },
    {
     "name": "stdout",
     "output_type": "stream",
     "text": [
      "[EarlyStopping] (Patience) 5/20, Best: 0.27361, Current: 0.51929, Delta: 0.24568\n",
      "epoch 07, loss: 0.13510, accuracy: 0.95091, val_loss: 0.51929, val_accuracy: 0.84155 \n",
      "\n"
     ]
    },
    {
     "name": "stderr",
     "output_type": "stream",
     "text": [
      "100%|███████████████████████████████████████████████████████████████████████████| 1024/1024 [09:49<00:00,  1.74it/s]\n"
     ]
    },
    {
     "name": "stdout",
     "output_type": "stream",
     "text": [
      "[EarlyStopping] (Patience) 6/20, Best: 0.27361, Current: 0.39166, Delta: 0.11805\n",
      "epoch 08, loss: 0.13403, accuracy: 0.95155, val_loss: 0.39166, val_accuracy: 0.85953 \n",
      "\n"
     ]
    },
    {
     "name": "stderr",
     "output_type": "stream",
     "text": [
      "100%|███████████████████████████████████████████████████████████████████████████| 1024/1024 [09:48<00:00,  1.74it/s]\n"
     ]
    },
    {
     "name": "stdout",
     "output_type": "stream",
     "text": [
      "[EarlyStopping] (Patience) 7/20, Best: 0.27361, Current: 0.37148, Delta: 0.09787\n",
      "epoch 09, loss: 0.12789, accuracy: 0.95451, val_loss: 0.37148, val_accuracy: 0.86960 \n",
      "\n"
     ]
    },
    {
     "name": "stderr",
     "output_type": "stream",
     "text": [
      "100%|███████████████████████████████████████████████████████████████████████████| 1024/1024 [09:49<00:00,  1.74it/s]\n"
     ]
    },
    {
     "name": "stdout",
     "output_type": "stream",
     "text": [
      "[EarlyStopping] (Patience) 8/20, Best: 0.27361, Current: 0.27960, Delta: 0.00599\n",
      "epoch 10, loss: 0.12515, accuracy: 0.95534, val_loss: 0.27960, val_accuracy: 0.89703 \n",
      "\n"
     ]
    },
    {
     "name": "stderr",
     "output_type": "stream",
     "text": [
      "100%|███████████████████████████████████████████████████████████████████████████| 1024/1024 [09:50<00:00,  1.74it/s]\n"
     ]
    },
    {
     "name": "stdout",
     "output_type": "stream",
     "text": [
      "[EarlyStopping] (Patience) 9/20, Best: 0.27361, Current: 0.36877, Delta: 0.09516\n",
      "epoch 11, loss: 0.12337, accuracy: 0.95617, val_loss: 0.36877, val_accuracy: 0.87656 \n",
      "\n"
     ]
    },
    {
     "name": "stderr",
     "output_type": "stream",
     "text": [
      "100%|███████████████████████████████████████████████████████████████████████████| 1024/1024 [14:12<00:00,  1.20it/s]\n"
     ]
    },
    {
     "name": "stdout",
     "output_type": "stream",
     "text": [
      "[EarlyStopping] (Patience) 10/20, Best: 0.27361, Current: 0.31612, Delta: 0.04251\n",
      "epoch 12, loss: 0.12251, accuracy: 0.95657, val_loss: 0.31612, val_accuracy: 0.89020 \n",
      "\n"
     ]
    },
    {
     "name": "stderr",
     "output_type": "stream",
     "text": [
      "100%|███████████████████████████████████████████████████████████████████████████| 1024/1024 [09:45<00:00,  1.75it/s]\n"
     ]
    },
    {
     "name": "stdout",
     "output_type": "stream",
     "text": [
      "[EarlyStopping] (Patience) 11/20, Best: 0.27361, Current: 0.32490, Delta: 0.05130\n",
      "epoch 13, loss: 0.12030, accuracy: 0.95715, val_loss: 0.32490, val_accuracy: 0.88171 \n",
      "\n"
     ]
    },
    {
     "name": "stderr",
     "output_type": "stream",
     "text": [
      "100%|███████████████████████████████████████████████████████████████████████████| 1024/1024 [09:46<00:00,  1.75it/s]\n"
     ]
    },
    {
     "name": "stdout",
     "output_type": "stream",
     "text": [
      "[EarlyStopping] (Patience) 12/20, Best: 0.27361, Current: 0.33421, Delta: 0.06060\n",
      "epoch 14, loss: 0.12020, accuracy: 0.95700, val_loss: 0.33421, val_accuracy: 0.87668 \n",
      "\n"
     ]
    },
    {
     "name": "stderr",
     "output_type": "stream",
     "text": [
      "100%|███████████████████████████████████████████████████████████████████████████| 1024/1024 [09:46<00:00,  1.75it/s]\n"
     ]
    },
    {
     "name": "stdout",
     "output_type": "stream",
     "text": [
      "[EarlyStopping] (Patience) 13/20, Best: 0.27361, Current: 0.40946, Delta: 0.13585\n",
      "epoch 15, loss: 0.11800, accuracy: 0.95781, val_loss: 0.40946, val_accuracy: 0.86624 \n",
      "\n"
     ]
    },
    {
     "name": "stderr",
     "output_type": "stream",
     "text": [
      "100%|███████████████████████████████████████████████████████████████████████████| 1024/1024 [09:44<00:00,  1.75it/s]\n"
     ]
    },
    {
     "name": "stdout",
     "output_type": "stream",
     "text": [
      "[EarlyStopping] (Patience) 14/20, Best: 0.27361, Current: 0.48652, Delta: 0.21291\n",
      "epoch 16, loss: 0.11802, accuracy: 0.95768, val_loss: 0.48652, val_accuracy: 0.84998 \n",
      "\n"
     ]
    },
    {
     "name": "stderr",
     "output_type": "stream",
     "text": [
      "100%|███████████████████████████████████████████████████████████████████████████| 1024/1024 [09:45<00:00,  1.75it/s]\n"
     ]
    },
    {
     "name": "stdout",
     "output_type": "stream",
     "text": [
      "[EarlyStopping] (Patience) 15/20, Best: 0.27361, Current: 0.47908, Delta: 0.20547\n",
      "epoch 17, loss: 0.11293, accuracy: 0.96045, val_loss: 0.47908, val_accuracy: 0.82889 \n",
      "\n"
     ]
    },
    {
     "name": "stderr",
     "output_type": "stream",
     "text": [
      "100%|███████████████████████████████████████████████████████████████████████████| 1024/1024 [09:46<00:00,  1.75it/s]\n"
     ]
    },
    {
     "name": "stdout",
     "output_type": "stream",
     "text": [
      "[EarlyStopping] (Patience) 16/20, Best: 0.27361, Current: 0.35694, Delta: 0.08333\n",
      "epoch 18, loss: 0.11205, accuracy: 0.96036, val_loss: 0.35694, val_accuracy: 0.87332 \n",
      "\n"
     ]
    },
    {
     "name": "stderr",
     "output_type": "stream",
     "text": [
      "100%|███████████████████████████████████████████████████████████████████████████| 1024/1024 [09:47<00:00,  1.74it/s]\n"
     ]
    },
    {
     "name": "stdout",
     "output_type": "stream",
     "text": [
      "[EarlyStopping] (Patience) 17/20, Best: 0.27361, Current: 0.41249, Delta: 0.13888\n",
      "epoch 19, loss: 0.11121, accuracy: 0.96075, val_loss: 0.41249, val_accuracy: 0.85217 \n",
      "\n"
     ]
    },
    {
     "name": "stderr",
     "output_type": "stream",
     "text": [
      "100%|███████████████████████████████████████████████████████████████████████████| 1024/1024 [09:46<00:00,  1.75it/s]\n"
     ]
    },
    {
     "name": "stdout",
     "output_type": "stream",
     "text": [
      "[EarlyStopping] (Patience) 18/20, Best: 0.27361, Current: 0.30267, Delta: 0.02906\n",
      "epoch 20, loss: 0.10975, accuracy: 0.96161, val_loss: 0.30267, val_accuracy: 0.89508 \n",
      "\n"
     ]
    },
    {
     "name": "stderr",
     "output_type": "stream",
     "text": [
      "100%|███████████████████████████████████████████████████████████████████████████| 1024/1024 [09:47<00:00,  1.74it/s]\n"
     ]
    },
    {
     "name": "stdout",
     "output_type": "stream",
     "text": [
      "[EarlyStopping] (Patience) 19/20, Best: 0.27361, Current: 0.36586, Delta: 0.09225\n",
      "epoch 21, loss: 0.10944, accuracy: 0.96179, val_loss: 0.36586, val_accuracy: 0.86819 \n",
      "\n"
     ]
    },
    {
     "name": "stderr",
     "output_type": "stream",
     "text": [
      "100%|███████████████████████████████████████████████████████████████████████████| 1024/1024 [09:48<00:00,  1.74it/s]\n"
     ]
    },
    {
     "name": "stdout",
     "output_type": "stream",
     "text": [
      "[EarlyStopping] (Patience) 20/20, Best: 0.27361, Current: 0.47000, Delta: 0.19639\n",
      "[EarlyStop Triggered] Best Score: 0.27361\n"
     ]
    }
   ],
   "source": [
    "for epoch in range(EPOCHS):\n",
    "    train_loss, train_acc = train.model_train(model=model, \n",
    "                                              data_loader=train_loader, \n",
    "                                              criterion=criterion, \n",
    "                                              optimizer=optimizer, \n",
    "                                              device=device, \n",
    "                                              scheduler=scheduler, \n",
    "                                              tqdm_disable=False)\n",
    "    val_loss, val_acc = train.model_evaluate(model=model, \n",
    "                                             data_loader=val_loader, \n",
    "                                             criterion=criterion, \n",
    "                                             device=device)\n",
    "    \n",
    "    history['train_loss'].append(train_loss)\n",
    "    history['train_accuracy'].append(train_acc)\n",
    "    history['val_loss'].append(val_loss)\n",
    "    history['val_accuracy'].append(val_acc)\n",
    "    \n",
    "    es(val_loss)\n",
    "    # Early Stop Check\n",
    "    if es.early_stop:\n",
    "        break\n",
    "\n",
    "    if val_loss < max_loss:\n",
    "        print(f'[INFO] val_loss has been improved from {max_loss:.5f} to {val_loss:.5f}. Save model.')\n",
    "        max_loss = val_loss\n",
    "        torch.save(model.state_dict(), 'Best_Model_ResNet_4.pth')\n",
    "\n",
    "    print(f'epoch {epoch+1:02d}, loss: {train_loss:.5f}, accuracy: {train_acc:.5f}, val_loss: {val_loss:.5f}, val_accuracy: {val_acc:.5f} \\n')"
   ]
  },
  {
   "cell_type": "code",
   "execution_count": 22,
   "metadata": {},
   "outputs": [
    {
     "data": {
      "image/png": "[encoded data removed]",
      "text/plain": [
       "<Figure size 640x480 with 1 Axes>"
      ]
     },
     "metadata": {},
     "output_type": "display_data"
    }
   ],
   "source": [
    "train.plot_acc(history=history)"
   ]
  },
  {
   "cell_type": "code",
   "execution_count": 23,
   "metadata": {},
   "outputs": [
    {
     "data": {
      "image/png": "[encoded data removed]",
      "text/plain": [
       "<Figure size 640x480 with 1 Axes>"
      ]
     },
     "metadata": {},
     "output_type": "display_data"
    }
   ],
   "source": [
    "train.plot_loss(history=history)"
   ]
  },
  {
   "cell_type": "code",
   "execution_count": 24,
   "metadata": {},
   "outputs": [
    {
     "name": "stdout",
     "output_type": "stream",
     "text": [
      "Test Loss: 0.40836958959698677\n",
      "Test Accuracy: 0.84320068359375\n"
     ]
    }
   ],
   "source": [
    "backbone = ResNet34.ResNet34_Backbone(pretrain=False).to(device=device)\n",
    "model = basic_classifier.BasicClassifier(backbone=backbone, \n",
    "                                         freezing=True, \n",
    "                                         num_classes=1).to(device=device)\n",
    "\n",
    "model.load_state_dict(torch.load('Best_Model_ResNet_4.pth', map_location=device))\n",
    "model.eval()\n",
    "\n",
    "test_loss, test_acc = train.model_evaluate(model=model,\n",
    "                                           data_loader=test_loader,\n",
    "                                           criterion=criterion,\n",
    "                                           device=device)\n",
    "\n",
    "print('Test Loss: %s'%test_loss)\n",
    "print('Test Accuracy: %s'%test_acc)"
   ]
  }
 ],
 "metadata": {
  "kernelspec": {
   "display_name": "Python 3 (ipykernel)",
   "language": "python",
   "name": "python3"
  },
  "language_info": {
   "codemirror_mode": {
    "name": "ipython",
    "version": 3
   },
   "file_extension": ".py",
   "mimetype": "text/x-python",
   "name": "python",
   "nbconvert_exporter": "python",
   "pygments_lexer": "ipython3",
   "version": "3.10.14"
  }
 },
 "nbformat": 4,
 "nbformat_minor": 4
}
