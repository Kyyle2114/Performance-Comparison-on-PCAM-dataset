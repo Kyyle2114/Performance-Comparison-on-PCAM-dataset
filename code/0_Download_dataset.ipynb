{
 "cells": [
  {
   "cell_type": "code",
   "execution_count": 1,
   "metadata": {},
   "outputs": [
    {
     "name": "stderr",
     "output_type": "stream",
     "text": [
      "Downloading...\n",
      "From (original): https://drive.google.com/uc?id=1Ka0XfEMiwgCYPdTI-vv6eUElOBnKFKQ2\n",
      "From (redirected): https://drive.usercontent.google.com/download?id=1Ka0XfEMiwgCYPdTI-vv6eUElOBnKFKQ2&confirm=t&uuid=d9a47fe7-1218-4e25-91d4-5c49c9b782af\n",
      "To: /mnt/ddrive/team1/Performance-Comparison-on-PCAM-dataset/code/data/pcam/camelyonpatch_level_2_split_train_x.h5.gz\n",
      "100%|███████████████████████████████████████████████████████████████████████████████████████████| 6.42G/6.42G [10:21<00:00, 10.3MB/s]\n",
      "Downloading...\n",
      "From: https://drive.google.com/uc?id=1269yhu3pZDP8UYFQs-NYs3FPwuK-nGSG\n",
      "To: /mnt/ddrive/team1/Performance-Comparison-on-PCAM-dataset/code/data/pcam/camelyonpatch_level_2_split_train_y.h5.gz\n",
      "100%|████████████████████████████████████████████████████████████████████████████████████████████| 21.4k/21.4k [00:00<00:00, 294kB/s]\n",
      "Downloading...\n",
      "From (original): https://drive.google.com/uc?id=1hgshYGWK8V-eGRy8LToWJJgDU_rXWVJ3\n",
      "From (redirected): https://drive.usercontent.google.com/download?id=1hgshYGWK8V-eGRy8LToWJJgDU_rXWVJ3&confirm=t&uuid=ae4e2b0c-58a1-44da-b9cb-ab7f6d490aff\n",
      "To: /mnt/ddrive/team1/Performance-Comparison-on-PCAM-dataset/code/data/pcam/camelyonpatch_level_2_split_valid_x.h5.gz\n",
      "100%|█████████████████████████████████████████████████████████████████████████████████████████████| 806M/806M [04:28<00:00, 3.00MB/s]\n",
      "Downloading...\n",
      "From: https://drive.google.com/uc?id=1bH8ZRbhSVAhScTS0p9-ZzGnX91cHT3uO\n",
      "To: /mnt/ddrive/team1/Performance-Comparison-on-PCAM-dataset/code/data/pcam/camelyonpatch_level_2_split_valid_y.h5.gz\n",
      "100%|█████████████████████████████████████| 3.04k/3.04k [00:00<00:00, 1.18MB/s]\n",
      "Downloading...\n",
      "From (original): https://drive.google.com/uc?id=1qV65ZqZvWzuIVthK8eVDhIwrbnsJdbg_\n",
      "From (redirected): https://drive.usercontent.google.com/download?id=1qV65ZqZvWzuIVthK8eVDhIwrbnsJdbg_&confirm=t&uuid=96bbe659-85d1-4641-b0d7-13c7358256d0\n",
      "To: /mnt/ddrive/team1/Performance-Comparison-on-PCAM-dataset/code/data/pcam/camelyonpatch_level_2_split_test_x.h5.gz\n",
      "100%|███████████████████████████████████████| 801M/801M [01:01<00:00, 13.0MB/s]\n",
      "Downloading...\n",
      "From: https://drive.google.com/uc?id=17BHrSrwWKjYsOgTMmoqrIjDy6Fa2o_gP\n",
      "To: /mnt/ddrive/team1/Performance-Comparison-on-PCAM-dataset/code/data/pcam/camelyonpatch_level_2_split_test_y.h5.gz\n",
      "100%|█████████████████████████████████████| 3.04k/3.04k [00:00<00:00, 4.86MB/s]\n"
     ]
    }
   ],
   "source": [
    "from data import dataset\n",
    "\n",
    "download = True\n",
    "\n",
    "if download:\n",
    "    dataset.download_pcam()"
   ]
  }
 ],
 "metadata": {
  "kernelspec": {
   "display_name": "Python 3 (ipykernel)",
   "language": "python",
   "name": "python3"
  },
  "language_info": {
   "codemirror_mode": {
    "name": "ipython",
    "version": 3
   },
   "file_extension": ".py",
   "mimetype": "text/x-python",
   "name": "python",
   "nbconvert_exporter": "python",
   "pygments_lexer": "ipython3",
   "version": "3.10.14"
  }
 },
 "nbformat": 4,
 "nbformat_minor": 4
}
