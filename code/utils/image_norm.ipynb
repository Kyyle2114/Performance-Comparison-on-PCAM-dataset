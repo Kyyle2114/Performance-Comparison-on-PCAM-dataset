{
 "cells": [
  {
   "cell_type": "code",
   "execution_count": 1,
   "metadata": {},
   "outputs": [],
   "source": [
    "import torch\n",
    "import torchvision\n",
    "import torchvision.transforms as tr\n",
    "\n",
    "import numpy as np"
   ]
  },
  {
   "cell_type": "code",
   "execution_count": null,
   "metadata": {},
   "outputs": [],
   "source": [
    "# Download PCAM dataset\n",
    "# torchvision.datasets.PCAM(root='./data', split ='train', download=True)\n",
    "# torchvision.datasets.PCAM(root='./data', split ='val', download=True)\n",
    "# torchvision.datasets.PCAM(root='./data', split ='test', download=True)"
   ]
  },
  {
   "cell_type": "code",
   "execution_count": 2,
   "metadata": {},
   "outputs": [],
   "source": [
    "trainset = torchvision.datasets.PCAM(root='./data', split ='train', download=False, transform=tr.ToTensor())"
   ]
  },
  {
   "cell_type": "code",
   "execution_count": 6,
   "metadata": {},
   "outputs": [],
   "source": [
    "# Image Normalization \n",
    "def calculate_norm(dataset):\n",
    "    mean_ = np.array([np.mean(x.numpy(), axis=(1, 2)) for x, _ in dataset])\n",
    "\n",
    "    mean_r = mean_[:, 0].mean()\n",
    "    mean_g = mean_[:, 1].mean()\n",
    "    mean_b = mean_[:, 2].mean()\n",
    "\n",
    "    std_ = np.array([np.std(x.numpy(), axis=(1, 2)) for x, _ in dataset])\n",
    "\n",
    "    std_r = std_[:, 0].mean()\n",
    "    std_g = std_[:, 1].mean()\n",
    "    std_b = std_[:, 2].mean()\n",
    "    \n",
    "    return (mean_r, mean_g, mean_b), (std_r, std_g, std_b)"
   ]
  },
  {
   "cell_type": "code",
   "execution_count": 7,
   "metadata": {},
   "outputs": [
    {
     "name": "stdout",
     "output_type": "stream",
     "text": [
      "train mean (R,G,B): (0.70075595, 0.53835785, 0.6916205)\n",
      "train std (R,G,B): (0.18174392, 0.20083658, 0.16479422)\n"
     ]
    }
   ],
   "source": [
    "mean_, std_ = calculate_norm(trainset)\n",
    "print(f'train mean (R,G,B): {mean_}\\ntrain std (R,G,B): {std_}')"
   ]
  }
 ],
 "metadata": {
  "kernelspec": {
   "display_name": "wsl",
   "language": "python",
   "name": "python3"
  },
  "language_info": {
   "codemirror_mode": {
    "name": "ipython",
    "version": 3
   },
   "file_extension": ".py",
   "mimetype": "text/x-python",
   "name": "python",
   "nbconvert_exporter": "python",
   "pygments_lexer": "ipython3",
   "version": "3.10.13"
  }
 },
 "nbformat": 4,
 "nbformat_minor": 2
}
