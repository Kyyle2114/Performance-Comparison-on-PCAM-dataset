{
 "cells": [
  {
   "cell_type": "code",
   "execution_count": 1,
   "metadata": {},
   "outputs": [],
   "source": [
    "import os\n",
    "import numpy as np\n",
    "import matplotlib.pyplot as plt\n",
    "import warnings\n",
    "warnings.filterwarnings('ignore')\n",
    " \n",
    "import torch\n",
    "import torch.nn as nn\n",
    "import torch.optim as optim\n",
    "\n",
    "from utils import seed\n",
    "from data import dataset\n",
    "from model.backbone import VGG16, ResNet34\n",
    "from model.simclr import basic_simclr, data_aug, simclr_train\n",
    "from model import basic_classifier\n",
    "from utils import train\n",
    "\n",
    "seed.seed_everything()"
   ]
  },
  {
   "cell_type": "code",
   "execution_count": 2,
   "metadata": {},
   "outputs": [
    {
     "name": "stdout",
     "output_type": "stream",
     "text": [
      "cuda:0\n"
     ]
    }
   ],
   "source": [
    "device = 'cuda:0' if torch.cuda.is_available() else 'cpu'\n",
    "print(device)"
   ]
  },
  {
   "cell_type": "markdown",
   "metadata": {},
   "source": [
    "# VGG"
   ]
  },
  {
   "cell_type": "markdown",
   "metadata": {},
   "source": [
    "## SimCLR"
   ]
  },
  {
   "cell_type": "code",
   "execution_count": 3,
   "metadata": {},
   "outputs": [],
   "source": [
    "path = './data'\n",
    "\n",
    "dataset_simclr = data_aug.ContrastiveLearningDataset(path=path, input_shape=96)\n",
    "\n",
    "batch_size = 256\n",
    "\n",
    "train_set = dataset_simclr.get_dataset()\n",
    "train_loader = torch.utils.data.DataLoader(train_set, \n",
    "                                           batch_size=batch_size, \n",
    "                                           shuffle=True, \n",
    "                                           num_workers=0,\n",
    "                                           pin_memory=True, \n",
    "                                           drop_last=True)"
   ]
  },
  {
   "cell_type": "code",
   "execution_count": 4,
   "metadata": {},
   "outputs": [
    {
     "name": "stdout",
     "output_type": "stream",
     "text": [
      "BasicSimCLR(\n",
      "  (backbone): Sequential(\n",
      "    (0): Conv2d(3, 64, kernel_size=(3, 3), stride=(1, 1), padding=(1, 1))\n",
      "    (1): ReLU(inplace=True)\n",
      "    (2): Conv2d(64, 64, kernel_size=(3, 3), stride=(1, 1), padding=(1, 1))\n",
      "    (3): ReLU(inplace=True)\n",
      "    (4): MaxPool2d(kernel_size=2, stride=2, padding=0, dilation=1, ceil_mode=False)\n",
      "    (5): Conv2d(64, 128, kernel_size=(3, 3), stride=(1, 1), padding=(1, 1))\n",
      "    (6): ReLU(inplace=True)\n",
      "    (7): Conv2d(128, 128, kernel_size=(3, 3), stride=(1, 1), padding=(1, 1))\n",
      "    (8): ReLU(inplace=True)\n",
      "    (9): MaxPool2d(kernel_size=2, stride=2, padding=0, dilation=1, ceil_mode=False)\n",
      "    (10): Conv2d(128, 256, kernel_size=(3, 3), stride=(1, 1), padding=(1, 1))\n",
      "    (11): ReLU(inplace=True)\n",
      "    (12): Conv2d(256, 256, kernel_size=(3, 3), stride=(1, 1), padding=(1, 1))\n",
      "    (13): ReLU(inplace=True)\n",
      "    (14): Conv2d(256, 256, kernel_size=(3, 3), stride=(1, 1), padding=(1, 1))\n",
      "    (15): ReLU(inplace=True)\n",
      "    (16): MaxPool2d(kernel_size=2, stride=2, padding=0, dilation=1, ceil_mode=False)\n",
      "    (17): Conv2d(256, 512, kernel_size=(3, 3), stride=(1, 1), padding=(1, 1))\n",
      "    (18): ReLU(inplace=True)\n",
      "    (19): Conv2d(512, 512, kernel_size=(3, 3), stride=(1, 1), padding=(1, 1))\n",
      "    (20): ReLU(inplace=True)\n",
      "    (21): Conv2d(512, 512, kernel_size=(3, 3), stride=(1, 1), padding=(1, 1))\n",
      "    (22): ReLU(inplace=True)\n",
      "    (23): MaxPool2d(kernel_size=2, stride=2, padding=0, dilation=1, ceil_mode=False)\n",
      "    (24): Conv2d(512, 512, kernel_size=(3, 3), stride=(1, 1), padding=(1, 1))\n",
      "    (25): ReLU(inplace=True)\n",
      "    (26): Conv2d(512, 512, kernel_size=(3, 3), stride=(1, 1), padding=(1, 1))\n",
      "    (27): ReLU(inplace=True)\n",
      "    (28): Conv2d(512, 512, kernel_size=(3, 3), stride=(1, 1), padding=(1, 1))\n",
      "    (29): ReLU(inplace=True)\n",
      "    (30): MaxPool2d(kernel_size=2, stride=2, padding=0, dilation=1, ceil_mode=False)\n",
      "  )\n",
      "  (avg): AdaptiveAvgPool2d(output_size=(1, 1))\n",
      "  (fc): Sequential(\n",
      "    (0): Flatten(start_dim=1, end_dim=-1)\n",
      "    (1): Linear(in_features=512, out_features=512, bias=True)\n",
      "    (2): ReLU()\n",
      "    (3): Linear(in_features=512, out_features=64, bias=True)\n",
      "  )\n",
      ")\n"
     ]
    }
   ],
   "source": [
    "backbone = VGG16.VGG16_Backbone(pretrain=False).to(device=device)\n",
    "model = basic_simclr.BasicSimCLR(backbone, num_classes=64).to(device=device)\n",
    "\n",
    "print(model)"
   ]
  },
  {
   "cell_type": "code",
   "execution_count": 5,
   "metadata": {},
   "outputs": [],
   "source": [
    "# default hyperparameters\n",
    "lr = 3e-4\n",
    "weight_decay = 1e-3\n",
    "\n",
    "optimizer = torch.optim.Adam(model.parameters(), lr=lr, weight_decay=weight_decay)\n",
    "scheduler = torch.optim.lr_scheduler.CosineAnnealingLR(optimizer, \n",
    "                                                       T_max=len(train_loader), \n",
    "                                                       eta_min=0,\n",
    "                                                       last_epoch=-1)"
   ]
  },
  {
   "cell_type": "code",
   "execution_count": 6,
   "metadata": {},
   "outputs": [],
   "source": [
    "simclr = simclr_train.SimCLR(model=model,\n",
    "                             model_name='VGG16',\n",
    "                             scheduler=scheduler,\n",
    "                             optimizer=optimizer,\n",
    "                             device=device,\n",
    "                             epochs=100)"
   ]
  },
  {
   "cell_type": "code",
   "execution_count": 7,
   "metadata": {},
   "outputs": [
    {
     "name": "stderr",
     "output_type": "stream",
     "text": [
      "100%|███████████████████████████████████████████████████████████████████████████| 1024/1024 [28:55<00:00,  1.70s/it]\n",
      "100%|███████████████████████████████████████████████████████████████████████████| 1024/1024 [28:47<00:00,  1.69s/it]\n",
      "100%|███████████████████████████████████████████████████████████████████████████| 1024/1024 [28:49<00:00,  1.69s/it]\n",
      "100%|███████████████████████████████████████████████████████████████████████████| 1024/1024 [28:49<00:00,  1.69s/it]\n",
      "100%|███████████████████████████████████████████████████████████████████████████| 1024/1024 [28:48<00:00,  1.69s/it]\n",
      "100%|███████████████████████████████████████████████████████████████████████████| 1024/1024 [28:51<00:00,  1.69s/it]\n",
      "100%|███████████████████████████████████████████████████████████████████████████| 1024/1024 [28:47<00:00,  1.69s/it]\n",
      "100%|███████████████████████████████████████████████████████████████████████████| 1024/1024 [28:49<00:00,  1.69s/it]\n",
      "100%|███████████████████████████████████████████████████████████████████████████| 1024/1024 [28:48<00:00,  1.69s/it]\n",
      "100%|███████████████████████████████████████████████████████████████████████████| 1024/1024 [28:46<00:00,  1.69s/it]\n",
      "100%|███████████████████████████████████████████████████████████████████████████| 1024/1024 [28:47<00:00,  1.69s/it]\n",
      "100%|███████████████████████████████████████████████████████████████████████████| 1024/1024 [28:48<00:00,  1.69s/it]\n",
      "100%|███████████████████████████████████████████████████████████████████████████| 1024/1024 [28:49<00:00,  1.69s/it]\n",
      "100%|███████████████████████████████████████████████████████████████████████████| 1024/1024 [28:49<00:00,  1.69s/it]\n",
      "100%|███████████████████████████████████████████████████████████████████████████| 1024/1024 [28:49<00:00,  1.69s/it]\n",
      "100%|███████████████████████████████████████████████████████████████████████████| 1024/1024 [28:46<00:00,  1.69s/it]\n",
      "100%|███████████████████████████████████████████████████████████████████████████| 1024/1024 [28:46<00:00,  1.69s/it]\n",
      "100%|███████████████████████████████████████████████████████████████████████████| 1024/1024 [28:50<00:00,  1.69s/it]\n",
      "100%|███████████████████████████████████████████████████████████████████████████| 1024/1024 [28:48<00:00,  1.69s/it]\n",
      "100%|███████████████████████████████████████████████████████████████████████████| 1024/1024 [28:49<00:00,  1.69s/it]\n",
      "100%|███████████████████████████████████████████████████████████████████████████| 1024/1024 [28:48<00:00,  1.69s/it]\n",
      "100%|███████████████████████████████████████████████████████████████████████████| 1024/1024 [28:49<00:00,  1.69s/it]\n",
      "100%|███████████████████████████████████████████████████████████████████████████| 1024/1024 [28:47<00:00,  1.69s/it]\n",
      "100%|███████████████████████████████████████████████████████████████████████████| 1024/1024 [28:49<00:00,  1.69s/it]\n",
      "100%|███████████████████████████████████████████████████████████████████████████| 1024/1024 [28:48<00:00,  1.69s/it]\n",
      "100%|███████████████████████████████████████████████████████████████████████████| 1024/1024 [28:49<00:00,  1.69s/it]\n",
      "100%|███████████████████████████████████████████████████████████████████████████| 1024/1024 [28:47<00:00,  1.69s/it]\n",
      "100%|███████████████████████████████████████████████████████████████████████████| 1024/1024 [28:48<00:00,  1.69s/it]\n",
      "100%|███████████████████████████████████████████████████████████████████████████| 1024/1024 [28:49<00:00,  1.69s/it]\n",
      "100%|███████████████████████████████████████████████████████████████████████████| 1024/1024 [28:48<00:00,  1.69s/it]\n",
      "100%|███████████████████████████████████████████████████████████████████████████| 1024/1024 [28:50<00:00,  1.69s/it]\n",
      "100%|███████████████████████████████████████████████████████████████████████████| 1024/1024 [28:49<00:00,  1.69s/it]\n",
      "100%|███████████████████████████████████████████████████████████████████████████| 1024/1024 [28:50<00:00,  1.69s/it]\n",
      "100%|███████████████████████████████████████████████████████████████████████████| 1024/1024 [28:48<00:00,  1.69s/it]\n",
      "100%|███████████████████████████████████████████████████████████████████████████| 1024/1024 [28:51<00:00,  1.69s/it]\n",
      "100%|███████████████████████████████████████████████████████████████████████████| 1024/1024 [28:48<00:00,  1.69s/it]\n",
      "100%|███████████████████████████████████████████████████████████████████████████| 1024/1024 [28:47<00:00,  1.69s/it]\n",
      "100%|███████████████████████████████████████████████████████████████████████████| 1024/1024 [28:49<00:00,  1.69s/it]\n",
      "100%|███████████████████████████████████████████████████████████████████████████| 1024/1024 [28:49<00:00,  1.69s/it]\n",
      "100%|███████████████████████████████████████████████████████████████████████████| 1024/1024 [28:48<00:00,  1.69s/it]\n",
      "100%|███████████████████████████████████████████████████████████████████████████| 1024/1024 [28:47<00:00,  1.69s/it]\n",
      "100%|███████████████████████████████████████████████████████████████████████████| 1024/1024 [28:51<00:00,  1.69s/it]\n",
      "100%|███████████████████████████████████████████████████████████████████████████| 1024/1024 [28:46<00:00,  1.69s/it]\n",
      "100%|███████████████████████████████████████████████████████████████████████████| 1024/1024 [28:49<00:00,  1.69s/it]\n",
      "100%|███████████████████████████████████████████████████████████████████████████| 1024/1024 [28:48<00:00,  1.69s/it]\n",
      "100%|███████████████████████████████████████████████████████████████████████████| 1024/1024 [28:49<00:00,  1.69s/it]\n",
      "100%|███████████████████████████████████████████████████████████████████████████| 1024/1024 [28:48<00:00,  1.69s/it]\n",
      "100%|███████████████████████████████████████████████████████████████████████████| 1024/1024 [28:49<00:00,  1.69s/it]\n",
      "100%|███████████████████████████████████████████████████████████████████████████| 1024/1024 [28:48<00:00,  1.69s/it]\n",
      "100%|███████████████████████████████████████████████████████████████████████████| 1024/1024 [28:48<00:00,  1.69s/it]\n",
      "100%|███████████████████████████████████████████████████████████████████████████| 1024/1024 [28:50<00:00,  1.69s/it]\n",
      "100%|███████████████████████████████████████████████████████████████████████████| 1024/1024 [28:49<00:00,  1.69s/it]\n",
      "100%|███████████████████████████████████████████████████████████████████████████| 1024/1024 [28:49<00:00,  1.69s/it]\n",
      "100%|███████████████████████████████████████████████████████████████████████████| 1024/1024 [28:49<00:00,  1.69s/it]\n",
      "100%|███████████████████████████████████████████████████████████████████████████| 1024/1024 [29:01<00:00,  1.70s/it]\n",
      "100%|███████████████████████████████████████████████████████████████████████████| 1024/1024 [28:54<00:00,  1.69s/it]\n",
      "100%|███████████████████████████████████████████████████████████████████████████| 1024/1024 [28:52<00:00,  1.69s/it]\n",
      "100%|███████████████████████████████████████████████████████████████████████████| 1024/1024 [28:52<00:00,  1.69s/it]\n",
      "100%|███████████████████████████████████████████████████████████████████████████| 1024/1024 [28:52<00:00,  1.69s/it]\n",
      "100%|███████████████████████████████████████████████████████████████████████████| 1024/1024 [28:51<00:00,  1.69s/it]\n",
      "100%|███████████████████████████████████████████████████████████████████████████| 1024/1024 [28:50<00:00,  1.69s/it]\n",
      "100%|███████████████████████████████████████████████████████████████████████████| 1024/1024 [28:50<00:00,  1.69s/it]\n",
      "100%|███████████████████████████████████████████████████████████████████████████| 1024/1024 [28:49<00:00,  1.69s/it]\n",
      "100%|███████████████████████████████████████████████████████████████████████████| 1024/1024 [28:49<00:00,  1.69s/it]\n",
      "100%|███████████████████████████████████████████████████████████████████████████| 1024/1024 [28:51<00:00,  1.69s/it]\n",
      "100%|███████████████████████████████████████████████████████████████████████████| 1024/1024 [28:50<00:00,  1.69s/it]\n",
      "100%|███████████████████████████████████████████████████████████████████████████| 1024/1024 [28:51<00:00,  1.69s/it]\n",
      "100%|███████████████████████████████████████████████████████████████████████████| 1024/1024 [28:51<00:00,  1.69s/it]\n",
      "100%|███████████████████████████████████████████████████████████████████████████| 1024/1024 [28:48<00:00,  1.69s/it]\n",
      "100%|███████████████████████████████████████████████████████████████████████████| 1024/1024 [28:50<00:00,  1.69s/it]\n",
      "100%|███████████████████████████████████████████████████████████████████████████| 1024/1024 [28:49<00:00,  1.69s/it]\n",
      "100%|███████████████████████████████████████████████████████████████████████████| 1024/1024 [28:51<00:00,  1.69s/it]\n",
      "100%|███████████████████████████████████████████████████████████████████████████| 1024/1024 [28:49<00:00,  1.69s/it]\n",
      "100%|███████████████████████████████████████████████████████████████████████████| 1024/1024 [28:47<00:00,  1.69s/it]\n",
      "100%|███████████████████████████████████████████████████████████████████████████| 1024/1024 [28:48<00:00,  1.69s/it]\n",
      "100%|███████████████████████████████████████████████████████████████████████████| 1024/1024 [28:56<00:00,  1.70s/it]\n",
      "100%|███████████████████████████████████████████████████████████████████████████| 1024/1024 [28:49<00:00,  1.69s/it]\n",
      "100%|███████████████████████████████████████████████████████████████████████████| 1024/1024 [28:49<00:00,  1.69s/it]\n",
      "100%|███████████████████████████████████████████████████████████████████████████| 1024/1024 [28:52<00:00,  1.69s/it]\n",
      "100%|███████████████████████████████████████████████████████████████████████████| 1024/1024 [28:53<00:00,  1.69s/it]\n",
      "100%|███████████████████████████████████████████████████████████████████████████| 1024/1024 [28:49<00:00,  1.69s/it]\n",
      "100%|███████████████████████████████████████████████████████████████████████████| 1024/1024 [28:51<00:00,  1.69s/it]\n",
      "100%|███████████████████████████████████████████████████████████████████████████| 1024/1024 [28:51<00:00,  1.69s/it]\n",
      "100%|███████████████████████████████████████████████████████████████████████████| 1024/1024 [28:51<00:00,  1.69s/it]\n",
      "100%|███████████████████████████████████████████████████████████████████████████| 1024/1024 [28:50<00:00,  1.69s/it]\n",
      "100%|███████████████████████████████████████████████████████████████████████████| 1024/1024 [28:49<00:00,  1.69s/it]\n",
      "100%|███████████████████████████████████████████████████████████████████████████| 1024/1024 [28:47<00:00,  1.69s/it]\n",
      "100%|███████████████████████████████████████████████████████████████████████████| 1024/1024 [28:50<00:00,  1.69s/it]\n",
      "100%|███████████████████████████████████████████████████████████████████████████| 1024/1024 [28:52<00:00,  1.69s/it]\n",
      "100%|███████████████████████████████████████████████████████████████████████████| 1024/1024 [28:50<00:00,  1.69s/it]\n",
      "100%|███████████████████████████████████████████████████████████████████████████| 1024/1024 [28:52<00:00,  1.69s/it]\n",
      "100%|███████████████████████████████████████████████████████████████████████████| 1024/1024 [28:50<00:00,  1.69s/it]\n",
      "100%|███████████████████████████████████████████████████████████████████████████| 1024/1024 [28:48<00:00,  1.69s/it]\n",
      "100%|███████████████████████████████████████████████████████████████████████████| 1024/1024 [28:46<00:00,  1.69s/it]\n",
      "100%|███████████████████████████████████████████████████████████████████████████| 1024/1024 [28:48<00:00,  1.69s/it]\n",
      "100%|███████████████████████████████████████████████████████████████████████████| 1024/1024 [28:51<00:00,  1.69s/it]\n",
      "100%|███████████████████████████████████████████████████████████████████████████| 1024/1024 [28:47<00:00,  1.69s/it]\n",
      "100%|███████████████████████████████████████████████████████████████████████████| 1024/1024 [28:50<00:00,  1.69s/it]\n",
      "100%|███████████████████████████████████████████████████████████████████████████| 1024/1024 [28:48<00:00,  1.69s/it]\n",
      "100%|███████████████████████████████████████████████████████████████████████████| 1024/1024 [28:49<00:00,  1.69s/it]\n"
     ]
    }
   ],
   "source": [
    "simclr.train(train_loader=train_loader)"
   ]
  },
  {
   "cell_type": "markdown",
   "metadata": {},
   "source": [
    "## Model Train"
   ]
  },
  {
   "cell_type": "code",
   "execution_count": 21,
   "metadata": {},
   "outputs": [],
   "source": [
    "# (already downloaded) dataset path \n",
    "path = './data'\n",
    "\n",
    "train_loader, val_loader, test_loader = dataset.load_pcam(path=path, \n",
    "                                                          input_shape=96,\n",
    "                                                          augmentation=True,\n",
    "                                                          normalize=True,\n",
    "                                                          batch_size=256,\n",
    "                                                          seed=21)"
   ]
  },
  {
   "cell_type": "code",
   "execution_count": 22,
   "metadata": {},
   "outputs": [
    {
     "data": {
      "text/plain": [
       "<All keys matched successfully>"
      ]
     },
     "execution_count": 22,
     "metadata": {},
     "output_type": "execute_result"
    }
   ],
   "source": [
    "backbone = VGG16.VGG16_Backbone(pretrain=False).to(device=device)\n",
    "model_temp = basic_simclr.BasicSimCLR(backbone, num_classes=64).to(device=device)\n",
    "\n",
    "# path - VGG \n",
    "log_dir = 'checkpoints/Mar30_11-40-32'\n",
    "file_path = 'checkpoint_0100.pth.tar'\n",
    "\n",
    "checkpoint_path = os.path.join(log_dir, file_path)\n",
    "checkpoint = torch.load(checkpoint_path, map_location=device)\n",
    "model_temp.load_state_dict(checkpoint['state_dict'])"
   ]
  },
  {
   "cell_type": "code",
   "execution_count": 23,
   "metadata": {},
   "outputs": [
    {
     "name": "stdout",
     "output_type": "stream",
     "text": [
      "BasicClassifier(\n",
      "  (backbone): Sequential(\n",
      "    (0): Conv2d(3, 64, kernel_size=(3, 3), stride=(1, 1), padding=(1, 1))\n",
      "    (1): ReLU(inplace=True)\n",
      "    (2): Conv2d(64, 64, kernel_size=(3, 3), stride=(1, 1), padding=(1, 1))\n",
      "    (3): ReLU(inplace=True)\n",
      "    (4): MaxPool2d(kernel_size=2, stride=2, padding=0, dilation=1, ceil_mode=False)\n",
      "    (5): Conv2d(64, 128, kernel_size=(3, 3), stride=(1, 1), padding=(1, 1))\n",
      "    (6): ReLU(inplace=True)\n",
      "    (7): Conv2d(128, 128, kernel_size=(3, 3), stride=(1, 1), padding=(1, 1))\n",
      "    (8): ReLU(inplace=True)\n",
      "    (9): MaxPool2d(kernel_size=2, stride=2, padding=0, dilation=1, ceil_mode=False)\n",
      "    (10): Conv2d(128, 256, kernel_size=(3, 3), stride=(1, 1), padding=(1, 1))\n",
      "    (11): ReLU(inplace=True)\n",
      "    (12): Conv2d(256, 256, kernel_size=(3, 3), stride=(1, 1), padding=(1, 1))\n",
      "    (13): ReLU(inplace=True)\n",
      "    (14): Conv2d(256, 256, kernel_size=(3, 3), stride=(1, 1), padding=(1, 1))\n",
      "    (15): ReLU(inplace=True)\n",
      "    (16): MaxPool2d(kernel_size=2, stride=2, padding=0, dilation=1, ceil_mode=False)\n",
      "    (17): Conv2d(256, 512, kernel_size=(3, 3), stride=(1, 1), padding=(1, 1))\n",
      "    (18): ReLU(inplace=True)\n",
      "    (19): Conv2d(512, 512, kernel_size=(3, 3), stride=(1, 1), padding=(1, 1))\n",
      "    (20): ReLU(inplace=True)\n",
      "    (21): Conv2d(512, 512, kernel_size=(3, 3), stride=(1, 1), padding=(1, 1))\n",
      "    (22): ReLU(inplace=True)\n",
      "    (23): MaxPool2d(kernel_size=2, stride=2, padding=0, dilation=1, ceil_mode=False)\n",
      "    (24): Conv2d(512, 512, kernel_size=(3, 3), stride=(1, 1), padding=(1, 1))\n",
      "    (25): ReLU(inplace=True)\n",
      "    (26): Conv2d(512, 512, kernel_size=(3, 3), stride=(1, 1), padding=(1, 1))\n",
      "    (27): ReLU(inplace=True)\n",
      "    (28): Conv2d(512, 512, kernel_size=(3, 3), stride=(1, 1), padding=(1, 1))\n",
      "    (29): ReLU(inplace=True)\n",
      "    (30): MaxPool2d(kernel_size=2, stride=2, padding=0, dilation=1, ceil_mode=False)\n",
      "  )\n",
      "  (avg): AdaptiveAvgPool2d(output_size=(1, 1))\n",
      "  (fc): Sequential(\n",
      "    (0): Flatten(start_dim=1, end_dim=-1)\n",
      "    (1): Linear(in_features=512, out_features=64, bias=True)\n",
      "    (2): ReLU()\n",
      "    (3): Dropout(p=0.5, inplace=False)\n",
      "    (4): Linear(in_features=64, out_features=1, bias=True)\n",
      "  )\n",
      ")\n"
     ]
    }
   ],
   "source": [
    "# backbone from SimCLR\n",
    "model = basic_classifier.BasicClassifier(backbone=backbone, \n",
    "                                         freezing=True, \n",
    "                                         num_classes=1).to(device=device)\n",
    "\n",
    "print(model)"
   ]
  },
  {
   "cell_type": "code",
   "execution_count": 24,
   "metadata": {},
   "outputs": [],
   "source": [
    "EPOCHS = 50\n",
    "\n",
    "criterion = nn.BCELoss()\n",
    "optimizer = optim.Adam(model.parameters(), lr=1e-3, weight_decay=1e-3)\n",
    "es = train.EarlyStopping(patience=EPOCHS//2, delta=0, mode='min', verbose=True)\n",
    "scheduler = optim.lr_scheduler.StepLR(optimizer, step_size=EPOCHS//5, gamma=0.9)\n",
    "\n",
    "history = {'train_loss' : [],\n",
    "           'val_loss': [],\n",
    "           'train_accuracy': [],\n",
    "           'val_accuracy': []}\n",
    "           \n",
    "max_loss = np.inf    "
   ]
  },
  {
   "cell_type": "code",
   "execution_count": 25,
   "metadata": {},
   "outputs": [
    {
     "name": "stderr",
     "output_type": "stream",
     "text": [
      "100%|███████████████████████████████████████████████████████████████████████████| 1024/1024 [09:44<00:00,  1.75it/s]\n"
     ]
    },
    {
     "name": "stdout",
     "output_type": "stream",
     "text": [
      "[EarlyStopping] (Update) Best Score: 0.53238\n",
      "[INFO] val_loss has been improved from inf to 0.53238. Save model.\n",
      "epoch 01, loss: 0.49849, accuracy: 0.76076, val_loss: 0.53238, val_accuracy: 0.72806 \n",
      "\n"
     ]
    },
    {
     "name": "stderr",
     "output_type": "stream",
     "text": [
      "100%|███████████████████████████████████████████████████████████████████████████| 1024/1024 [09:26<00:00,  1.81it/s]\n"
     ]
    },
    {
     "name": "stdout",
     "output_type": "stream",
     "text": [
      "[EarlyStopping] (Update) Best Score: 0.49261\n",
      "[INFO] val_loss has been improved from 0.53238 to 0.49261. Save model.\n",
      "epoch 02, loss: 0.46439, accuracy: 0.78178, val_loss: 0.49261, val_accuracy: 0.76505 \n",
      "\n"
     ]
    },
    {
     "name": "stderr",
     "output_type": "stream",
     "text": [
      "100%|███████████████████████████████████████████████████████████████████████████| 1024/1024 [09:11<00:00,  1.86it/s]\n"
     ]
    },
    {
     "name": "stdout",
     "output_type": "stream",
     "text": [
      "[EarlyStopping] (Update) Best Score: 0.47641\n",
      "[INFO] val_loss has been improved from 0.49261 to 0.47641. Save model.\n",
      "epoch 03, loss: 0.45137, accuracy: 0.79050, val_loss: 0.47641, val_accuracy: 0.77100 \n",
      "\n"
     ]
    },
    {
     "name": "stderr",
     "output_type": "stream",
     "text": [
      "100%|███████████████████████████████████████████████████████████████████████████| 1024/1024 [09:11<00:00,  1.86it/s]\n"
     ]
    },
    {
     "name": "stdout",
     "output_type": "stream",
     "text": [
      "[EarlyStopping] (Patience) 1/25, Best: 0.47641, Current: 0.47908, Delta: 0.00267\n",
      "epoch 04, loss: 0.44605, accuracy: 0.79376, val_loss: 0.47908, val_accuracy: 0.77084 \n",
      "\n"
     ]
    },
    {
     "name": "stderr",
     "output_type": "stream",
     "text": [
      "100%|███████████████████████████████████████████████████████████████████████████| 1024/1024 [09:11<00:00,  1.86it/s]\n"
     ]
    },
    {
     "name": "stdout",
     "output_type": "stream",
     "text": [
      "[EarlyStopping] (Patience) 2/25, Best: 0.47641, Current: 0.47794, Delta: 0.00153\n",
      "epoch 05, loss: 0.44270, accuracy: 0.79622, val_loss: 0.47794, val_accuracy: 0.77194 \n",
      "\n"
     ]
    },
    {
     "name": "stderr",
     "output_type": "stream",
     "text": [
      "100%|███████████████████████████████████████████████████████████████████████████| 1024/1024 [09:10<00:00,  1.86it/s]\n"
     ]
    },
    {
     "name": "stdout",
     "output_type": "stream",
     "text": [
      "[EarlyStopping] (Update) Best Score: 0.45657\n",
      "[INFO] val_loss has been improved from 0.47641 to 0.45657. Save model.\n",
      "epoch 06, loss: 0.43939, accuracy: 0.79869, val_loss: 0.45657, val_accuracy: 0.77783 \n",
      "\n"
     ]
    },
    {
     "name": "stderr",
     "output_type": "stream",
     "text": [
      "100%|███████████████████████████████████████████████████████████████████████████| 1024/1024 [09:13<00:00,  1.85it/s]\n"
     ]
    },
    {
     "name": "stdout",
     "output_type": "stream",
     "text": [
      "[EarlyStopping] (Patience) 1/25, Best: 0.45657, Current: 0.47363, Delta: 0.01706\n",
      "epoch 07, loss: 0.43835, accuracy: 0.79880, val_loss: 0.47363, val_accuracy: 0.77524 \n",
      "\n"
     ]
    },
    {
     "name": "stderr",
     "output_type": "stream",
     "text": [
      "100%|███████████████████████████████████████████████████████████████████████████| 1024/1024 [09:08<00:00,  1.87it/s]\n"
     ]
    },
    {
     "name": "stdout",
     "output_type": "stream",
     "text": [
      "[EarlyStopping] (Patience) 2/25, Best: 0.45657, Current: 0.47226, Delta: 0.01569\n",
      "epoch 08, loss: 0.43594, accuracy: 0.80091, val_loss: 0.47226, val_accuracy: 0.77469 \n",
      "\n"
     ]
    },
    {
     "name": "stderr",
     "output_type": "stream",
     "text": [
      "100%|███████████████████████████████████████████████████████████████████████████| 1024/1024 [09:11<00:00,  1.86it/s]\n"
     ]
    },
    {
     "name": "stdout",
     "output_type": "stream",
     "text": [
      "[EarlyStopping] (Patience) 3/25, Best: 0.45657, Current: 0.47515, Delta: 0.01858\n",
      "epoch 09, loss: 0.43580, accuracy: 0.80106, val_loss: 0.47515, val_accuracy: 0.77652 \n",
      "\n"
     ]
    },
    {
     "name": "stderr",
     "output_type": "stream",
     "text": [
      "100%|███████████████████████████████████████████████████████████████████████████| 1024/1024 [09:10<00:00,  1.86it/s]\n"
     ]
    },
    {
     "name": "stdout",
     "output_type": "stream",
     "text": [
      "[EarlyStopping] (Update) Best Score: 0.45088\n",
      "[INFO] val_loss has been improved from 0.45657 to 0.45088. Save model.\n",
      "epoch 10, loss: 0.43521, accuracy: 0.80117, val_loss: 0.45088, val_accuracy: 0.78143 \n",
      "\n"
     ]
    },
    {
     "name": "stderr",
     "output_type": "stream",
     "text": [
      "100%|███████████████████████████████████████████████████████████████████████████| 1024/1024 [09:11<00:00,  1.86it/s]\n"
     ]
    },
    {
     "name": "stdout",
     "output_type": "stream",
     "text": [
      "[EarlyStopping] (Patience) 1/25, Best: 0.45088, Current: 0.45953, Delta: 0.00865\n",
      "epoch 11, loss: 0.43268, accuracy: 0.80215, val_loss: 0.45953, val_accuracy: 0.78226 \n",
      "\n"
     ]
    },
    {
     "name": "stderr",
     "output_type": "stream",
     "text": [
      "100%|███████████████████████████████████████████████████████████████████████████| 1024/1024 [09:10<00:00,  1.86it/s]\n"
     ]
    },
    {
     "name": "stdout",
     "output_type": "stream",
     "text": [
      "[EarlyStopping] (Patience) 2/25, Best: 0.45088, Current: 0.45480, Delta: 0.00392\n",
      "epoch 12, loss: 0.43240, accuracy: 0.80333, val_loss: 0.45480, val_accuracy: 0.78214 \n",
      "\n"
     ]
    },
    {
     "name": "stderr",
     "output_type": "stream",
     "text": [
      "100%|███████████████████████████████████████████████████████████████████████████| 1024/1024 [09:11<00:00,  1.86it/s]\n"
     ]
    },
    {
     "name": "stdout",
     "output_type": "stream",
     "text": [
      "[EarlyStopping] (Patience) 3/25, Best: 0.45088, Current: 0.45383, Delta: 0.00295\n",
      "epoch 13, loss: 0.43278, accuracy: 0.80246, val_loss: 0.45383, val_accuracy: 0.78293 \n",
      "\n"
     ]
    },
    {
     "name": "stderr",
     "output_type": "stream",
     "text": [
      "100%|███████████████████████████████████████████████████████████████████████████| 1024/1024 [09:09<00:00,  1.87it/s]\n"
     ]
    },
    {
     "name": "stdout",
     "output_type": "stream",
     "text": [
      "[EarlyStopping] (Patience) 4/25, Best: 0.45088, Current: 0.45840, Delta: 0.00752\n",
      "epoch 14, loss: 0.43208, accuracy: 0.80341, val_loss: 0.45840, val_accuracy: 0.78024 \n",
      "\n"
     ]
    },
    {
     "name": "stderr",
     "output_type": "stream",
     "text": [
      "100%|███████████████████████████████████████████████████████████████████████████| 1024/1024 [09:10<00:00,  1.86it/s]\n"
     ]
    },
    {
     "name": "stdout",
     "output_type": "stream",
     "text": [
      "[EarlyStopping] (Update) Best Score: 0.44544\n",
      "[INFO] val_loss has been improved from 0.45088 to 0.44544. Save model.\n",
      "epoch 15, loss: 0.43108, accuracy: 0.80392, val_loss: 0.44544, val_accuracy: 0.78564 \n",
      "\n"
     ]
    },
    {
     "name": "stderr",
     "output_type": "stream",
     "text": [
      "100%|███████████████████████████████████████████████████████████████████████████| 1024/1024 [09:11<00:00,  1.86it/s]\n"
     ]
    },
    {
     "name": "stdout",
     "output_type": "stream",
     "text": [
      "[EarlyStopping] (Patience) 1/25, Best: 0.44544, Current: 0.45322, Delta: 0.00778\n",
      "epoch 16, loss: 0.43206, accuracy: 0.80335, val_loss: 0.45322, val_accuracy: 0.78253 \n",
      "\n"
     ]
    },
    {
     "name": "stderr",
     "output_type": "stream",
     "text": [
      "100%|███████████████████████████████████████████████████████████████████████████| 1024/1024 [09:08<00:00,  1.87it/s]\n"
     ]
    },
    {
     "name": "stdout",
     "output_type": "stream",
     "text": [
      "[EarlyStopping] (Patience) 2/25, Best: 0.44544, Current: 0.45100, Delta: 0.00556\n",
      "epoch 17, loss: 0.43084, accuracy: 0.80320, val_loss: 0.45100, val_accuracy: 0.78247 \n",
      "\n"
     ]
    },
    {
     "name": "stderr",
     "output_type": "stream",
     "text": [
      "100%|███████████████████████████████████████████████████████████████████████████| 1024/1024 [09:10<00:00,  1.86it/s]\n"
     ]
    },
    {
     "name": "stdout",
     "output_type": "stream",
     "text": [
      "[EarlyStopping] (Patience) 3/25, Best: 0.44544, Current: 0.46091, Delta: 0.01548\n",
      "epoch 18, loss: 0.43157, accuracy: 0.80441, val_loss: 0.46091, val_accuracy: 0.78287 \n",
      "\n"
     ]
    },
    {
     "name": "stderr",
     "output_type": "stream",
     "text": [
      "100%|███████████████████████████████████████████████████████████████████████████| 1024/1024 [09:12<00:00,  1.85it/s]\n"
     ]
    },
    {
     "name": "stdout",
     "output_type": "stream",
     "text": [
      "[EarlyStopping] (Patience) 4/25, Best: 0.44544, Current: 0.46874, Delta: 0.02330\n",
      "epoch 19, loss: 0.43160, accuracy: 0.80418, val_loss: 0.46874, val_accuracy: 0.77869 \n",
      "\n"
     ]
    },
    {
     "name": "stderr",
     "output_type": "stream",
     "text": [
      "100%|███████████████████████████████████████████████████████████████████████████| 1024/1024 [09:12<00:00,  1.85it/s]\n"
     ]
    },
    {
     "name": "stdout",
     "output_type": "stream",
     "text": [
      "[EarlyStopping] (Patience) 5/25, Best: 0.44544, Current: 0.45892, Delta: 0.01348\n",
      "epoch 20, loss: 0.43072, accuracy: 0.80387, val_loss: 0.45892, val_accuracy: 0.78186 \n",
      "\n"
     ]
    },
    {
     "name": "stderr",
     "output_type": "stream",
     "text": [
      "100%|███████████████████████████████████████████████████████████████████████████| 1024/1024 [09:10<00:00,  1.86it/s]\n"
     ]
    },
    {
     "name": "stdout",
     "output_type": "stream",
     "text": [
      "[EarlyStopping] (Patience) 6/25, Best: 0.44544, Current: 0.45272, Delta: 0.00728\n",
      "epoch 21, loss: 0.43001, accuracy: 0.80547, val_loss: 0.45272, val_accuracy: 0.78549 \n",
      "\n"
     ]
    },
    {
     "name": "stderr",
     "output_type": "stream",
     "text": [
      "100%|███████████████████████████████████████████████████████████████████████████| 1024/1024 [09:10<00:00,  1.86it/s]\n"
     ]
    },
    {
     "name": "stdout",
     "output_type": "stream",
     "text": [
      "[EarlyStopping] (Patience) 7/25, Best: 0.44544, Current: 0.45880, Delta: 0.01336\n",
      "epoch 22, loss: 0.43046, accuracy: 0.80413, val_loss: 0.45880, val_accuracy: 0.78259 \n",
      "\n"
     ]
    },
    {
     "name": "stderr",
     "output_type": "stream",
     "text": [
      "100%|███████████████████████████████████████████████████████████████████████████| 1024/1024 [09:08<00:00,  1.87it/s]\n"
     ]
    },
    {
     "name": "stdout",
     "output_type": "stream",
     "text": [
      "[EarlyStopping] (Patience) 8/25, Best: 0.44544, Current: 0.46586, Delta: 0.02042\n",
      "epoch 23, loss: 0.43015, accuracy: 0.80429, val_loss: 0.46586, val_accuracy: 0.77783 \n",
      "\n"
     ]
    },
    {
     "name": "stderr",
     "output_type": "stream",
     "text": [
      "100%|███████████████████████████████████████████████████████████████████████████| 1024/1024 [09:10<00:00,  1.86it/s]\n"
     ]
    },
    {
     "name": "stdout",
     "output_type": "stream",
     "text": [
      "[EarlyStopping] (Patience) 9/25, Best: 0.44544, Current: 0.45918, Delta: 0.01374\n",
      "epoch 24, loss: 0.42928, accuracy: 0.80577, val_loss: 0.45918, val_accuracy: 0.78409 \n",
      "\n"
     ]
    },
    {
     "name": "stderr",
     "output_type": "stream",
     "text": [
      "100%|███████████████████████████████████████████████████████████████████████████| 1024/1024 [09:09<00:00,  1.86it/s]\n"
     ]
    },
    {
     "name": "stdout",
     "output_type": "stream",
     "text": [
      "[EarlyStopping] (Patience) 10/25, Best: 0.44544, Current: 0.45045, Delta: 0.00502\n",
      "epoch 25, loss: 0.43013, accuracy: 0.80447, val_loss: 0.45045, val_accuracy: 0.78705 \n",
      "\n"
     ]
    },
    {
     "name": "stderr",
     "output_type": "stream",
     "text": [
      "100%|███████████████████████████████████████████████████████████████████████████| 1024/1024 [09:11<00:00,  1.86it/s]\n"
     ]
    },
    {
     "name": "stdout",
     "output_type": "stream",
     "text": [
      "[EarlyStopping] (Patience) 11/25, Best: 0.44544, Current: 0.45305, Delta: 0.00761\n",
      "epoch 26, loss: 0.43024, accuracy: 0.80469, val_loss: 0.45305, val_accuracy: 0.78198 \n",
      "\n"
     ]
    },
    {
     "name": "stderr",
     "output_type": "stream",
     "text": [
      "100%|███████████████████████████████████████████████████████████████████████████| 1024/1024 [09:10<00:00,  1.86it/s]\n"
     ]
    },
    {
     "name": "stdout",
     "output_type": "stream",
     "text": [
      "[EarlyStopping] (Patience) 12/25, Best: 0.44544, Current: 0.44799, Delta: 0.00255\n",
      "epoch 27, loss: 0.42971, accuracy: 0.80515, val_loss: 0.44799, val_accuracy: 0.78540 \n",
      "\n"
     ]
    },
    {
     "name": "stderr",
     "output_type": "stream",
     "text": [
      "100%|███████████████████████████████████████████████████████████████████████████| 1024/1024 [09:11<00:00,  1.86it/s]\n"
     ]
    },
    {
     "name": "stdout",
     "output_type": "stream",
     "text": [
      "[EarlyStopping] (Patience) 13/25, Best: 0.44544, Current: 0.44655, Delta: 0.00111\n",
      "epoch 28, loss: 0.42927, accuracy: 0.80491, val_loss: 0.44655, val_accuracy: 0.78705 \n",
      "\n"
     ]
    },
    {
     "name": "stderr",
     "output_type": "stream",
     "text": [
      "100%|███████████████████████████████████████████████████████████████████████████| 1024/1024 [09:10<00:00,  1.86it/s]\n"
     ]
    },
    {
     "name": "stdout",
     "output_type": "stream",
     "text": [
      "[EarlyStopping] (Patience) 14/25, Best: 0.44544, Current: 0.45115, Delta: 0.00572\n",
      "epoch 29, loss: 0.42971, accuracy: 0.80507, val_loss: 0.45115, val_accuracy: 0.78427 \n",
      "\n"
     ]
    },
    {
     "name": "stderr",
     "output_type": "stream",
     "text": [
      "100%|███████████████████████████████████████████████████████████████████████████| 1024/1024 [09:11<00:00,  1.86it/s]\n"
     ]
    },
    {
     "name": "stdout",
     "output_type": "stream",
     "text": [
      "[EarlyStopping] (Patience) 15/25, Best: 0.44544, Current: 0.45415, Delta: 0.00872\n",
      "epoch 30, loss: 0.43019, accuracy: 0.80434, val_loss: 0.45415, val_accuracy: 0.78268 \n",
      "\n"
     ]
    },
    {
     "name": "stderr",
     "output_type": "stream",
     "text": [
      "100%|███████████████████████████████████████████████████████████████████████████| 1024/1024 [09:10<00:00,  1.86it/s]\n"
     ]
    },
    {
     "name": "stdout",
     "output_type": "stream",
     "text": [
      "[EarlyStopping] (Patience) 16/25, Best: 0.44544, Current: 0.45234, Delta: 0.00690\n",
      "epoch 31, loss: 0.42804, accuracy: 0.80556, val_loss: 0.45234, val_accuracy: 0.78564 \n",
      "\n"
     ]
    },
    {
     "name": "stderr",
     "output_type": "stream",
     "text": [
      "100%|███████████████████████████████████████████████████████████████████████████| 1024/1024 [09:11<00:00,  1.86it/s]\n"
     ]
    },
    {
     "name": "stdout",
     "output_type": "stream",
     "text": [
      "[EarlyStopping] (Patience) 17/25, Best: 0.44544, Current: 0.45970, Delta: 0.01426\n",
      "epoch 32, loss: 0.42882, accuracy: 0.80544, val_loss: 0.45970, val_accuracy: 0.78476 \n",
      "\n"
     ]
    },
    {
     "name": "stderr",
     "output_type": "stream",
     "text": [
      "100%|███████████████████████████████████████████████████████████████████████████| 1024/1024 [09:11<00:00,  1.86it/s]\n"
     ]
    },
    {
     "name": "stdout",
     "output_type": "stream",
     "text": [
      "[EarlyStopping] (Patience) 18/25, Best: 0.44544, Current: 0.45420, Delta: 0.00876\n",
      "epoch 33, loss: 0.42807, accuracy: 0.80558, val_loss: 0.45420, val_accuracy: 0.78546 \n",
      "\n"
     ]
    },
    {
     "name": "stderr",
     "output_type": "stream",
     "text": [
      "100%|███████████████████████████████████████████████████████████████████████████| 1024/1024 [09:15<00:00,  1.84it/s]\n"
     ]
    },
    {
     "name": "stdout",
     "output_type": "stream",
     "text": [
      "[EarlyStopping] (Patience) 19/25, Best: 0.44544, Current: 0.44643, Delta: 0.00099\n",
      "epoch 34, loss: 0.42759, accuracy: 0.80658, val_loss: 0.44643, val_accuracy: 0.78464 \n",
      "\n"
     ]
    },
    {
     "name": "stderr",
     "output_type": "stream",
     "text": [
      "100%|███████████████████████████████████████████████████████████████████████████| 1024/1024 [09:33<00:00,  1.78it/s]\n"
     ]
    },
    {
     "name": "stdout",
     "output_type": "stream",
     "text": [
      "[EarlyStopping] (Update) Best Score: 0.44232\n",
      "[INFO] val_loss has been improved from 0.44544 to 0.44232. Save model.\n",
      "epoch 35, loss: 0.42842, accuracy: 0.80582, val_loss: 0.44232, val_accuracy: 0.78973 \n",
      "\n"
     ]
    },
    {
     "name": "stderr",
     "output_type": "stream",
     "text": [
      "100%|███████████████████████████████████████████████████████████████████████████| 1024/1024 [09:13<00:00,  1.85it/s]\n"
     ]
    },
    {
     "name": "stdout",
     "output_type": "stream",
     "text": [
      "[EarlyStopping] (Patience) 1/25, Best: 0.44232, Current: 0.44613, Delta: 0.00381\n",
      "epoch 36, loss: 0.42753, accuracy: 0.80602, val_loss: 0.44613, val_accuracy: 0.78668 \n",
      "\n"
     ]
    },
    {
     "name": "stderr",
     "output_type": "stream",
     "text": [
      "100%|███████████████████████████████████████████████████████████████████████████| 1024/1024 [09:21<00:00,  1.82it/s]\n"
     ]
    },
    {
     "name": "stdout",
     "output_type": "stream",
     "text": [
      "[EarlyStopping] (Patience) 2/25, Best: 0.44232, Current: 0.46532, Delta: 0.02300\n",
      "epoch 37, loss: 0.42780, accuracy: 0.80587, val_loss: 0.46532, val_accuracy: 0.78128 \n",
      "\n"
     ]
    },
    {
     "name": "stderr",
     "output_type": "stream",
     "text": [
      "100%|███████████████████████████████████████████████████████████████████████████| 1024/1024 [09:12<00:00,  1.85it/s]\n"
     ]
    },
    {
     "name": "stdout",
     "output_type": "stream",
     "text": [
      "[EarlyStopping] (Patience) 3/25, Best: 0.44232, Current: 0.45288, Delta: 0.01056\n",
      "epoch 38, loss: 0.42860, accuracy: 0.80605, val_loss: 0.45288, val_accuracy: 0.78705 \n",
      "\n"
     ]
    },
    {
     "name": "stderr",
     "output_type": "stream",
     "text": [
      "100%|███████████████████████████████████████████████████████████████████████████| 1024/1024 [09:13<00:00,  1.85it/s]\n"
     ]
    },
    {
     "name": "stdout",
     "output_type": "stream",
     "text": [
      "[EarlyStopping] (Patience) 4/25, Best: 0.44232, Current: 0.45195, Delta: 0.00962\n",
      "epoch 39, loss: 0.42773, accuracy: 0.80637, val_loss: 0.45195, val_accuracy: 0.78510 \n",
      "\n"
     ]
    },
    {
     "name": "stderr",
     "output_type": "stream",
     "text": [
      "100%|███████████████████████████████████████████████████████████████████████████| 1024/1024 [09:12<00:00,  1.85it/s]\n"
     ]
    },
    {
     "name": "stdout",
     "output_type": "stream",
     "text": [
      "[EarlyStopping] (Patience) 5/25, Best: 0.44232, Current: 0.45537, Delta: 0.01305\n",
      "epoch 40, loss: 0.42916, accuracy: 0.80516, val_loss: 0.45537, val_accuracy: 0.78583 \n",
      "\n"
     ]
    },
    {
     "name": "stderr",
     "output_type": "stream",
     "text": [
      "100%|███████████████████████████████████████████████████████████████████████████| 1024/1024 [09:13<00:00,  1.85it/s]\n"
     ]
    },
    {
     "name": "stdout",
     "output_type": "stream",
     "text": [
      "[EarlyStopping] (Patience) 6/25, Best: 0.44232, Current: 0.45027, Delta: 0.00795\n",
      "epoch 41, loss: 0.42734, accuracy: 0.80625, val_loss: 0.45027, val_accuracy: 0.78436 \n",
      "\n"
     ]
    },
    {
     "name": "stderr",
     "output_type": "stream",
     "text": [
      "100%|███████████████████████████████████████████████████████████████████████████| 1024/1024 [09:10<00:00,  1.86it/s]\n"
     ]
    },
    {
     "name": "stdout",
     "output_type": "stream",
     "text": [
      "[EarlyStopping] (Patience) 7/25, Best: 0.44232, Current: 0.44954, Delta: 0.00722\n",
      "epoch 42, loss: 0.42830, accuracy: 0.80584, val_loss: 0.44954, val_accuracy: 0.78629 \n",
      "\n"
     ]
    },
    {
     "name": "stderr",
     "output_type": "stream",
     "text": [
      "100%|███████████████████████████████████████████████████████████████████████████| 1024/1024 [09:10<00:00,  1.86it/s]\n"
     ]
    },
    {
     "name": "stdout",
     "output_type": "stream",
     "text": [
      "[EarlyStopping] (Patience) 8/25, Best: 0.44232, Current: 0.45263, Delta: 0.01031\n",
      "epoch 43, loss: 0.42723, accuracy: 0.80560, val_loss: 0.45263, val_accuracy: 0.78119 \n",
      "\n"
     ]
    },
    {
     "name": "stderr",
     "output_type": "stream",
     "text": [
      "100%|███████████████████████████████████████████████████████████████████████████| 1024/1024 [09:12<00:00,  1.85it/s]\n"
     ]
    },
    {
     "name": "stdout",
     "output_type": "stream",
     "text": [
      "[EarlyStopping] (Patience) 9/25, Best: 0.44232, Current: 0.44984, Delta: 0.00752\n",
      "epoch 44, loss: 0.42640, accuracy: 0.80735, val_loss: 0.44984, val_accuracy: 0.78433 \n",
      "\n"
     ]
    },
    {
     "name": "stderr",
     "output_type": "stream",
     "text": [
      "100%|███████████████████████████████████████████████████████████████████████████| 1024/1024 [09:11<00:00,  1.86it/s]\n"
     ]
    },
    {
     "name": "stdout",
     "output_type": "stream",
     "text": [
      "[EarlyStopping] (Patience) 10/25, Best: 0.44232, Current: 0.45575, Delta: 0.01343\n",
      "epoch 45, loss: 0.42719, accuracy: 0.80609, val_loss: 0.45575, val_accuracy: 0.78159 \n",
      "\n"
     ]
    },
    {
     "name": "stderr",
     "output_type": "stream",
     "text": [
      "100%|███████████████████████████████████████████████████████████████████████████| 1024/1024 [09:11<00:00,  1.86it/s]\n"
     ]
    },
    {
     "name": "stdout",
     "output_type": "stream",
     "text": [
      "[EarlyStopping] (Patience) 11/25, Best: 0.44232, Current: 0.44634, Delta: 0.00402\n",
      "epoch 46, loss: 0.42624, accuracy: 0.80716, val_loss: 0.44634, val_accuracy: 0.78635 \n",
      "\n"
     ]
    },
    {
     "name": "stderr",
     "output_type": "stream",
     "text": [
      "100%|███████████████████████████████████████████████████████████████████████████| 1024/1024 [09:14<00:00,  1.85it/s]\n"
     ]
    },
    {
     "name": "stdout",
     "output_type": "stream",
     "text": [
      "[EarlyStopping] (Patience) 12/25, Best: 0.44232, Current: 0.45607, Delta: 0.01374\n",
      "epoch 47, loss: 0.42620, accuracy: 0.80745, val_loss: 0.45607, val_accuracy: 0.78534 \n",
      "\n"
     ]
    },
    {
     "name": "stderr",
     "output_type": "stream",
     "text": [
      "100%|███████████████████████████████████████████████████████████████████████████| 1024/1024 [09:14<00:00,  1.85it/s]\n"
     ]
    },
    {
     "name": "stdout",
     "output_type": "stream",
     "text": [
      "[EarlyStopping] (Patience) 13/25, Best: 0.44232, Current: 0.46222, Delta: 0.01990\n",
      "epoch 48, loss: 0.42784, accuracy: 0.80648, val_loss: 0.46222, val_accuracy: 0.77985 \n",
      "\n"
     ]
    },
    {
     "name": "stderr",
     "output_type": "stream",
     "text": [
      "100%|███████████████████████████████████████████████████████████████████████████| 1024/1024 [09:12<00:00,  1.85it/s]\n"
     ]
    },
    {
     "name": "stdout",
     "output_type": "stream",
     "text": [
      "[EarlyStopping] (Patience) 14/25, Best: 0.44232, Current: 0.46223, Delta: 0.01990\n",
      "epoch 49, loss: 0.42728, accuracy: 0.80716, val_loss: 0.46223, val_accuracy: 0.77866 \n",
      "\n"
     ]
    },
    {
     "name": "stderr",
     "output_type": "stream",
     "text": [
      "100%|███████████████████████████████████████████████████████████████████████████| 1024/1024 [09:14<00:00,  1.85it/s]\n"
     ]
    },
    {
     "name": "stdout",
     "output_type": "stream",
     "text": [
      "[EarlyStopping] (Patience) 15/25, Best: 0.44232, Current: 0.46365, Delta: 0.02133\n",
      "epoch 50, loss: 0.42638, accuracy: 0.80740, val_loss: 0.46365, val_accuracy: 0.77884 \n",
      "\n"
     ]
    }
   ],
   "source": [
    "for epoch in range(EPOCHS):\n",
    "    train_loss, train_acc = train.model_train(model=model, \n",
    "                                              data_loader=train_loader, \n",
    "                                              criterion=criterion, \n",
    "                                              optimizer=optimizer, \n",
    "                                              device=device, \n",
    "                                              scheduler=scheduler, \n",
    "                                              tqdm_disable=False)\n",
    "    val_loss, val_acc = train.model_evaluate(model=model, \n",
    "                                             data_loader=val_loader, \n",
    "                                             criterion=criterion, \n",
    "                                             device=device)\n",
    "    \n",
    "    history['train_loss'].append(train_loss)\n",
    "    history['train_accuracy'].append(train_acc)\n",
    "    history['val_loss'].append(val_loss)\n",
    "    history['val_accuracy'].append(val_acc)\n",
    "    \n",
    "    es(val_loss)\n",
    "    # Early Stop Check\n",
    "    if es.early_stop:\n",
    "        break\n",
    "\n",
    "    if val_loss < max_loss:\n",
    "        print(f'[INFO] val_loss has been improved from {max_loss:.5f} to {val_loss:.5f}. Save model.')\n",
    "        max_loss = val_loss\n",
    "        torch.save(model.state_dict(), 'Best_Model_VGG_3.pth')\n",
    "    \n",
    "    print(f'epoch {epoch+1:02d}, loss: {train_loss:.5f}, accuracy: {train_acc:.5f}, val_loss: {val_loss:.5f}, val_accuracy: {val_acc:.5f} \\n')"
   ]
  },
  {
   "cell_type": "code",
   "execution_count": 26,
   "metadata": {},
   "outputs": [
    {
     "data": {
      "image/png": "[encoded data removed]",
      "text/plain": [
       "<Figure size 640x480 with 1 Axes>"
      ]
     },
     "metadata": {},
     "output_type": "display_data"
    }
   ],
   "source": [
    "train.plot_acc(history=history)"
   ]
  },
  {
   "cell_type": "code",
   "execution_count": 27,
   "metadata": {},
   "outputs": [
    {
     "data": {
      "image/png": "[encoded data removed]",
      "text/plain": [
       "<Figure size 640x480 with 1 Axes>"
      ]
     },
     "metadata": {},
     "output_type": "display_data"
    }
   ],
   "source": [
    "train.plot_loss(history=history)"
   ]
  },
  {
   "cell_type": "code",
   "execution_count": 28,
   "metadata": {},
   "outputs": [
    {
     "name": "stdout",
     "output_type": "stream",
     "text": [
      "Test Loss: 0.4493719134479761\n",
      "Test Accuracy: 0.797760009765625\n"
     ]
    }
   ],
   "source": [
    "backbone = VGG16.VGG16_Backbone(pretrain=False).to(device=device)\n",
    "model = basic_classifier.BasicClassifier(backbone=backbone, \n",
    "                                         freezing=True, \n",
    "                                         num_classes=1).to(device=device)\n",
    "\n",
    "model.load_state_dict(torch.load('Best_Model_VGG_3.pth', map_location=device))\n",
    "model.eval()\n",
    "\n",
    "test_loss, test_acc = train.model_evaluate(model=model,\n",
    "                                           data_loader=test_loader,\n",
    "                                           criterion=criterion,\n",
    "                                           device=device)\n",
    "\n",
    "print('Test Loss: %s'%test_loss)\n",
    "print('Test Accuracy: %s'%test_acc)"
   ]
  },
  {
   "cell_type": "markdown",
   "metadata": {},
   "source": [
    "# ResNet"
   ]
  },
  {
   "cell_type": "markdown",
   "metadata": {},
   "source": [
    "## SimCLR"
   ]
  },
  {
   "cell_type": "code",
   "execution_count": 3,
   "metadata": {},
   "outputs": [],
   "source": [
    "path = './data'\n",
    "\n",
    "dataset_simclr = data_aug.ContrastiveLearningDataset(path=path, input_shape=96)\n",
    "\n",
    "batch_size = 256\n",
    "\n",
    "train_set = dataset_simclr.get_dataset()\n",
    "train_loader = torch.utils.data.DataLoader(train_set, \n",
    "                                           batch_size=batch_size, \n",
    "                                           shuffle=True, \n",
    "                                           num_workers=0,\n",
    "                                           pin_memory=True, \n",
    "                                           drop_last=True)"
   ]
  },
  {
   "cell_type": "code",
   "execution_count": 4,
   "metadata": {},
   "outputs": [
    {
     "name": "stdout",
     "output_type": "stream",
     "text": [
      "BasicSimCLR(\n",
      "  (backbone): Sequential(\n",
      "    (0): Conv2d(3, 64, kernel_size=(7, 7), stride=(2, 2), padding=(3, 3), bias=False)\n",
      "    (1): BatchNorm2d(64, eps=1e-05, momentum=0.1, affine=True, track_running_stats=True)\n",
      "    (2): ReLU(inplace=True)\n",
      "    (3): MaxPool2d(kernel_size=3, stride=2, padding=1, dilation=1, ceil_mode=False)\n",
      "    (4): Sequential(\n",
      "      (0): BasicBlock(\n",
      "        (conv1): Conv2d(64, 64, kernel_size=(3, 3), stride=(1, 1), padding=(1, 1), bias=False)\n",
      "        (bn1): BatchNorm2d(64, eps=1e-05, momentum=0.1, affine=True, track_running_stats=True)\n",
      "        (relu): ReLU(inplace=True)\n",
      "        (conv2): Conv2d(64, 64, kernel_size=(3, 3), stride=(1, 1), padding=(1, 1), bias=False)\n",
      "        (bn2): BatchNorm2d(64, eps=1e-05, momentum=0.1, affine=True, track_running_stats=True)\n",
      "      )\n",
      "      (1): BasicBlock(\n",
      "        (conv1): Conv2d(64, 64, kernel_size=(3, 3), stride=(1, 1), padding=(1, 1), bias=False)\n",
      "        (bn1): BatchNorm2d(64, eps=1e-05, momentum=0.1, affine=True, track_running_stats=True)\n",
      "        (relu): ReLU(inplace=True)\n",
      "        (conv2): Conv2d(64, 64, kernel_size=(3, 3), stride=(1, 1), padding=(1, 1), bias=False)\n",
      "        (bn2): BatchNorm2d(64, eps=1e-05, momentum=0.1, affine=True, track_running_stats=True)\n",
      "      )\n",
      "      (2): BasicBlock(\n",
      "        (conv1): Conv2d(64, 64, kernel_size=(3, 3), stride=(1, 1), padding=(1, 1), bias=False)\n",
      "        (bn1): BatchNorm2d(64, eps=1e-05, momentum=0.1, affine=True, track_running_stats=True)\n",
      "        (relu): ReLU(inplace=True)\n",
      "        (conv2): Conv2d(64, 64, kernel_size=(3, 3), stride=(1, 1), padding=(1, 1), bias=False)\n",
      "        (bn2): BatchNorm2d(64, eps=1e-05, momentum=0.1, affine=True, track_running_stats=True)\n",
      "      )\n",
      "    )\n",
      "    (5): Sequential(\n",
      "      (0): BasicBlock(\n",
      "        (conv1): Conv2d(64, 128, kernel_size=(3, 3), stride=(2, 2), padding=(1, 1), bias=False)\n",
      "        (bn1): BatchNorm2d(128, eps=1e-05, momentum=0.1, affine=True, track_running_stats=True)\n",
      "        (relu): ReLU(inplace=True)\n",
      "        (conv2): Conv2d(128, 128, kernel_size=(3, 3), stride=(1, 1), padding=(1, 1), bias=False)\n",
      "        (bn2): BatchNorm2d(128, eps=1e-05, momentum=0.1, affine=True, track_running_stats=True)\n",
      "        (downsample): Sequential(\n",
      "          (0): Conv2d(64, 128, kernel_size=(1, 1), stride=(2, 2), bias=False)\n",
      "          (1): BatchNorm2d(128, eps=1e-05, momentum=0.1, affine=True, track_running_stats=True)\n",
      "        )\n",
      "      )\n",
      "      (1): BasicBlock(\n",
      "        (conv1): Conv2d(128, 128, kernel_size=(3, 3), stride=(1, 1), padding=(1, 1), bias=False)\n",
      "        (bn1): BatchNorm2d(128, eps=1e-05, momentum=0.1, affine=True, track_running_stats=True)\n",
      "        (relu): ReLU(inplace=True)\n",
      "        (conv2): Conv2d(128, 128, kernel_size=(3, 3), stride=(1, 1), padding=(1, 1), bias=False)\n",
      "        (bn2): BatchNorm2d(128, eps=1e-05, momentum=0.1, affine=True, track_running_stats=True)\n",
      "      )\n",
      "      (2): BasicBlock(\n",
      "        (conv1): Conv2d(128, 128, kernel_size=(3, 3), stride=(1, 1), padding=(1, 1), bias=False)\n",
      "        (bn1): BatchNorm2d(128, eps=1e-05, momentum=0.1, affine=True, track_running_stats=True)\n",
      "        (relu): ReLU(inplace=True)\n",
      "        (conv2): Conv2d(128, 128, kernel_size=(3, 3), stride=(1, 1), padding=(1, 1), bias=False)\n",
      "        (bn2): BatchNorm2d(128, eps=1e-05, momentum=0.1, affine=True, track_running_stats=True)\n",
      "      )\n",
      "      (3): BasicBlock(\n",
      "        (conv1): Conv2d(128, 128, kernel_size=(3, 3), stride=(1, 1), padding=(1, 1), bias=False)\n",
      "        (bn1): BatchNorm2d(128, eps=1e-05, momentum=0.1, affine=True, track_running_stats=True)\n",
      "        (relu): ReLU(inplace=True)\n",
      "        (conv2): Conv2d(128, 128, kernel_size=(3, 3), stride=(1, 1), padding=(1, 1), bias=False)\n",
      "        (bn2): BatchNorm2d(128, eps=1e-05, momentum=0.1, affine=True, track_running_stats=True)\n",
      "      )\n",
      "    )\n",
      "    (6): Sequential(\n",
      "      (0): BasicBlock(\n",
      "        (conv1): Conv2d(128, 256, kernel_size=(3, 3), stride=(2, 2), padding=(1, 1), bias=False)\n",
      "        (bn1): BatchNorm2d(256, eps=1e-05, momentum=0.1, affine=True, track_running_stats=True)\n",
      "        (relu): ReLU(inplace=True)\n",
      "        (conv2): Conv2d(256, 256, kernel_size=(3, 3), stride=(1, 1), padding=(1, 1), bias=False)\n",
      "        (bn2): BatchNorm2d(256, eps=1e-05, momentum=0.1, affine=True, track_running_stats=True)\n",
      "        (downsample): Sequential(\n",
      "          (0): Conv2d(128, 256, kernel_size=(1, 1), stride=(2, 2), bias=False)\n",
      "          (1): BatchNorm2d(256, eps=1e-05, momentum=0.1, affine=True, track_running_stats=True)\n",
      "        )\n",
      "      )\n",
      "      (1): BasicBlock(\n",
      "        (conv1): Conv2d(256, 256, kernel_size=(3, 3), stride=(1, 1), padding=(1, 1), bias=False)\n",
      "        (bn1): BatchNorm2d(256, eps=1e-05, momentum=0.1, affine=True, track_running_stats=True)\n",
      "        (relu): ReLU(inplace=True)\n",
      "        (conv2): Conv2d(256, 256, kernel_size=(3, 3), stride=(1, 1), padding=(1, 1), bias=False)\n",
      "        (bn2): BatchNorm2d(256, eps=1e-05, momentum=0.1, affine=True, track_running_stats=True)\n",
      "      )\n",
      "      (2): BasicBlock(\n",
      "        (conv1): Conv2d(256, 256, kernel_size=(3, 3), stride=(1, 1), padding=(1, 1), bias=False)\n",
      "        (bn1): BatchNorm2d(256, eps=1e-05, momentum=0.1, affine=True, track_running_stats=True)\n",
      "        (relu): ReLU(inplace=True)\n",
      "        (conv2): Conv2d(256, 256, kernel_size=(3, 3), stride=(1, 1), padding=(1, 1), bias=False)\n",
      "        (bn2): BatchNorm2d(256, eps=1e-05, momentum=0.1, affine=True, track_running_stats=True)\n",
      "      )\n",
      "      (3): BasicBlock(\n",
      "        (conv1): Conv2d(256, 256, kernel_size=(3, 3), stride=(1, 1), padding=(1, 1), bias=False)\n",
      "        (bn1): BatchNorm2d(256, eps=1e-05, momentum=0.1, affine=True, track_running_stats=True)\n",
      "        (relu): ReLU(inplace=True)\n",
      "        (conv2): Conv2d(256, 256, kernel_size=(3, 3), stride=(1, 1), padding=(1, 1), bias=False)\n",
      "        (bn2): BatchNorm2d(256, eps=1e-05, momentum=0.1, affine=True, track_running_stats=True)\n",
      "      )\n",
      "      (4): BasicBlock(\n",
      "        (conv1): Conv2d(256, 256, kernel_size=(3, 3), stride=(1, 1), padding=(1, 1), bias=False)\n",
      "        (bn1): BatchNorm2d(256, eps=1e-05, momentum=0.1, affine=True, track_running_stats=True)\n",
      "        (relu): ReLU(inplace=True)\n",
      "        (conv2): Conv2d(256, 256, kernel_size=(3, 3), stride=(1, 1), padding=(1, 1), bias=False)\n",
      "        (bn2): BatchNorm2d(256, eps=1e-05, momentum=0.1, affine=True, track_running_stats=True)\n",
      "      )\n",
      "      (5): BasicBlock(\n",
      "        (conv1): Conv2d(256, 256, kernel_size=(3, 3), stride=(1, 1), padding=(1, 1), bias=False)\n",
      "        (bn1): BatchNorm2d(256, eps=1e-05, momentum=0.1, affine=True, track_running_stats=True)\n",
      "        (relu): ReLU(inplace=True)\n",
      "        (conv2): Conv2d(256, 256, kernel_size=(3, 3), stride=(1, 1), padding=(1, 1), bias=False)\n",
      "        (bn2): BatchNorm2d(256, eps=1e-05, momentum=0.1, affine=True, track_running_stats=True)\n",
      "      )\n",
      "    )\n",
      "    (7): Sequential(\n",
      "      (0): BasicBlock(\n",
      "        (conv1): Conv2d(256, 512, kernel_size=(3, 3), stride=(2, 2), padding=(1, 1), bias=False)\n",
      "        (bn1): BatchNorm2d(512, eps=1e-05, momentum=0.1, affine=True, track_running_stats=True)\n",
      "        (relu): ReLU(inplace=True)\n",
      "        (conv2): Conv2d(512, 512, kernel_size=(3, 3), stride=(1, 1), padding=(1, 1), bias=False)\n",
      "        (bn2): BatchNorm2d(512, eps=1e-05, momentum=0.1, affine=True, track_running_stats=True)\n",
      "        (downsample): Sequential(\n",
      "          (0): Conv2d(256, 512, kernel_size=(1, 1), stride=(2, 2), bias=False)\n",
      "          (1): BatchNorm2d(512, eps=1e-05, momentum=0.1, affine=True, track_running_stats=True)\n",
      "        )\n",
      "      )\n",
      "      (1): BasicBlock(\n",
      "        (conv1): Conv2d(512, 512, kernel_size=(3, 3), stride=(1, 1), padding=(1, 1), bias=False)\n",
      "        (bn1): BatchNorm2d(512, eps=1e-05, momentum=0.1, affine=True, track_running_stats=True)\n",
      "        (relu): ReLU(inplace=True)\n",
      "        (conv2): Conv2d(512, 512, kernel_size=(3, 3), stride=(1, 1), padding=(1, 1), bias=False)\n",
      "        (bn2): BatchNorm2d(512, eps=1e-05, momentum=0.1, affine=True, track_running_stats=True)\n",
      "      )\n",
      "      (2): BasicBlock(\n",
      "        (conv1): Conv2d(512, 512, kernel_size=(3, 3), stride=(1, 1), padding=(1, 1), bias=False)\n",
      "        (bn1): BatchNorm2d(512, eps=1e-05, momentum=0.1, affine=True, track_running_stats=True)\n",
      "        (relu): ReLU(inplace=True)\n",
      "        (conv2): Conv2d(512, 512, kernel_size=(3, 3), stride=(1, 1), padding=(1, 1), bias=False)\n",
      "        (bn2): BatchNorm2d(512, eps=1e-05, momentum=0.1, affine=True, track_running_stats=True)\n",
      "      )\n",
      "    )\n",
      "  )\n",
      "  (avg): AdaptiveAvgPool2d(output_size=(1, 1))\n",
      "  (fc): Sequential(\n",
      "    (0): Flatten(start_dim=1, end_dim=-1)\n",
      "    (1): Linear(in_features=512, out_features=512, bias=True)\n",
      "    (2): ReLU()\n",
      "    (3): Linear(in_features=512, out_features=64, bias=True)\n",
      "  )\n",
      ")\n"
     ]
    }
   ],
   "source": [
    "backbone = ResNet34.ResNet34_Backbone(pretrain=False).to(device=device)\n",
    "model = basic_simclr.BasicSimCLR(backbone, num_classes=64).to(device=device)\n",
    "\n",
    "print(model)"
   ]
  },
  {
   "cell_type": "code",
   "execution_count": 5,
   "metadata": {},
   "outputs": [],
   "source": [
    "# default hyperparameters\n",
    "lr = 3e-4\n",
    "weight_decay = 1e-3\n",
    "\n",
    "optimizer = torch.optim.Adam(model.parameters(), lr=lr, weight_decay=weight_decay)\n",
    "scheduler = torch.optim.lr_scheduler.CosineAnnealingLR(optimizer, \n",
    "                                                       T_max=len(train_loader), \n",
    "                                                       eta_min=0,\n",
    "                                                       last_epoch=-1)"
   ]
  },
  {
   "cell_type": "code",
   "execution_count": 6,
   "metadata": {},
   "outputs": [],
   "source": [
    "simclr = simclr_train.SimCLR(model=model,\n",
    "                             model_name='ResNet34',\n",
    "                             scheduler=scheduler,\n",
    "                             optimizer=optimizer,\n",
    "                             device=device,\n",
    "                             epochs=100)"
   ]
  },
  {
   "cell_type": "code",
   "execution_count": 7,
   "metadata": {},
   "outputs": [
    {
     "name": "stderr",
     "output_type": "stream",
     "text": [
      "100%|███████████████████████████████████████████████████████████████████████████| 1024/1024 [27:03<00:00,  1.59s/it]\n",
      "100%|███████████████████████████████████████████████████████████████████████████| 1024/1024 [26:56<00:00,  1.58s/it]\n",
      "100%|███████████████████████████████████████████████████████████████████████████| 1024/1024 [26:59<00:00,  1.58s/it]\n",
      "100%|███████████████████████████████████████████████████████████████████████████| 1024/1024 [26:55<00:00,  1.58s/it]\n",
      "100%|███████████████████████████████████████████████████████████████████████████| 1024/1024 [26:58<00:00,  1.58s/it]\n",
      "100%|███████████████████████████████████████████████████████████████████████████| 1024/1024 [26:57<00:00,  1.58s/it]\n",
      "100%|███████████████████████████████████████████████████████████████████████████| 1024/1024 [26:58<00:00,  1.58s/it]\n",
      "100%|███████████████████████████████████████████████████████████████████████████| 1024/1024 [27:01<00:00,  1.58s/it]\n",
      "100%|███████████████████████████████████████████████████████████████████████████| 1024/1024 [26:59<00:00,  1.58s/it]\n",
      "100%|███████████████████████████████████████████████████████████████████████████| 1024/1024 [27:00<00:00,  1.58s/it]\n",
      "100%|███████████████████████████████████████████████████████████████████████████| 1024/1024 [26:56<00:00,  1.58s/it]\n",
      "100%|███████████████████████████████████████████████████████████████████████████| 1024/1024 [26:57<00:00,  1.58s/it]\n",
      "100%|███████████████████████████████████████████████████████████████████████████| 1024/1024 [26:56<00:00,  1.58s/it]\n",
      "100%|███████████████████████████████████████████████████████████████████████████| 1024/1024 [26:56<00:00,  1.58s/it]\n",
      "100%|███████████████████████████████████████████████████████████████████████████| 1024/1024 [26:58<00:00,  1.58s/it]\n",
      "100%|███████████████████████████████████████████████████████████████████████████| 1024/1024 [27:00<00:00,  1.58s/it]\n",
      "100%|███████████████████████████████████████████████████████████████████████████| 1024/1024 [26:57<00:00,  1.58s/it]\n",
      "100%|███████████████████████████████████████████████████████████████████████████| 1024/1024 [26:59<00:00,  1.58s/it]\n",
      "100%|███████████████████████████████████████████████████████████████████████████| 1024/1024 [26:59<00:00,  1.58s/it]\n",
      "100%|███████████████████████████████████████████████████████████████████████████| 1024/1024 [26:58<00:00,  1.58s/it]\n",
      "100%|███████████████████████████████████████████████████████████████████████████| 1024/1024 [26:56<00:00,  1.58s/it]\n",
      "100%|███████████████████████████████████████████████████████████████████████████| 1024/1024 [26:56<00:00,  1.58s/it]\n",
      "100%|███████████████████████████████████████████████████████████████████████████| 1024/1024 [26:59<00:00,  1.58s/it]\n",
      "100%|███████████████████████████████████████████████████████████████████████████| 1024/1024 [26:57<00:00,  1.58s/it]\n",
      "100%|███████████████████████████████████████████████████████████████████████████| 1024/1024 [26:58<00:00,  1.58s/it]\n",
      "100%|███████████████████████████████████████████████████████████████████████████| 1024/1024 [26:57<00:00,  1.58s/it]\n",
      "100%|███████████████████████████████████████████████████████████████████████████| 1024/1024 [26:57<00:00,  1.58s/it]\n",
      "100%|███████████████████████████████████████████████████████████████████████████| 1024/1024 [27:00<00:00,  1.58s/it]\n",
      "100%|███████████████████████████████████████████████████████████████████████████| 1024/1024 [26:58<00:00,  1.58s/it]\n",
      "100%|███████████████████████████████████████████████████████████████████████████| 1024/1024 [26:55<00:00,  1.58s/it]\n",
      "100%|███████████████████████████████████████████████████████████████████████████| 1024/1024 [26:58<00:00,  1.58s/it]\n",
      "100%|███████████████████████████████████████████████████████████████████████████| 1024/1024 [26:59<00:00,  1.58s/it]\n",
      "100%|███████████████████████████████████████████████████████████████████████████| 1024/1024 [26:57<00:00,  1.58s/it]\n",
      "100%|███████████████████████████████████████████████████████████████████████████| 1024/1024 [26:56<00:00,  1.58s/it]\n",
      "100%|███████████████████████████████████████████████████████████████████████████| 1024/1024 [26:57<00:00,  1.58s/it]\n",
      "100%|███████████████████████████████████████████████████████████████████████████| 1024/1024 [26:58<00:00,  1.58s/it]\n",
      "100%|███████████████████████████████████████████████████████████████████████████| 1024/1024 [26:58<00:00,  1.58s/it]\n",
      "100%|███████████████████████████████████████████████████████████████████████████| 1024/1024 [27:00<00:00,  1.58s/it]\n",
      "100%|███████████████████████████████████████████████████████████████████████████| 1024/1024 [26:55<00:00,  1.58s/it]\n",
      "100%|███████████████████████████████████████████████████████████████████████████| 1024/1024 [26:58<00:00,  1.58s/it]\n",
      "100%|███████████████████████████████████████████████████████████████████████████| 1024/1024 [26:57<00:00,  1.58s/it]\n",
      "100%|███████████████████████████████████████████████████████████████████████████| 1024/1024 [26:57<00:00,  1.58s/it]\n",
      "100%|███████████████████████████████████████████████████████████████████████████| 1024/1024 [26:56<00:00,  1.58s/it]\n",
      "100%|███████████████████████████████████████████████████████████████████████████| 1024/1024 [26:58<00:00,  1.58s/it]\n",
      "100%|███████████████████████████████████████████████████████████████████████████| 1024/1024 [26:58<00:00,  1.58s/it]\n",
      "100%|███████████████████████████████████████████████████████████████████████████| 1024/1024 [26:55<00:00,  1.58s/it]\n",
      "100%|███████████████████████████████████████████████████████████████████████████| 1024/1024 [26:57<00:00,  1.58s/it]\n",
      "100%|███████████████████████████████████████████████████████████████████████████| 1024/1024 [26:58<00:00,  1.58s/it]\n",
      "100%|███████████████████████████████████████████████████████████████████████████| 1024/1024 [26:56<00:00,  1.58s/it]\n",
      "100%|███████████████████████████████████████████████████████████████████████████| 1024/1024 [26:55<00:00,  1.58s/it]\n",
      "100%|███████████████████████████████████████████████████████████████████████████| 1024/1024 [26:57<00:00,  1.58s/it]\n",
      "100%|███████████████████████████████████████████████████████████████████████████| 1024/1024 [26:55<00:00,  1.58s/it]\n",
      "100%|███████████████████████████████████████████████████████████████████████████| 1024/1024 [26:58<00:00,  1.58s/it]\n",
      "100%|███████████████████████████████████████████████████████████████████████████| 1024/1024 [26:55<00:00,  1.58s/it]\n",
      "100%|███████████████████████████████████████████████████████████████████████████| 1024/1024 [26:58<00:00,  1.58s/it]\n",
      "100%|███████████████████████████████████████████████████████████████████████████| 1024/1024 [26:55<00:00,  1.58s/it]\n",
      "100%|███████████████████████████████████████████████████████████████████████████| 1024/1024 [26:56<00:00,  1.58s/it]\n",
      "100%|███████████████████████████████████████████████████████████████████████████| 1024/1024 [26:56<00:00,  1.58s/it]\n",
      "100%|███████████████████████████████████████████████████████████████████████████| 1024/1024 [26:55<00:00,  1.58s/it]\n",
      "100%|███████████████████████████████████████████████████████████████████████████| 1024/1024 [26:56<00:00,  1.58s/it]\n",
      "100%|███████████████████████████████████████████████████████████████████████████| 1024/1024 [26:55<00:00,  1.58s/it]\n",
      "100%|███████████████████████████████████████████████████████████████████████████| 1024/1024 [26:59<00:00,  1.58s/it]\n",
      "100%|███████████████████████████████████████████████████████████████████████████| 1024/1024 [26:57<00:00,  1.58s/it]\n",
      "100%|███████████████████████████████████████████████████████████████████████████| 1024/1024 [26:57<00:00,  1.58s/it]\n",
      "100%|███████████████████████████████████████████████████████████████████████████| 1024/1024 [27:00<00:00,  1.58s/it]\n",
      "100%|███████████████████████████████████████████████████████████████████████████| 1024/1024 [26:55<00:00,  1.58s/it]\n",
      "100%|███████████████████████████████████████████████████████████████████████████| 1024/1024 [27:00<00:00,  1.58s/it]\n",
      "100%|███████████████████████████████████████████████████████████████████████████| 1024/1024 [26:57<00:00,  1.58s/it]\n",
      "100%|███████████████████████████████████████████████████████████████████████████| 1024/1024 [26:57<00:00,  1.58s/it]\n",
      "100%|███████████████████████████████████████████████████████████████████████████| 1024/1024 [26:58<00:00,  1.58s/it]\n",
      "100%|███████████████████████████████████████████████████████████████████████████| 1024/1024 [26:56<00:00,  1.58s/it]\n",
      "100%|███████████████████████████████████████████████████████████████████████████| 1024/1024 [26:58<00:00,  1.58s/it]\n",
      "100%|███████████████████████████████████████████████████████████████████████████| 1024/1024 [26:56<00:00,  1.58s/it]\n",
      "100%|███████████████████████████████████████████████████████████████████████████| 1024/1024 [26:58<00:00,  1.58s/it]\n",
      "100%|███████████████████████████████████████████████████████████████████████████| 1024/1024 [26:58<00:00,  1.58s/it]\n",
      "100%|███████████████████████████████████████████████████████████████████████████| 1024/1024 [26:58<00:00,  1.58s/it]\n",
      "100%|███████████████████████████████████████████████████████████████████████████| 1024/1024 [26:57<00:00,  1.58s/it]\n",
      "100%|███████████████████████████████████████████████████████████████████████████| 1024/1024 [26:58<00:00,  1.58s/it]\n",
      "100%|███████████████████████████████████████████████████████████████████████████| 1024/1024 [26:57<00:00,  1.58s/it]\n",
      "100%|███████████████████████████████████████████████████████████████████████████| 1024/1024 [26:56<00:00,  1.58s/it]\n",
      "100%|███████████████████████████████████████████████████████████████████████████| 1024/1024 [26:57<00:00,  1.58s/it]\n",
      "100%|███████████████████████████████████████████████████████████████████████████| 1024/1024 [26:58<00:00,  1.58s/it]\n",
      "100%|███████████████████████████████████████████████████████████████████████████| 1024/1024 [27:02<00:00,  1.58s/it]\n",
      "100%|███████████████████████████████████████████████████████████████████████████| 1024/1024 [26:58<00:00,  1.58s/it]\n",
      "100%|███████████████████████████████████████████████████████████████████████████| 1024/1024 [26:57<00:00,  1.58s/it]\n",
      "100%|███████████████████████████████████████████████████████████████████████████| 1024/1024 [26:57<00:00,  1.58s/it]\n",
      "100%|███████████████████████████████████████████████████████████████████████████| 1024/1024 [26:59<00:00,  1.58s/it]\n",
      "100%|███████████████████████████████████████████████████████████████████████████| 1024/1024 [26:59<00:00,  1.58s/it]\n",
      "100%|███████████████████████████████████████████████████████████████████████████| 1024/1024 [26:58<00:00,  1.58s/it]\n",
      "100%|███████████████████████████████████████████████████████████████████████████| 1024/1024 [26:57<00:00,  1.58s/it]\n",
      "100%|███████████████████████████████████████████████████████████████████████████| 1024/1024 [26:57<00:00,  1.58s/it]\n",
      "100%|███████████████████████████████████████████████████████████████████████████| 1024/1024 [26:58<00:00,  1.58s/it]\n",
      "100%|███████████████████████████████████████████████████████████████████████████| 1024/1024 [26:57<00:00,  1.58s/it]\n",
      "100%|███████████████████████████████████████████████████████████████████████████| 1024/1024 [26:57<00:00,  1.58s/it]\n",
      "100%|███████████████████████████████████████████████████████████████████████████| 1024/1024 [26:56<00:00,  1.58s/it]\n",
      "100%|███████████████████████████████████████████████████████████████████████████| 1024/1024 [26:56<00:00,  1.58s/it]\n",
      "100%|███████████████████████████████████████████████████████████████████████████| 1024/1024 [26:57<00:00,  1.58s/it]\n",
      "100%|███████████████████████████████████████████████████████████████████████████| 1024/1024 [26:57<00:00,  1.58s/it]\n",
      "100%|███████████████████████████████████████████████████████████████████████████| 1024/1024 [26:56<00:00,  1.58s/it]\n",
      "100%|███████████████████████████████████████████████████████████████████████████| 1024/1024 [26:56<00:00,  1.58s/it]\n"
     ]
    }
   ],
   "source": [
    "simclr.train(train_loader=train_loader)"
   ]
  },
  {
   "cell_type": "markdown",
   "metadata": {},
   "source": [
    "## Model Train"
   ]
  },
  {
   "cell_type": "code",
   "execution_count": 29,
   "metadata": {},
   "outputs": [],
   "source": [
    "# (already downloaded) dataset path \n",
    "path = './data'\n",
    "\n",
    "train_loader, val_loader, test_loader = dataset.load_pcam(path=path, \n",
    "                                                          input_shape=96,\n",
    "                                                          augmentation=True,\n",
    "                                                          normalize=True,\n",
    "                                                          batch_size=256,\n",
    "                                                          seed=21)"
   ]
  },
  {
   "cell_type": "code",
   "execution_count": 30,
   "metadata": {},
   "outputs": [
    {
     "data": {
      "text/plain": [
       "<All keys matched successfully>"
      ]
     },
     "execution_count": 30,
     "metadata": {},
     "output_type": "execute_result"
    }
   ],
   "source": [
    "backbone = ResNet34.ResNet34_Backbone(pretrain=False).to(device=device)\n",
    "model_temp = basic_simclr.BasicSimCLR(backbone, num_classes=64).to(device=device)\n",
    "\n",
    "# path - ResNet \n",
    "log_dir = 'checkpoints/Mar28_13-19-07'\n",
    "file_path = 'checkpoint_0100.pth.tar'\n",
    "\n",
    "checkpoint_path = os.path.join(log_dir, file_path)\n",
    "checkpoint = torch.load(checkpoint_path, map_location=device)\n",
    "model_temp.load_state_dict(checkpoint['state_dict'])"
   ]
  },
  {
   "cell_type": "code",
   "execution_count": 31,
   "metadata": {},
   "outputs": [
    {
     "name": "stdout",
     "output_type": "stream",
     "text": [
      "BasicClassifier(\n",
      "  (backbone): Sequential(\n",
      "    (0): Conv2d(3, 64, kernel_size=(7, 7), stride=(2, 2), padding=(3, 3), bias=False)\n",
      "    (1): BatchNorm2d(64, eps=1e-05, momentum=0.1, affine=True, track_running_stats=True)\n",
      "    (2): ReLU(inplace=True)\n",
      "    (3): MaxPool2d(kernel_size=3, stride=2, padding=1, dilation=1, ceil_mode=False)\n",
      "    (4): Sequential(\n",
      "      (0): BasicBlock(\n",
      "        (conv1): Conv2d(64, 64, kernel_size=(3, 3), stride=(1, 1), padding=(1, 1), bias=False)\n",
      "        (bn1): BatchNorm2d(64, eps=1e-05, momentum=0.1, affine=True, track_running_stats=True)\n",
      "        (relu): ReLU(inplace=True)\n",
      "        (conv2): Conv2d(64, 64, kernel_size=(3, 3), stride=(1, 1), padding=(1, 1), bias=False)\n",
      "        (bn2): BatchNorm2d(64, eps=1e-05, momentum=0.1, affine=True, track_running_stats=True)\n",
      "      )\n",
      "      (1): BasicBlock(\n",
      "        (conv1): Conv2d(64, 64, kernel_size=(3, 3), stride=(1, 1), padding=(1, 1), bias=False)\n",
      "        (bn1): BatchNorm2d(64, eps=1e-05, momentum=0.1, affine=True, track_running_stats=True)\n",
      "        (relu): ReLU(inplace=True)\n",
      "        (conv2): Conv2d(64, 64, kernel_size=(3, 3), stride=(1, 1), padding=(1, 1), bias=False)\n",
      "        (bn2): BatchNorm2d(64, eps=1e-05, momentum=0.1, affine=True, track_running_stats=True)\n",
      "      )\n",
      "      (2): BasicBlock(\n",
      "        (conv1): Conv2d(64, 64, kernel_size=(3, 3), stride=(1, 1), padding=(1, 1), bias=False)\n",
      "        (bn1): BatchNorm2d(64, eps=1e-05, momentum=0.1, affine=True, track_running_stats=True)\n",
      "        (relu): ReLU(inplace=True)\n",
      "        (conv2): Conv2d(64, 64, kernel_size=(3, 3), stride=(1, 1), padding=(1, 1), bias=False)\n",
      "        (bn2): BatchNorm2d(64, eps=1e-05, momentum=0.1, affine=True, track_running_stats=True)\n",
      "      )\n",
      "    )\n",
      "    (5): Sequential(\n",
      "      (0): BasicBlock(\n",
      "        (conv1): Conv2d(64, 128, kernel_size=(3, 3), stride=(2, 2), padding=(1, 1), bias=False)\n",
      "        (bn1): BatchNorm2d(128, eps=1e-05, momentum=0.1, affine=True, track_running_stats=True)\n",
      "        (relu): ReLU(inplace=True)\n",
      "        (conv2): Conv2d(128, 128, kernel_size=(3, 3), stride=(1, 1), padding=(1, 1), bias=False)\n",
      "        (bn2): BatchNorm2d(128, eps=1e-05, momentum=0.1, affine=True, track_running_stats=True)\n",
      "        (downsample): Sequential(\n",
      "          (0): Conv2d(64, 128, kernel_size=(1, 1), stride=(2, 2), bias=False)\n",
      "          (1): BatchNorm2d(128, eps=1e-05, momentum=0.1, affine=True, track_running_stats=True)\n",
      "        )\n",
      "      )\n",
      "      (1): BasicBlock(\n",
      "        (conv1): Conv2d(128, 128, kernel_size=(3, 3), stride=(1, 1), padding=(1, 1), bias=False)\n",
      "        (bn1): BatchNorm2d(128, eps=1e-05, momentum=0.1, affine=True, track_running_stats=True)\n",
      "        (relu): ReLU(inplace=True)\n",
      "        (conv2): Conv2d(128, 128, kernel_size=(3, 3), stride=(1, 1), padding=(1, 1), bias=False)\n",
      "        (bn2): BatchNorm2d(128, eps=1e-05, momentum=0.1, affine=True, track_running_stats=True)\n",
      "      )\n",
      "      (2): BasicBlock(\n",
      "        (conv1): Conv2d(128, 128, kernel_size=(3, 3), stride=(1, 1), padding=(1, 1), bias=False)\n",
      "        (bn1): BatchNorm2d(128, eps=1e-05, momentum=0.1, affine=True, track_running_stats=True)\n",
      "        (relu): ReLU(inplace=True)\n",
      "        (conv2): Conv2d(128, 128, kernel_size=(3, 3), stride=(1, 1), padding=(1, 1), bias=False)\n",
      "        (bn2): BatchNorm2d(128, eps=1e-05, momentum=0.1, affine=True, track_running_stats=True)\n",
      "      )\n",
      "      (3): BasicBlock(\n",
      "        (conv1): Conv2d(128, 128, kernel_size=(3, 3), stride=(1, 1), padding=(1, 1), bias=False)\n",
      "        (bn1): BatchNorm2d(128, eps=1e-05, momentum=0.1, affine=True, track_running_stats=True)\n",
      "        (relu): ReLU(inplace=True)\n",
      "        (conv2): Conv2d(128, 128, kernel_size=(3, 3), stride=(1, 1), padding=(1, 1), bias=False)\n",
      "        (bn2): BatchNorm2d(128, eps=1e-05, momentum=0.1, affine=True, track_running_stats=True)\n",
      "      )\n",
      "    )\n",
      "    (6): Sequential(\n",
      "      (0): BasicBlock(\n",
      "        (conv1): Conv2d(128, 256, kernel_size=(3, 3), stride=(2, 2), padding=(1, 1), bias=False)\n",
      "        (bn1): BatchNorm2d(256, eps=1e-05, momentum=0.1, affine=True, track_running_stats=True)\n",
      "        (relu): ReLU(inplace=True)\n",
      "        (conv2): Conv2d(256, 256, kernel_size=(3, 3), stride=(1, 1), padding=(1, 1), bias=False)\n",
      "        (bn2): BatchNorm2d(256, eps=1e-05, momentum=0.1, affine=True, track_running_stats=True)\n",
      "        (downsample): Sequential(\n",
      "          (0): Conv2d(128, 256, kernel_size=(1, 1), stride=(2, 2), bias=False)\n",
      "          (1): BatchNorm2d(256, eps=1e-05, momentum=0.1, affine=True, track_running_stats=True)\n",
      "        )\n",
      "      )\n",
      "      (1): BasicBlock(\n",
      "        (conv1): Conv2d(256, 256, kernel_size=(3, 3), stride=(1, 1), padding=(1, 1), bias=False)\n",
      "        (bn1): BatchNorm2d(256, eps=1e-05, momentum=0.1, affine=True, track_running_stats=True)\n",
      "        (relu): ReLU(inplace=True)\n",
      "        (conv2): Conv2d(256, 256, kernel_size=(3, 3), stride=(1, 1), padding=(1, 1), bias=False)\n",
      "        (bn2): BatchNorm2d(256, eps=1e-05, momentum=0.1, affine=True, track_running_stats=True)\n",
      "      )\n",
      "      (2): BasicBlock(\n",
      "        (conv1): Conv2d(256, 256, kernel_size=(3, 3), stride=(1, 1), padding=(1, 1), bias=False)\n",
      "        (bn1): BatchNorm2d(256, eps=1e-05, momentum=0.1, affine=True, track_running_stats=True)\n",
      "        (relu): ReLU(inplace=True)\n",
      "        (conv2): Conv2d(256, 256, kernel_size=(3, 3), stride=(1, 1), padding=(1, 1), bias=False)\n",
      "        (bn2): BatchNorm2d(256, eps=1e-05, momentum=0.1, affine=True, track_running_stats=True)\n",
      "      )\n",
      "      (3): BasicBlock(\n",
      "        (conv1): Conv2d(256, 256, kernel_size=(3, 3), stride=(1, 1), padding=(1, 1), bias=False)\n",
      "        (bn1): BatchNorm2d(256, eps=1e-05, momentum=0.1, affine=True, track_running_stats=True)\n",
      "        (relu): ReLU(inplace=True)\n",
      "        (conv2): Conv2d(256, 256, kernel_size=(3, 3), stride=(1, 1), padding=(1, 1), bias=False)\n",
      "        (bn2): BatchNorm2d(256, eps=1e-05, momentum=0.1, affine=True, track_running_stats=True)\n",
      "      )\n",
      "      (4): BasicBlock(\n",
      "        (conv1): Conv2d(256, 256, kernel_size=(3, 3), stride=(1, 1), padding=(1, 1), bias=False)\n",
      "        (bn1): BatchNorm2d(256, eps=1e-05, momentum=0.1, affine=True, track_running_stats=True)\n",
      "        (relu): ReLU(inplace=True)\n",
      "        (conv2): Conv2d(256, 256, kernel_size=(3, 3), stride=(1, 1), padding=(1, 1), bias=False)\n",
      "        (bn2): BatchNorm2d(256, eps=1e-05, momentum=0.1, affine=True, track_running_stats=True)\n",
      "      )\n",
      "      (5): BasicBlock(\n",
      "        (conv1): Conv2d(256, 256, kernel_size=(3, 3), stride=(1, 1), padding=(1, 1), bias=False)\n",
      "        (bn1): BatchNorm2d(256, eps=1e-05, momentum=0.1, affine=True, track_running_stats=True)\n",
      "        (relu): ReLU(inplace=True)\n",
      "        (conv2): Conv2d(256, 256, kernel_size=(3, 3), stride=(1, 1), padding=(1, 1), bias=False)\n",
      "        (bn2): BatchNorm2d(256, eps=1e-05, momentum=0.1, affine=True, track_running_stats=True)\n",
      "      )\n",
      "    )\n",
      "    (7): Sequential(\n",
      "      (0): BasicBlock(\n",
      "        (conv1): Conv2d(256, 512, kernel_size=(3, 3), stride=(2, 2), padding=(1, 1), bias=False)\n",
      "        (bn1): BatchNorm2d(512, eps=1e-05, momentum=0.1, affine=True, track_running_stats=True)\n",
      "        (relu): ReLU(inplace=True)\n",
      "        (conv2): Conv2d(512, 512, kernel_size=(3, 3), stride=(1, 1), padding=(1, 1), bias=False)\n",
      "        (bn2): BatchNorm2d(512, eps=1e-05, momentum=0.1, affine=True, track_running_stats=True)\n",
      "        (downsample): Sequential(\n",
      "          (0): Conv2d(256, 512, kernel_size=(1, 1), stride=(2, 2), bias=False)\n",
      "          (1): BatchNorm2d(512, eps=1e-05, momentum=0.1, affine=True, track_running_stats=True)\n",
      "        )\n",
      "      )\n",
      "      (1): BasicBlock(\n",
      "        (conv1): Conv2d(512, 512, kernel_size=(3, 3), stride=(1, 1), padding=(1, 1), bias=False)\n",
      "        (bn1): BatchNorm2d(512, eps=1e-05, momentum=0.1, affine=True, track_running_stats=True)\n",
      "        (relu): ReLU(inplace=True)\n",
      "        (conv2): Conv2d(512, 512, kernel_size=(3, 3), stride=(1, 1), padding=(1, 1), bias=False)\n",
      "        (bn2): BatchNorm2d(512, eps=1e-05, momentum=0.1, affine=True, track_running_stats=True)\n",
      "      )\n",
      "      (2): BasicBlock(\n",
      "        (conv1): Conv2d(512, 512, kernel_size=(3, 3), stride=(1, 1), padding=(1, 1), bias=False)\n",
      "        (bn1): BatchNorm2d(512, eps=1e-05, momentum=0.1, affine=True, track_running_stats=True)\n",
      "        (relu): ReLU(inplace=True)\n",
      "        (conv2): Conv2d(512, 512, kernel_size=(3, 3), stride=(1, 1), padding=(1, 1), bias=False)\n",
      "        (bn2): BatchNorm2d(512, eps=1e-05, momentum=0.1, affine=True, track_running_stats=True)\n",
      "      )\n",
      "    )\n",
      "  )\n",
      "  (avg): AdaptiveAvgPool2d(output_size=(1, 1))\n",
      "  (fc): Sequential(\n",
      "    (0): Flatten(start_dim=1, end_dim=-1)\n",
      "    (1): Linear(in_features=512, out_features=64, bias=True)\n",
      "    (2): ReLU()\n",
      "    (3): Dropout(p=0.5, inplace=False)\n",
      "    (4): Linear(in_features=64, out_features=1, bias=True)\n",
      "  )\n",
      ")\n"
     ]
    }
   ],
   "source": [
    "# backbone from SimCLR\n",
    "model = basic_classifier.BasicClassifier(backbone=backbone, \n",
    "                                         freezing=True, \n",
    "                                         num_classes=1).to(device=device)\n",
    "\n",
    "print(model)"
   ]
  },
  {
   "cell_type": "code",
   "execution_count": 32,
   "metadata": {},
   "outputs": [],
   "source": [
    "EPOCHS = 50\n",
    "\n",
    "criterion = nn.BCELoss()\n",
    "optimizer = optim.Adam(model.parameters(), lr=1e-3, weight_decay=1e-3)\n",
    "es = train.EarlyStopping(patience=EPOCHS//2, delta=0, mode='min', verbose=True)\n",
    "scheduler = optim.lr_scheduler.StepLR(optimizer, step_size=EPOCHS//5, gamma=0.9)\n",
    "\n",
    "history = {'train_loss' : [],\n",
    "           'val_loss': [],\n",
    "           'train_accuracy': [],\n",
    "           'val_accuracy': []}\n",
    "           \n",
    "max_loss = np.inf    "
   ]
  },
  {
   "cell_type": "code",
   "execution_count": 33,
   "metadata": {},
   "outputs": [
    {
     "name": "stderr",
     "output_type": "stream",
     "text": [
      "100%|███████████████████████████████████████████████████████████████████████████| 1024/1024 [08:10<00:00,  2.09it/s]\n"
     ]
    },
    {
     "name": "stdout",
     "output_type": "stream",
     "text": [
      "[EarlyStopping] (Update) Best Score: 0.44059\n",
      "[INFO] val_loss has been improved from inf to 0.44059. Save model.\n",
      "epoch 01, loss: 0.41694, accuracy: 0.81708, val_loss: 0.44059, val_accuracy: 0.79453 \n",
      "\n"
     ]
    },
    {
     "name": "stderr",
     "output_type": "stream",
     "text": [
      "100%|███████████████████████████████████████████████████████████████████████████| 1024/1024 [08:03<00:00,  2.12it/s]\n"
     ]
    },
    {
     "name": "stdout",
     "output_type": "stream",
     "text": [
      "[EarlyStopping] (Update) Best Score: 0.39524\n",
      "[INFO] val_loss has been improved from 0.44059 to 0.39524. Save model.\n",
      "epoch 02, loss: 0.37291, accuracy: 0.83658, val_loss: 0.39524, val_accuracy: 0.81760 \n",
      "\n"
     ]
    },
    {
     "name": "stderr",
     "output_type": "stream",
     "text": [
      "100%|███████████████████████████████████████████████████████████████████████████| 1024/1024 [07:58<00:00,  2.14it/s]\n"
     ]
    },
    {
     "name": "stdout",
     "output_type": "stream",
     "text": [
      "[EarlyStopping] (Patience) 1/25, Best: 0.39524, Current: 0.39567, Delta: 0.00043\n",
      "epoch 03, loss: 0.36526, accuracy: 0.84076, val_loss: 0.39567, val_accuracy: 0.81638 \n",
      "\n"
     ]
    },
    {
     "name": "stderr",
     "output_type": "stream",
     "text": [
      "100%|███████████████████████████████████████████████████████████████████████████| 1024/1024 [07:59<00:00,  2.14it/s]\n"
     ]
    },
    {
     "name": "stdout",
     "output_type": "stream",
     "text": [
      "[EarlyStopping] (Update) Best Score: 0.38957\n",
      "[INFO] val_loss has been improved from 0.39524 to 0.38957. Save model.\n",
      "epoch 04, loss: 0.35956, accuracy: 0.84294, val_loss: 0.38957, val_accuracy: 0.82114 \n",
      "\n"
     ]
    },
    {
     "name": "stderr",
     "output_type": "stream",
     "text": [
      "100%|███████████████████████████████████████████████████████████████████████████| 1024/1024 [07:58<00:00,  2.14it/s]\n"
     ]
    },
    {
     "name": "stdout",
     "output_type": "stream",
     "text": [
      "[EarlyStopping] (Patience) 1/25, Best: 0.38957, Current: 0.39970, Delta: 0.01014\n",
      "epoch 05, loss: 0.35670, accuracy: 0.84470, val_loss: 0.39970, val_accuracy: 0.81421 \n",
      "\n"
     ]
    },
    {
     "name": "stderr",
     "output_type": "stream",
     "text": [
      "100%|███████████████████████████████████████████████████████████████████████████| 1024/1024 [07:58<00:00,  2.14it/s]\n"
     ]
    },
    {
     "name": "stdout",
     "output_type": "stream",
     "text": [
      "[EarlyStopping] (Patience) 2/25, Best: 0.38957, Current: 0.40193, Delta: 0.01237\n",
      "epoch 06, loss: 0.35476, accuracy: 0.84593, val_loss: 0.40193, val_accuracy: 0.81699 \n",
      "\n"
     ]
    },
    {
     "name": "stderr",
     "output_type": "stream",
     "text": [
      "100%|███████████████████████████████████████████████████████████████████████████| 1024/1024 [07:59<00:00,  2.14it/s]\n"
     ]
    },
    {
     "name": "stdout",
     "output_type": "stream",
     "text": [
      "[EarlyStopping] (Patience) 3/25, Best: 0.38957, Current: 0.39280, Delta: 0.00323\n",
      "epoch 07, loss: 0.35370, accuracy: 0.84573, val_loss: 0.39280, val_accuracy: 0.81985 \n",
      "\n"
     ]
    },
    {
     "name": "stderr",
     "output_type": "stream",
     "text": [
      "100%|███████████████████████████████████████████████████████████████████████████| 1024/1024 [07:58<00:00,  2.14it/s]\n"
     ]
    },
    {
     "name": "stdout",
     "output_type": "stream",
     "text": [
      "[EarlyStopping] (Patience) 4/25, Best: 0.38957, Current: 0.39273, Delta: 0.00316\n",
      "epoch 08, loss: 0.35218, accuracy: 0.84705, val_loss: 0.39273, val_accuracy: 0.82233 \n",
      "\n"
     ]
    },
    {
     "name": "stderr",
     "output_type": "stream",
     "text": [
      "100%|███████████████████████████████████████████████████████████████████████████| 1024/1024 [07:57<00:00,  2.15it/s]\n"
     ]
    },
    {
     "name": "stdout",
     "output_type": "stream",
     "text": [
      "[EarlyStopping] (Patience) 5/25, Best: 0.38957, Current: 0.39338, Delta: 0.00381\n",
      "epoch 09, loss: 0.35199, accuracy: 0.84732, val_loss: 0.39338, val_accuracy: 0.82098 \n",
      "\n"
     ]
    },
    {
     "name": "stderr",
     "output_type": "stream",
     "text": [
      "100%|███████████████████████████████████████████████████████████████████████████| 1024/1024 [07:57<00:00,  2.15it/s]\n"
     ]
    },
    {
     "name": "stdout",
     "output_type": "stream",
     "text": [
      "[EarlyStopping] (Update) Best Score: 0.38736\n",
      "[INFO] val_loss has been improved from 0.38957 to 0.38736. Save model.\n",
      "epoch 10, loss: 0.35167, accuracy: 0.84678, val_loss: 0.38736, val_accuracy: 0.82245 \n",
      "\n"
     ]
    },
    {
     "name": "stderr",
     "output_type": "stream",
     "text": [
      "100%|███████████████████████████████████████████████████████████████████████████| 1024/1024 [07:58<00:00,  2.14it/s]\n"
     ]
    },
    {
     "name": "stdout",
     "output_type": "stream",
     "text": [
      "[EarlyStopping] (Update) Best Score: 0.38111\n",
      "[INFO] val_loss has been improved from 0.38736 to 0.38111. Save model.\n",
      "epoch 11, loss: 0.35081, accuracy: 0.84756, val_loss: 0.38111, val_accuracy: 0.82629 \n",
      "\n"
     ]
    },
    {
     "name": "stderr",
     "output_type": "stream",
     "text": [
      "100%|███████████████████████████████████████████████████████████████████████████| 1024/1024 [07:57<00:00,  2.14it/s]\n"
     ]
    },
    {
     "name": "stdout",
     "output_type": "stream",
     "text": [
      "[EarlyStopping] (Update) Best Score: 0.37753\n",
      "[INFO] val_loss has been improved from 0.38111 to 0.37753. Save model.\n",
      "epoch 12, loss: 0.35146, accuracy: 0.84829, val_loss: 0.37753, val_accuracy: 0.83066 \n",
      "\n"
     ]
    },
    {
     "name": "stderr",
     "output_type": "stream",
     "text": [
      "100%|███████████████████████████████████████████████████████████████████████████| 1024/1024 [07:58<00:00,  2.14it/s]\n"
     ]
    },
    {
     "name": "stdout",
     "output_type": "stream",
     "text": [
      "[EarlyStopping] (Patience) 1/25, Best: 0.37753, Current: 0.38248, Delta: 0.00494\n",
      "epoch 13, loss: 0.34955, accuracy: 0.84877, val_loss: 0.38248, val_accuracy: 0.82544 \n",
      "\n"
     ]
    },
    {
     "name": "stderr",
     "output_type": "stream",
     "text": [
      "100%|███████████████████████████████████████████████████████████████████████████| 1024/1024 [07:58<00:00,  2.14it/s]\n"
     ]
    },
    {
     "name": "stdout",
     "output_type": "stream",
     "text": [
      "[EarlyStopping] (Patience) 2/25, Best: 0.37753, Current: 0.37960, Delta: 0.00207\n",
      "epoch 14, loss: 0.34974, accuracy: 0.84890, val_loss: 0.37960, val_accuracy: 0.82751 \n",
      "\n"
     ]
    },
    {
     "name": "stderr",
     "output_type": "stream",
     "text": [
      "100%|███████████████████████████████████████████████████████████████████████████| 1024/1024 [07:58<00:00,  2.14it/s]\n"
     ]
    },
    {
     "name": "stdout",
     "output_type": "stream",
     "text": [
      "[EarlyStopping] (Patience) 3/25, Best: 0.37753, Current: 0.39545, Delta: 0.01792\n",
      "epoch 15, loss: 0.34970, accuracy: 0.84832, val_loss: 0.39545, val_accuracy: 0.81766 \n",
      "\n"
     ]
    },
    {
     "name": "stderr",
     "output_type": "stream",
     "text": [
      "100%|███████████████████████████████████████████████████████████████████████████| 1024/1024 [07:58<00:00,  2.14it/s]\n"
     ]
    },
    {
     "name": "stdout",
     "output_type": "stream",
     "text": [
      "[EarlyStopping] (Patience) 4/25, Best: 0.37753, Current: 0.38917, Delta: 0.01164\n",
      "epoch 16, loss: 0.35025, accuracy: 0.84809, val_loss: 0.38917, val_accuracy: 0.82306 \n",
      "\n"
     ]
    },
    {
     "name": "stderr",
     "output_type": "stream",
     "text": [
      "100%|███████████████████████████████████████████████████████████████████████████| 1024/1024 [07:58<00:00,  2.14it/s]\n"
     ]
    },
    {
     "name": "stdout",
     "output_type": "stream",
     "text": [
      "[EarlyStopping] (Update) Best Score: 0.37679\n",
      "[INFO] val_loss has been improved from 0.37753 to 0.37679. Save model.\n",
      "epoch 17, loss: 0.34999, accuracy: 0.84794, val_loss: 0.37679, val_accuracy: 0.82831 \n",
      "\n"
     ]
    },
    {
     "name": "stderr",
     "output_type": "stream",
     "text": [
      "100%|███████████████████████████████████████████████████████████████████████████| 1024/1024 [07:57<00:00,  2.15it/s]\n"
     ]
    },
    {
     "name": "stdout",
     "output_type": "stream",
     "text": [
      "[EarlyStopping] (Update) Best Score: 0.37353\n",
      "[INFO] val_loss has been improved from 0.37679 to 0.37353. Save model.\n",
      "epoch 18, loss: 0.35055, accuracy: 0.84829, val_loss: 0.37353, val_accuracy: 0.83121 \n",
      "\n"
     ]
    },
    {
     "name": "stderr",
     "output_type": "stream",
     "text": [
      "100%|███████████████████████████████████████████████████████████████████████████| 1024/1024 [07:58<00:00,  2.14it/s]\n"
     ]
    },
    {
     "name": "stdout",
     "output_type": "stream",
     "text": [
      "[EarlyStopping] (Patience) 1/25, Best: 0.37353, Current: 0.39830, Delta: 0.02477\n",
      "epoch 19, loss: 0.35004, accuracy: 0.84909, val_loss: 0.39830, val_accuracy: 0.82053 \n",
      "\n"
     ]
    },
    {
     "name": "stderr",
     "output_type": "stream",
     "text": [
      "100%|███████████████████████████████████████████████████████████████████████████| 1024/1024 [07:56<00:00,  2.15it/s]\n"
     ]
    },
    {
     "name": "stdout",
     "output_type": "stream",
     "text": [
      "[EarlyStopping] (Patience) 2/25, Best: 0.37353, Current: 0.38286, Delta: 0.00933\n",
      "epoch 20, loss: 0.34958, accuracy: 0.84855, val_loss: 0.38286, val_accuracy: 0.82715 \n",
      "\n"
     ]
    },
    {
     "name": "stderr",
     "output_type": "stream",
     "text": [
      "100%|███████████████████████████████████████████████████████████████████████████| 1024/1024 [07:57<00:00,  2.15it/s]\n"
     ]
    },
    {
     "name": "stdout",
     "output_type": "stream",
     "text": [
      "[EarlyStopping] (Patience) 3/25, Best: 0.37353, Current: 0.38677, Delta: 0.01324\n",
      "epoch 21, loss: 0.34915, accuracy: 0.84922, val_loss: 0.38677, val_accuracy: 0.82547 \n",
      "\n"
     ]
    },
    {
     "name": "stderr",
     "output_type": "stream",
     "text": [
      "100%|███████████████████████████████████████████████████████████████████████████| 1024/1024 [07:58<00:00,  2.14it/s]\n"
     ]
    },
    {
     "name": "stdout",
     "output_type": "stream",
     "text": [
      "[EarlyStopping] (Patience) 4/25, Best: 0.37353, Current: 0.38272, Delta: 0.00919\n",
      "epoch 22, loss: 0.34946, accuracy: 0.84875, val_loss: 0.38272, val_accuracy: 0.82620 \n",
      "\n"
     ]
    },
    {
     "name": "stderr",
     "output_type": "stream",
     "text": [
      "100%|███████████████████████████████████████████████████████████████████████████| 1024/1024 [07:57<00:00,  2.15it/s]\n"
     ]
    },
    {
     "name": "stdout",
     "output_type": "stream",
     "text": [
      "[EarlyStopping] (Patience) 5/25, Best: 0.37353, Current: 0.38752, Delta: 0.01399\n",
      "epoch 23, loss: 0.34849, accuracy: 0.84905, val_loss: 0.38752, val_accuracy: 0.82361 \n",
      "\n"
     ]
    },
    {
     "name": "stderr",
     "output_type": "stream",
     "text": [
      "100%|███████████████████████████████████████████████████████████████████████████| 1024/1024 [07:56<00:00,  2.15it/s]\n"
     ]
    },
    {
     "name": "stdout",
     "output_type": "stream",
     "text": [
      "[EarlyStopping] (Patience) 6/25, Best: 0.37353, Current: 0.39387, Delta: 0.02034\n",
      "epoch 24, loss: 0.34897, accuracy: 0.84931, val_loss: 0.39387, val_accuracy: 0.82050 \n",
      "\n"
     ]
    },
    {
     "name": "stderr",
     "output_type": "stream",
     "text": [
      "100%|███████████████████████████████████████████████████████████████████████████| 1024/1024 [07:57<00:00,  2.14it/s]\n"
     ]
    },
    {
     "name": "stdout",
     "output_type": "stream",
     "text": [
      "[EarlyStopping] (Patience) 7/25, Best: 0.37353, Current: 0.38392, Delta: 0.01039\n",
      "epoch 25, loss: 0.34886, accuracy: 0.84974, val_loss: 0.38392, val_accuracy: 0.82574 \n",
      "\n"
     ]
    },
    {
     "name": "stderr",
     "output_type": "stream",
     "text": [
      "100%|███████████████████████████████████████████████████████████████████████████| 1024/1024 [07:56<00:00,  2.15it/s]\n"
     ]
    },
    {
     "name": "stdout",
     "output_type": "stream",
     "text": [
      "[EarlyStopping] (Patience) 8/25, Best: 0.37353, Current: 0.38180, Delta: 0.00827\n",
      "epoch 26, loss: 0.34791, accuracy: 0.85014, val_loss: 0.38180, val_accuracy: 0.82593 \n",
      "\n"
     ]
    },
    {
     "name": "stderr",
     "output_type": "stream",
     "text": [
      "100%|███████████████████████████████████████████████████████████████████████████| 1024/1024 [07:57<00:00,  2.14it/s]\n"
     ]
    },
    {
     "name": "stdout",
     "output_type": "stream",
     "text": [
      "[EarlyStopping] (Patience) 9/25, Best: 0.37353, Current: 0.37726, Delta: 0.00373\n",
      "epoch 27, loss: 0.34838, accuracy: 0.85062, val_loss: 0.37726, val_accuracy: 0.82764 \n",
      "\n"
     ]
    },
    {
     "name": "stderr",
     "output_type": "stream",
     "text": [
      "100%|███████████████████████████████████████████████████████████████████████████| 1024/1024 [07:58<00:00,  2.14it/s]\n"
     ]
    },
    {
     "name": "stdout",
     "output_type": "stream",
     "text": [
      "[EarlyStopping] (Patience) 10/25, Best: 0.37353, Current: 0.38695, Delta: 0.01342\n",
      "epoch 28, loss: 0.34893, accuracy: 0.84951, val_loss: 0.38695, val_accuracy: 0.82336 \n",
      "\n"
     ]
    },
    {
     "name": "stderr",
     "output_type": "stream",
     "text": [
      "100%|███████████████████████████████████████████████████████████████████████████| 1024/1024 [07:57<00:00,  2.15it/s]\n"
     ]
    },
    {
     "name": "stdout",
     "output_type": "stream",
     "text": [
      "[EarlyStopping] (Patience) 11/25, Best: 0.37353, Current: 0.39373, Delta: 0.02020\n",
      "epoch 29, loss: 0.34874, accuracy: 0.84916, val_loss: 0.39373, val_accuracy: 0.82120 \n",
      "\n"
     ]
    },
    {
     "name": "stderr",
     "output_type": "stream",
     "text": [
      "100%|███████████████████████████████████████████████████████████████████████████| 1024/1024 [07:56<00:00,  2.15it/s]\n"
     ]
    },
    {
     "name": "stdout",
     "output_type": "stream",
     "text": [
      "[EarlyStopping] (Patience) 12/25, Best: 0.37353, Current: 0.38807, Delta: 0.01454\n",
      "epoch 30, loss: 0.34908, accuracy: 0.84933, val_loss: 0.38807, val_accuracy: 0.82416 \n",
      "\n"
     ]
    },
    {
     "name": "stderr",
     "output_type": "stream",
     "text": [
      "100%|███████████████████████████████████████████████████████████████████████████| 1024/1024 [07:59<00:00,  2.13it/s]\n"
     ]
    },
    {
     "name": "stdout",
     "output_type": "stream",
     "text": [
      "[EarlyStopping] (Patience) 13/25, Best: 0.37353, Current: 0.39102, Delta: 0.01749\n",
      "epoch 31, loss: 0.34844, accuracy: 0.84938, val_loss: 0.39102, val_accuracy: 0.82413 \n",
      "\n"
     ]
    },
    {
     "name": "stderr",
     "output_type": "stream",
     "text": [
      "100%|███████████████████████████████████████████████████████████████████████████| 1024/1024 [07:56<00:00,  2.15it/s]\n"
     ]
    },
    {
     "name": "stdout",
     "output_type": "stream",
     "text": [
      "[EarlyStopping] (Patience) 14/25, Best: 0.37353, Current: 0.38420, Delta: 0.01068\n",
      "epoch 32, loss: 0.34868, accuracy: 0.85059, val_loss: 0.38420, val_accuracy: 0.82526 \n",
      "\n"
     ]
    },
    {
     "name": "stderr",
     "output_type": "stream",
     "text": [
      "100%|███████████████████████████████████████████████████████████████████████████| 1024/1024 [07:58<00:00,  2.14it/s]\n"
     ]
    },
    {
     "name": "stdout",
     "output_type": "stream",
     "text": [
      "[EarlyStopping] (Patience) 15/25, Best: 0.37353, Current: 0.37683, Delta: 0.00330\n",
      "epoch 33, loss: 0.34837, accuracy: 0.84929, val_loss: 0.37683, val_accuracy: 0.82715 \n",
      "\n"
     ]
    },
    {
     "name": "stderr",
     "output_type": "stream",
     "text": [
      "100%|███████████████████████████████████████████████████████████████████████████| 1024/1024 [07:59<00:00,  2.13it/s]\n"
     ]
    },
    {
     "name": "stdout",
     "output_type": "stream",
     "text": [
      "[EarlyStopping] (Patience) 16/25, Best: 0.37353, Current: 0.38546, Delta: 0.01194\n",
      "epoch 34, loss: 0.34710, accuracy: 0.85009, val_loss: 0.38546, val_accuracy: 0.82516 \n",
      "\n"
     ]
    },
    {
     "name": "stderr",
     "output_type": "stream",
     "text": [
      "100%|███████████████████████████████████████████████████████████████████████████| 1024/1024 [07:57<00:00,  2.14it/s]\n"
     ]
    },
    {
     "name": "stdout",
     "output_type": "stream",
     "text": [
      "[EarlyStopping] (Patience) 17/25, Best: 0.37353, Current: 0.38591, Delta: 0.01238\n",
      "epoch 35, loss: 0.34794, accuracy: 0.84975, val_loss: 0.38591, val_accuracy: 0.82535 \n",
      "\n"
     ]
    },
    {
     "name": "stderr",
     "output_type": "stream",
     "text": [
      "100%|███████████████████████████████████████████████████████████████████████████| 1024/1024 [07:58<00:00,  2.14it/s]\n"
     ]
    },
    {
     "name": "stdout",
     "output_type": "stream",
     "text": [
      "[EarlyStopping] (Patience) 18/25, Best: 0.37353, Current: 0.37757, Delta: 0.00405\n",
      "epoch 36, loss: 0.34804, accuracy: 0.84965, val_loss: 0.37757, val_accuracy: 0.82794 \n",
      "\n"
     ]
    },
    {
     "name": "stderr",
     "output_type": "stream",
     "text": [
      "100%|███████████████████████████████████████████████████████████████████████████| 1024/1024 [07:57<00:00,  2.15it/s]\n"
     ]
    },
    {
     "name": "stdout",
     "output_type": "stream",
     "text": [
      "[EarlyStopping] (Patience) 19/25, Best: 0.37353, Current: 0.38786, Delta: 0.01433\n",
      "epoch 37, loss: 0.34917, accuracy: 0.84906, val_loss: 0.38786, val_accuracy: 0.82507 \n",
      "\n"
     ]
    },
    {
     "name": "stderr",
     "output_type": "stream",
     "text": [
      "100%|███████████████████████████████████████████████████████████████████████████| 1024/1024 [07:58<00:00,  2.14it/s]\n"
     ]
    },
    {
     "name": "stdout",
     "output_type": "stream",
     "text": [
      "[EarlyStopping] (Patience) 20/25, Best: 0.37353, Current: 0.39245, Delta: 0.01892\n",
      "epoch 38, loss: 0.34770, accuracy: 0.84990, val_loss: 0.39245, val_accuracy: 0.82147 \n",
      "\n"
     ]
    },
    {
     "name": "stderr",
     "output_type": "stream",
     "text": [
      "100%|███████████████████████████████████████████████████████████████████████████| 1024/1024 [07:58<00:00,  2.14it/s]\n"
     ]
    },
    {
     "name": "stdout",
     "output_type": "stream",
     "text": [
      "[EarlyStopping] (Patience) 21/25, Best: 0.37353, Current: 0.38557, Delta: 0.01204\n",
      "epoch 39, loss: 0.34820, accuracy: 0.84942, val_loss: 0.38557, val_accuracy: 0.82361 \n",
      "\n"
     ]
    },
    {
     "name": "stderr",
     "output_type": "stream",
     "text": [
      "100%|███████████████████████████████████████████████████████████████████████████| 1024/1024 [07:58<00:00,  2.14it/s]\n"
     ]
    },
    {
     "name": "stdout",
     "output_type": "stream",
     "text": [
      "[EarlyStopping] (Patience) 22/25, Best: 0.37353, Current: 0.38744, Delta: 0.01391\n",
      "epoch 40, loss: 0.34814, accuracy: 0.84971, val_loss: 0.38744, val_accuracy: 0.82419 \n",
      "\n"
     ]
    },
    {
     "name": "stderr",
     "output_type": "stream",
     "text": [
      "100%|███████████████████████████████████████████████████████████████████████████| 1024/1024 [07:58<00:00,  2.14it/s]\n"
     ]
    },
    {
     "name": "stdout",
     "output_type": "stream",
     "text": [
      "[EarlyStopping] (Patience) 23/25, Best: 0.37353, Current: 0.39137, Delta: 0.01784\n",
      "epoch 41, loss: 0.34734, accuracy: 0.85035, val_loss: 0.39137, val_accuracy: 0.82220 \n",
      "\n"
     ]
    },
    {
     "name": "stderr",
     "output_type": "stream",
     "text": [
      "100%|███████████████████████████████████████████████████████████████████████████| 1024/1024 [07:58<00:00,  2.14it/s]\n"
     ]
    },
    {
     "name": "stdout",
     "output_type": "stream",
     "text": [
      "[EarlyStopping] (Patience) 24/25, Best: 0.37353, Current: 0.38554, Delta: 0.01202\n",
      "epoch 42, loss: 0.34815, accuracy: 0.84999, val_loss: 0.38554, val_accuracy: 0.82541 \n",
      "\n"
     ]
    },
    {
     "name": "stderr",
     "output_type": "stream",
     "text": [
      "100%|███████████████████████████████████████████████████████████████████████████| 1024/1024 [07:57<00:00,  2.14it/s]\n"
     ]
    },
    {
     "name": "stdout",
     "output_type": "stream",
     "text": [
      "[EarlyStopping] (Patience) 25/25, Best: 0.37353, Current: 0.38163, Delta: 0.00810\n",
      "[EarlyStop Triggered] Best Score: 0.37353\n"
     ]
    }
   ],
   "source": [
    "for epoch in range(EPOCHS):\n",
    "    train_loss, train_acc = train.model_train(model=model, \n",
    "                                              data_loader=train_loader, \n",
    "                                              criterion=criterion, \n",
    "                                              optimizer=optimizer, \n",
    "                                              device=device, \n",
    "                                              scheduler=scheduler, \n",
    "                                              tqdm_disable=False)\n",
    "    val_loss, val_acc = train.model_evaluate(model=model, \n",
    "                                             data_loader=val_loader, \n",
    "                                             criterion=criterion, \n",
    "                                             device=device)\n",
    "    \n",
    "    history['train_loss'].append(train_loss)\n",
    "    history['train_accuracy'].append(train_acc)\n",
    "    history['val_loss'].append(val_loss)\n",
    "    history['val_accuracy'].append(val_acc)\n",
    "    \n",
    "    es(val_loss)\n",
    "    # Early Stop Check\n",
    "    if es.early_stop:\n",
    "        break\n",
    "\n",
    "    if val_loss < max_loss:\n",
    "        print(f'[INFO] val_loss has been improved from {max_loss:.5f} to {val_loss:.5f}. Save model.')\n",
    "        max_loss = val_loss\n",
    "        torch.save(model.state_dict(), 'Best_Model_ResNet_3.pth')\n",
    "\n",
    "    print(f'epoch {epoch+1:02d}, loss: {train_loss:.5f}, accuracy: {train_acc:.5f}, val_loss: {val_loss:.5f}, val_accuracy: {val_acc:.5f} \\n')"
   ]
  },
  {
   "cell_type": "code",
   "execution_count": 34,
   "metadata": {},
   "outputs": [
    {
     "data": {
      "image/png": "[encoded data removed]",
      "text/plain": [
       "<Figure size 640x480 with 1 Axes>"
      ]
     },
     "metadata": {},
     "output_type": "display_data"
    }
   ],
   "source": [
    "train.plot_acc(history=history)"
   ]
  },
  {
   "cell_type": "code",
   "execution_count": 35,
   "metadata": {},
   "outputs": [
    {
     "data": {
      "image/png": "[encoded data removed]",
      "text/plain": [
       "<Figure size 640x480 with 1 Axes>"
      ]
     },
     "metadata": {},
     "output_type": "display_data"
    }
   ],
   "source": [
    "train.plot_loss(history=history)"
   ]
  },
  {
   "cell_type": "code",
   "execution_count": 37,
   "metadata": {},
   "outputs": [
    {
     "name": "stdout",
     "output_type": "stream",
     "text": [
      "Test Loss: 0.40419348631985486\n",
      "Test Accuracy: 0.815521240234375\n"
     ]
    }
   ],
   "source": [
    "backbone = ResNet34.ResNet34_Backbone(pretrain=False).to(device=device)\n",
    "model = basic_classifier.BasicClassifier(backbone=backbone, \n",
    "                                         freezing=True, \n",
    "                                         num_classes=1).to(device=device)\n",
    "\n",
    "model.load_state_dict(torch.load('Best_Model_ResNet_3.pth', map_location=device))\n",
    "model.eval()\n",
    "\n",
    "test_loss, test_acc = train.model_evaluate(model=model,\n",
    "                                           data_loader=test_loader,\n",
    "                                           criterion=criterion,\n",
    "                                           device=device)\n",
    "\n",
    "print('Test Loss: %s'%test_loss)\n",
    "print('Test Accuracy: %s'%test_acc)"
   ]
  }
 ],
 "metadata": {
  "kernelspec": {
   "display_name": "Python 3 (ipykernel)",
   "language": "python",
   "name": "python3"
  },
  "language_info": {
   "codemirror_mode": {
    "name": "ipython",
    "version": 3
   },
   "file_extension": ".py",
   "mimetype": "text/x-python",
   "name": "python",
   "nbconvert_exporter": "python",
   "pygments_lexer": "ipython3",
   "version": "3.10.14"
  }
 },
 "nbformat": 4,
 "nbformat_minor": 4
}
