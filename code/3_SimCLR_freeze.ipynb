{
 "cells": [
  {
   "cell_type": "code",
   "execution_count": 1,
   "metadata": {},
   "outputs": [],
   "source": [
    "import os\n",
    "import numpy as np\n",
    "import matplotlib.pyplot as plt\n",
    "import warnings\n",
    "warnings.filterwarnings('ignore')\n",
    "\n",
    "import torch\n",
    "import torch.nn as nn\n",
    "import torch.optim as optim\n",
    "\n",
    "from utils import seed\n",
    "from data import dataset\n",
    "from model.backbone import VGG16, ResNet34\n",
    "from model.simclr import basic_simclr, data_aug, simclr_train\n",
    "from model import basic_classifier\n",
    "from utils import train\n",
    "\n",
    "seed.seed_everything()"
   ]
  },
  {
   "cell_type": "code",
   "execution_count": 2,
   "metadata": {},
   "outputs": [
    {
     "name": "stdout",
     "output_type": "stream",
     "text": [
      "cuda:0\n"
     ]
    }
   ],
   "source": [
    "device = 'cuda:0' if torch.cuda.is_available() else 'cpu'\n",
    "print(device)"
   ]
  },
  {
   "cell_type": "markdown",
   "metadata": {},
   "source": [
    "# VGG"
   ]
  },
  {
   "cell_type": "markdown",
   "metadata": {},
   "source": [
    "## SimCLR"
   ]
  },
  {
   "cell_type": "code",
   "execution_count": 4,
   "metadata": {},
   "outputs": [],
   "source": [
    "path = './data'\n",
    "\n",
    "dataset = data_aug.ContrastiveLearningDataset(path=path, input_shape=96)\n",
    "\n",
    "batch_size = 256\n",
    "\n",
    "train_set = dataset.get_dataset()\n",
    "train_loader = torch.utils.data.DataLoader(train_set, \n",
    "                                           batch_size=batch_size, \n",
    "                                           shuffle=True, \n",
    "                                           num_workers=0,\n",
    "                                           pin_memory=True, \n",
    "                                           drop_last=True)"
   ]
  },
  {
   "cell_type": "code",
   "execution_count": null,
   "metadata": {},
   "outputs": [],
   "source": [
    "backbone = VGG16.VGG16_Backbone(pretrain=False).to(device=device)\n",
    "model = basic_simclr.BasicSimCLR(backbone).to(device=device)\n",
    "\n",
    "print(model)"
   ]
  },
  {
   "cell_type": "code",
   "execution_count": 6,
   "metadata": {},
   "outputs": [],
   "source": [
    "# default hyperparameters\n",
    "lr = 3e-4\n",
    "weight_decay = 1e-3\n",
    "\n",
    "optimizer = torch.optim.Adam(model.parameters(), lr=lr, weight_decay=weight_decay)\n",
    "scheduler = torch.optim.lr_scheduler.CosineAnnealingLR(optimizer, \n",
    "                                                       T_max=len(train_loader), \n",
    "                                                       eta_min=0,\n",
    "                                                       last_epoch=-1)"
   ]
  },
  {
   "cell_type": "code",
   "execution_count": 7,
   "metadata": {},
   "outputs": [],
   "source": [
    "simclr = simclr_train.SimCLR(model=model,\n",
    "                             model_name='VGG16',\n",
    "                             scheduler=scheduler,\n",
    "                             optimizer=optimizer,\n",
    "                             device=device,\n",
    "                             epochs=200)"
   ]
  },
  {
   "cell_type": "code",
   "execution_count": null,
   "metadata": {},
   "outputs": [],
   "source": [
    "simclr.train(train_loader=train_loader)"
   ]
  },
  {
   "cell_type": "code",
   "execution_count": null,
   "metadata": {},
   "outputs": [],
   "source": [
    "# log dir\n",
    "print(simclr.writer.log_dir)"
   ]
  },
  {
   "cell_type": "markdown",
   "metadata": {},
   "source": [
    "## Model Train"
   ]
  },
  {
   "cell_type": "code",
   "execution_count": null,
   "metadata": {},
   "outputs": [],
   "source": [
    "# (already downloaded) dataset path \n",
    "path = './data'\n",
    "\n",
    "train_loader, val_loader, test_loader = dataset.load_pcam(path=path, \n",
    "                                                          input_shape=96,\n",
    "                                                          augmentation=True,\n",
    "                                                          normalize=True,\n",
    "                                                          batch_size=256,\n",
    "                                                          seed=21)"
   ]
  },
  {
   "cell_type": "code",
   "execution_count": 15,
   "metadata": {},
   "outputs": [],
   "source": [
    "backbone = VGG16.VGG16_Backbone(pretrain=False).to(device=device)\n",
    "model_temp = basic_simclr.BasicSimCLR(backbone).to(device=device)\n",
    "\n",
    "# path - VGG \n",
    "file_path = 'checkpoint_0002.pth.tar'\n",
    "\n",
    "checkpoint_path = os.path.join(simclr.writer.log_dir, file_path)\n",
    "checkpoint = torch.load(checkpoint_path, map_location=device)\n",
    "model_temp.load_state_dict(checkpoint['state_dict'])"
   ]
  },
  {
   "cell_type": "code",
   "execution_count": null,
   "metadata": {},
   "outputs": [],
   "source": [
    "# backbone from SimCLR\n",
    "model = basic_classifier.BasicClassifier(backbone=backbone, \n",
    "                                         freezing=True, \n",
    "                                         num_classes=1).to(device=device)\n",
    "\n",
    "print(model)"
   ]
  },
  {
   "cell_type": "code",
   "execution_count": null,
   "metadata": {},
   "outputs": [],
   "source": [
    "EPOCHS = 50\n",
    "\n",
    "criterion = nn.BCELoss()\n",
    "optimizer = optim.Adam(model.parameters(), lr = 1e-3, weight_decay=1e-3)\n",
    "es = train.EarlyStopping(patience=EPOCHS//2, delta=0, mode='min', verbose=True)\n",
    "scheduler = optim.lr_scheduler.StepLR(optimizer, step_size=EPOCHS//5, gamma=0.9)\n",
    "\n",
    "history = {'train_loss' : [],\n",
    "           'val_loss': [],\n",
    "           'train_accuracy': [],\n",
    "           'val_accuracy': []}\n",
    "           \n",
    "max_loss = np.inf    "
   ]
  },
  {
   "cell_type": "code",
   "execution_count": null,
   "metadata": {},
   "outputs": [],
   "source": [
    "for epoch in range(EPOCHS):\n",
    "    train_loss, train_acc = train.model_train(model=model, \n",
    "                                              data_loader=train_loader, \n",
    "                                              criterion=criterion, \n",
    "                                              optimizer=optimizer, \n",
    "                                              device=device, \n",
    "                                              scheduler=scheduler, \n",
    "                                              tqdm_disable=False)\n",
    "    val_loss, val_acc = train.model_evaluate(model=model, \n",
    "                                             data_loader=val_loader, \n",
    "                                             criterion=criterion, \n",
    "                                             device=device)\n",
    "    \n",
    "    history['train_loss'].append(train_loss)\n",
    "    history['train_accuracy'].append(train_acc)\n",
    "    history['val_loss'].append(val_loss)\n",
    "    history['val_accuracy'].append(val_acc)\n",
    "    \n",
    "    es(val_loss)\n",
    "    # Early Stop Check\n",
    "    if es.early_stop:\n",
    "        break\n",
    "\n",
    "    if val_loss < max_loss:\n",
    "        print(f'[INFO] val_loss has been improved from {max_loss:.5f} to {val_loss:.5f}. Save model.')\n",
    "        max_loss = val_loss\n",
    "        torch.save(model.state_dict(), 'Best_Model_VGG_3.pth')\n",
    "\n",
    "    print(f'epoch {epoch+1:02d}, loss: {train_loss:.5f}, accuracy: {train_acc:.5f}, val_loss: {val_loss:.5f}, val_accuracy: {val_acc:.5f} \\n')"
   ]
  },
  {
   "cell_type": "code",
   "execution_count": null,
   "metadata": {},
   "outputs": [],
   "source": [
    "train.plot_acc(history=history)"
   ]
  },
  {
   "cell_type": "code",
   "execution_count": null,
   "metadata": {},
   "outputs": [],
   "source": [
    "train.plot_loss(history=history)"
   ]
  },
  {
   "cell_type": "code",
   "execution_count": null,
   "metadata": {},
   "outputs": [],
   "source": [
    "backbone = VGG16.VGG16_Backbone(pretrain=False).to(device=device)\n",
    "model = basic_classifier.BasicClassifier(backbone=backbone, \n",
    "                                         freezing=True, \n",
    "                                         num_classes=1).to(device=device)\n",
    "\n",
    "model.load_state_dict(torch.load('Best_Model_VGG_3.pth', map_location=device))\n",
    "model.eval()\n",
    "\n",
    "test_loss, test_acc = train.model_evaluate(model=model,\n",
    "                                           data_loader=test_loader,\n",
    "                                           criterion=criterion,\n",
    "                                           device=device)\n",
    "\n",
    "print('Test Loss: %s'%test_loss)\n",
    "print('Test Accuracy: %s'%test_acc)"
   ]
  },
  {
   "cell_type": "markdown",
   "metadata": {},
   "source": [
    "# ResNet"
   ]
  },
  {
   "cell_type": "markdown",
   "metadata": {},
   "source": [
    "## SimCLR"
   ]
  },
  {
   "cell_type": "code",
   "execution_count": null,
   "metadata": {},
   "outputs": [],
   "source": [
    "path = './data'\n",
    "\n",
    "dataset = data_aug.ContrastiveLearningDataset(path=path, input_shape=96)\n",
    "\n",
    "batch_size = 256\n",
    "\n",
    "train_set = dataset.get_dataset()\n",
    "train_loader = torch.utils.data.DataLoader(train_set, \n",
    "                                           batch_size=batch_size, \n",
    "                                           shuffle=True, \n",
    "                                           num_workers=0,\n",
    "                                           pin_memory=True, \n",
    "                                           drop_last=True)"
   ]
  },
  {
   "cell_type": "code",
   "execution_count": null,
   "metadata": {},
   "outputs": [],
   "source": [
    "backbone = ResNet34.ResNet34_Backbone(pretrain=False).to(device=device)\n",
    "model = basic_simclr.BasicSimCLR(backbone).to(device=device)\n",
    "\n",
    "print(model)"
   ]
  },
  {
   "cell_type": "code",
   "execution_count": null,
   "metadata": {},
   "outputs": [],
   "source": [
    "# default hyperparameters\n",
    "lr = 3e-4\n",
    "weight_decay = 1e-3\n",
    "\n",
    "optimizer = torch.optim.Adam(model.parameters(), lr=lr, weight_decay=weight_decay)\n",
    "scheduler = torch.optim.lr_scheduler.CosineAnnealingLR(optimizer, \n",
    "                                                       T_max=len(train_loader), \n",
    "                                                       eta_min=0,\n",
    "                                                       last_epoch=-1)"
   ]
  },
  {
   "cell_type": "code",
   "execution_count": null,
   "metadata": {},
   "outputs": [],
   "source": [
    "simclr = simclr_train.SimCLR(model=model,\n",
    "                             model_name='ResNet34',\n",
    "                             scheduler=scheduler,\n",
    "                             optimizer=optimizer,\n",
    "                             device=device,\n",
    "                             epochs=200)"
   ]
  },
  {
   "cell_type": "code",
   "execution_count": null,
   "metadata": {},
   "outputs": [],
   "source": [
    "simclr.train(train_loader=train_loader)"
   ]
  },
  {
   "cell_type": "code",
   "execution_count": null,
   "metadata": {},
   "outputs": [],
   "source": [
    "# log dir\n",
    "print(simclr.writer.log_dir)"
   ]
  },
  {
   "cell_type": "markdown",
   "metadata": {},
   "source": [
    "## Model Train"
   ]
  },
  {
   "cell_type": "code",
   "execution_count": null,
   "metadata": {},
   "outputs": [],
   "source": [
    "# (already downloaded) dataset path \n",
    "path = './data'\n",
    "\n",
    "train_loader, val_loader, test_loader = dataset.load_pcam(path=path, \n",
    "                                                          input_shape=96,\n",
    "                                                          augmentation=True,\n",
    "                                                          normalize=True,\n",
    "                                                          batch_size=256,\n",
    "                                                          seed=21)"
   ]
  },
  {
   "cell_type": "code",
   "execution_count": null,
   "metadata": {},
   "outputs": [],
   "source": [
    "backbone = ResNet34.ResNet34_Backbone(pretrain=False).to(device=device)\n",
    "model_temp = basic_simclr.BasicSimCLR(backbone).to(device=device)\n",
    "\n",
    "# path - ResNet \n",
    "file_path = 'checkpoint_0002.pth.tar'\n",
    "\n",
    "checkpoint_path = os.path.join(simclr.writer.log_dir, file_path)\n",
    "checkpoint = torch.load(checkpoint_path, map_location=device)\n",
    "model_temp.load_state_dict(checkpoint['state_dict'])"
   ]
  },
  {
   "cell_type": "code",
   "execution_count": null,
   "metadata": {},
   "outputs": [],
   "source": [
    "# backbone from SimCLR\n",
    "model = basic_classifier.BasicClassifier(backbone=backbone, \n",
    "                                         freezing=True, \n",
    "                                         num_classes=1).to(device=device)\n",
    "\n",
    "print(model)"
   ]
  },
  {
   "cell_type": "code",
   "execution_count": null,
   "metadata": {},
   "outputs": [],
   "source": [
    "EPOCHS = 50\n",
    "\n",
    "criterion = nn.BCELoss()\n",
    "optimizer = optim.Adam(model.parameters(), lr = 1e-3, weight_decay=1e-3)\n",
    "es = train.EarlyStopping(patience=EPOCHS//2, delta=0, mode='min', verbose=True)\n",
    "scheduler = optim.lr_scheduler.StepLR(optimizer, step_size=EPOCHS//5, gamma=0.9)\n",
    "\n",
    "history = {'train_loss' : [],\n",
    "           'val_loss': [],\n",
    "           'train_accuracy': [],\n",
    "           'val_accuracy': []}\n",
    "           \n",
    "max_loss = np.inf    "
   ]
  },
  {
   "cell_type": "code",
   "execution_count": null,
   "metadata": {},
   "outputs": [],
   "source": [
    "for epoch in range(EPOCHS):\n",
    "    train_loss, train_acc = train.model_train(model=model, \n",
    "                                              data_loader=train_loader, \n",
    "                                              criterion=criterion, \n",
    "                                              optimizer=optimizer, \n",
    "                                              device=device, \n",
    "                                              scheduler=scheduler, \n",
    "                                              tqdm_disable=False)\n",
    "    val_loss, val_acc = train.model_evaluate(model=model, \n",
    "                                             data_loader=val_loader, \n",
    "                                             criterion=criterion, \n",
    "                                             device=device)\n",
    "    \n",
    "    history['train_loss'].append(train_loss)\n",
    "    history['train_accuracy'].append(train_acc)\n",
    "    history['val_loss'].append(val_loss)\n",
    "    history['val_accuracy'].append(val_acc)\n",
    "    \n",
    "    es(val_loss)\n",
    "    # Early Stop Check\n",
    "    if es.early_stop:\n",
    "        break\n",
    "\n",
    "    if val_loss < max_loss:\n",
    "        print(f'[INFO] val_loss has been improved from {max_loss:.5f} to {val_loss:.5f}. Save model.')\n",
    "        max_loss = val_loss\n",
    "        torch.save(model.state_dict(), 'Best_Model_ResNet_3.pth')\n",
    "\n",
    "    print(f'epoch {epoch+1:02d}, loss: {train_loss:.5f}, accuracy: {train_acc:.5f}, val_loss: {val_loss:.5f}, val_accuracy: {val_acc:.5f} \\n')"
   ]
  },
  {
   "cell_type": "code",
   "execution_count": null,
   "metadata": {},
   "outputs": [],
   "source": [
    "train.plot_acc(history=history)"
   ]
  },
  {
   "cell_type": "code",
   "execution_count": null,
   "metadata": {},
   "outputs": [],
   "source": [
    "train.plot_loss(history=history)"
   ]
  },
  {
   "cell_type": "code",
   "execution_count": null,
   "metadata": {},
   "outputs": [],
   "source": [
    "backbone = VGG16.VGG16_Backbone(pretrain=False).to(device=device)\n",
    "model = basic_classifier.BasicClassifier(backbone=backbone, \n",
    "                                         freezing=True, \n",
    "                                         num_classes=1).to(device=device)\n",
    "\n",
    "model.load_state_dict(torch.load('Best_Model_ResNet_3.pth', map_location=device))\n",
    "model.eval()\n",
    "\n",
    "test_loss, test_acc = train.model_evaluate(model=model,\n",
    "                                           data_loader=test_loader,\n",
    "                                           criterion=criterion,\n",
    "                                           device=device)\n",
    "\n",
    "print('Test Loss: %s'%test_loss)\n",
    "print('Test Accuracy: %s'%test_acc)"
   ]
  }
 ],
 "metadata": {
  "kernelspec": {
   "display_name": "wsl",
   "language": "python",
   "name": "python3"
  },
  "language_info": {
   "codemirror_mode": {
    "name": "ipython",
    "version": 3
   },
   "file_extension": ".py",
   "mimetype": "text/x-python",
   "name": "python",
   "nbconvert_exporter": "python",
   "pygments_lexer": "ipython3",
   "version": "3.10.13"
  }
 },
 "nbformat": 4,
 "nbformat_minor": 2
}
